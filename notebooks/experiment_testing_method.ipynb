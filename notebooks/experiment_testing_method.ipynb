{
 "cells": [
  {
   "cell_type": "markdown",
   "id": "47b4de1f",
   "metadata": {},
   "source": [
    "## Тестирование Sparse Bayesian Regression"
   ]
  },
  {
   "cell_type": "code",
   "execution_count": 4,
   "id": "a9a91687",
   "metadata": {},
   "outputs": [],
   "source": [
    "import torch\n",
    "import torch.nn as nn\n",
    "from bmm_multitask.sparse_bayesian_regression import SparseBayesianRegression"
   ]
  },
  {
   "cell_type": "code",
   "execution_count": 2,
   "id": "4fb455fe",
   "metadata": {},
   "outputs": [],
   "source": [
    "# Генерация синтетических данных\n",
    "n_samples = 200\n",
    "n_features = 10\n",
    "X = torch.randn(n_samples, n_features)\n",
    "true_w = torch.zeros(n_features)\n",
    "true_w[:3] = torch.tensor([2.0, -3.0, 1.5])  # только первые 3 признака значимы\n",
    "y = X @ true_w + 0.5 * torch.randn(n_samples)\n",
    "Y = y.unsqueeze(1)"
   ]
  },
  {
   "cell_type": "code",
   "execution_count": 3,
   "id": "982f4014",
   "metadata": {},
   "outputs": [],
   "source": [
    "# Определение простой линейной модели\n",
    "torch.manual_seed(0)\n",
    "model = nn.Linear(n_features, 1, bias=False)"
   ]
  },
  {
   "cell_type": "code",
   "execution_count": 4,
   "id": "8e828928",
   "metadata": {},
   "outputs": [],
   "source": [
    "# Группы признаков (например, по 2 признака в группе)\n",
    "group_indices = [list(range(i, i+2)) for i in range(0, n_features, 2)]"
   ]
  },
  {
   "cell_type": "code",
   "execution_count": 8,
   "id": "0db66e3a",
   "metadata": {},
   "outputs": [
    {
     "ename": "RuntimeError",
     "evalue": "mat1 and mat2 shapes cannot be multiplied (2x1 and 2x1)",
     "output_type": "error",
     "traceback": [
      "\u001b[0;31m---------------------------------------------------------------------------\u001b[0m",
      "\u001b[0;31mRuntimeError\u001b[0m                              Traceback (most recent call last)",
      "Cell \u001b[0;32mIn[8], line 3\u001b[0m\n\u001b[1;32m      1\u001b[0m \u001b[38;5;66;03m# Инициализация и обучение Sparse Bayesian Regression\u001b[39;00m\n\u001b[1;32m      2\u001b[0m sbr \u001b[38;5;241m=\u001b[39m SparseBayesianRegression(model, group_indices, device\u001b[38;5;241m=\u001b[39m\u001b[38;5;124m'\u001b[39m\u001b[38;5;124mcpu\u001b[39m\u001b[38;5;124m'\u001b[39m)\n\u001b[0;32m----> 3\u001b[0m sbr\u001b[38;5;241m.\u001b[39mfit(X, Y, num_iter\u001b[38;5;241m=\u001b[39m\u001b[38;5;241m20\u001b[39m)\n",
      "File \u001b[0;32m~/BMM/project2/sparse_bayesian_regression.py:80\u001b[0m, in \u001b[0;36mSparseBayesianRegression.fit\u001b[0;34m(self, X, Y, num_iter)\u001b[0m\n\u001b[1;32m     78\u001b[0m \u001b[38;5;28;01mfor\u001b[39;00m _ \u001b[38;5;129;01min\u001b[39;00m \u001b[38;5;28mrange\u001b[39m(num_iter):\n\u001b[1;32m     79\u001b[0m     post \u001b[38;5;241m=\u001b[39m \u001b[38;5;28mself\u001b[39m\u001b[38;5;241m.\u001b[39me_step(X, Y)\n\u001b[0;32m---> 80\u001b[0m     \u001b[38;5;28mself\u001b[39m\u001b[38;5;241m.\u001b[39mm_step(post)\n\u001b[1;32m     81\u001b[0m     \u001b[38;5;28mself\u001b[39m\u001b[38;5;241m.\u001b[39m_set_flat_params(post[\u001b[38;5;124m\"\u001b[39m\u001b[38;5;124mmu\u001b[39m\u001b[38;5;124m\"\u001b[39m])\n",
      "File \u001b[0;32m~/BMM/project2/sparse_bayesian_regression.py:71\u001b[0m, in \u001b[0;36mSparseBayesianRegression.m_step\u001b[0;34m(self, post)\u001b[0m\n\u001b[1;32m     69\u001b[0m Sigma_gg \u001b[38;5;241m=\u001b[39m Sigma[idxs][:, idxs]\n\u001b[1;32m     70\u001b[0m \u001b[38;5;66;03m# Обновление λ_g и γ_g (см. 4.2)\u001b[39;00m\n\u001b[0;32m---> 71\u001b[0m E_w2 \u001b[38;5;241m=\u001b[39m mu_g \u001b[38;5;241m@\u001b[39m mu_g \u001b[38;5;241m+\u001b[39m torch\u001b[38;5;241m.\u001b[39mtrace(Sigma_gg)\n\u001b[1;32m     72\u001b[0m \u001b[38;5;28mself\u001b[39m\u001b[38;5;241m.\u001b[39mlambdas[g] \u001b[38;5;241m=\u001b[39m (\u001b[38;5;28mlen\u001b[39m(idxs) \u001b[38;5;241m+\u001b[39m \u001b[38;5;241m2\u001b[39m \u001b[38;5;241m*\u001b[39m \u001b[38;5;241m1e-6\u001b[39m) \u001b[38;5;241m/\u001b[39m (E_w2 \u001b[38;5;241m+\u001b[39m \u001b[38;5;241m2\u001b[39m \u001b[38;5;241m*\u001b[39m \u001b[38;5;241m1e-6\u001b[39m)  \u001b[38;5;66;03m# регуляризация\u001b[39;00m\n\u001b[1;32m     73\u001b[0m \u001b[38;5;28mself\u001b[39m\u001b[38;5;241m.\u001b[39mgammas[g] \u001b[38;5;241m=\u001b[39m \u001b[38;5;241m1.0\u001b[39m\n",
      "\u001b[0;31mRuntimeError\u001b[0m: mat1 and mat2 shapes cannot be multiplied (2x1 and 2x1)"
     ]
    }
   ],
   "source": [
    "# Инициализация и обучение Sparse Bayesian Regression\n",
    "sbr = SparseBayesianRegression(model, group_indices, device='cpu')\n",
    "sbr.fit(X, Y, num_iter=20)"
   ]
  },
  {
   "cell_type": "code",
   "execution_count": null,
   "id": "15ec8217",
   "metadata": {},
   "outputs": [],
   "source": [
    "# Предсказания и сравнение с обычной линейной регрессией\n",
    "with torch.no_grad():\n",
    "    y_pred_sbr = sbr.predict(X).squeeze()\n",
    "    # Обычная линейная регрессия для сравнения\n",
    "    ols = nn.Linear(n_features, 1, bias=False)\n",
    "    optimizer = torch.optim.SGD(ols.parameters(), lr=0.1)\n",
    "    for _ in range(200):\n",
    "        optimizer.zero_grad()\n",
    "        loss = ((ols(X).squeeze() - y) ** 2).mean()\n",
    "        loss.backward()\n",
    "        optimizer.step()\n",
    "    y_pred_ols = ols(X).squeeze()"
   ]
  },
  {
   "cell_type": "code",
   "execution_count": null,
   "id": "bd0ed31a",
   "metadata": {},
   "outputs": [],
   "source": [
    "# Визуализация весов\n",
    "plt.figure(figsize=(10,4))\n",
    "plt.stem(true_w.numpy(), linefmt='g-', markerfmt='go', basefmt=' ', label='Истинные веса')\n",
    "plt.stem(sbr._get_flat_params().cpu().numpy(), linefmt='b-', markerfmt='bo', basefmt=' ', label='Sparse Bayesian')\n",
    "plt.stem(ols.weight.detach().cpu().numpy().flatten(), linefmt='r--', markerfmt='ro', basefmt=' ', label='OLS')\n",
    "plt.legend()\n",
    "plt.title('Сравнение весов моделей')\n",
    "plt.xlabel('Индекс признака')\n",
    "plt.ylabel('Вес')\n",
    "plt.show()"
   ]
  },
  {
   "cell_type": "code",
   "execution_count": null,
   "id": "bca2c21f",
   "metadata": {},
   "outputs": [],
   "source": [
    "# Визуализация предсказаний\n",
    "plt.figure(figsize=(6,6))\n",
    "plt.scatter(y.numpy(), y_pred_sbr.numpy(), alpha=0.7, label='Sparse Bayesian')\n",
    "plt.scatter(y.numpy(), y_pred_ols.numpy(), alpha=0.7, label='OLS', marker='x')\n",
    "plt.plot(y.numpy(), y.numpy(), 'k--', label='y = y')\n",
    "plt.xlabel('Истинные значения')\n",
    "plt.ylabel('Предсказанные значения')\n",
    "plt.legend()\n",
    "plt.title('Сравнение предсказаний моделей')\n",
    "plt.show()"
   ]
  }
 ],
 "metadata": {
  "kernelspec": {
   "display_name": ".venv",
   "language": "python",
   "name": "python3"
  },
  "language_info": {
   "codemirror_mode": {
    "name": "ipython",
    "version": 3
   },
   "file_extension": ".py",
   "mimetype": "text/x-python",
   "name": "python",
   "nbconvert_exporter": "python",
   "pygments_lexer": "ipython3",
   "version": "3.12.10"
  }
 },
 "nbformat": 4,
 "nbformat_minor": 5
}
