{
 "cells": [
  {
   "cell_type": "markdown",
   "metadata": {},
   "source": [
    "демо алгоритм для репы\n",
    "\n",
    "есть несколько сгенерированных меток для данных. \n",
    "Для каждой просто учим отдельную модель"
   ]
  },
  {
   "cell_type": "markdown",
   "metadata": {},
   "source": [
    "Данные генерируются иерархично при помощи N-coalescent, чтобы веса были зависимы\n",
    "\n",
    "\n",
    "Далее выкидываем часть данных по каждой задаче и обучаем свою модель"
   ]
  },
  {
   "cell_type": "code",
   "execution_count": 2,
   "metadata": {},
   "outputs": [],
   "source": [
    "import numpy as np\n",
    "from tabulate import tabulate\n",
    "from sklearn.linear_model import LinearRegression"
   ]
  },
  {
   "cell_type": "code",
   "execution_count": 28,
   "metadata": {},
   "outputs": [],
   "source": [
    "def generate_coalescent(K):\n",
    "    nodes = set(range(K))\n",
    "    tree_nodes = {i: {\"parent\":None, \"children\": [], \"delta\": -float(\"inf\")} for i in range(K)}\n",
    "    new_node = -1\n",
    "    while len(nodes) > 1:\n",
    "        l, r = np.random.choice(list(nodes), 2, replace=False,)\n",
    "        nodes.remove(l)\n",
    "        nodes.remove(r)\n",
    "        \n",
    "        new_node = max(tree_nodes.keys()) + 1\n",
    "        \n",
    "        nodes.add(new_node)\n",
    "        tree_nodes[new_node] = {\"parent\": None, \"children\": [l,r], \"delta\": -float(\"inf\")}\n",
    "        \n",
    "        tree_nodes[l][\"parent\"] = new_node\n",
    "        tree_nodes[r][\"parent\"] = new_node\n",
    "        tree_nodes[l][\"delta\"] = np.random.exponential(1)\n",
    "        tree_nodes[r][\"delta\"] = np.random.exponential(1)\n",
    "    \n",
    "    tree_nodes['root'] = tree_nodes[new_node]\n",
    "    return tree_nodes\n",
    "\n",
    "def get_weights(tree, d, sigma):\n",
    "    weights = []\n",
    "    def generate_w(node, tree, d, sigma,):\n",
    "        if node[\"parent\"] is None:\n",
    "            node[\"w\"] = np.random.randn(d)\n",
    "        else:\n",
    "            node[\"w\"] = np.random.normal(tree[node[\"parent\"]][\"w\"], sigma * (node[\"delta\"]))\n",
    "            \n",
    "        for child in node[\"children\"]:\n",
    "            generate_w(tree[child], tree, d, sigma)\n",
    "        if len(node[\"children\"]) == 0:\n",
    "            weights.append(node[\"w\"])\n",
    "    generate_w(tree['root'], tree, d, sigma)\n",
    "    return np.stack(weights)\n",
    "        \n"
   ]
  },
  {
   "cell_type": "code",
   "execution_count": 29,
   "metadata": {},
   "outputs": [
    {
     "name": "stdout",
     "output_type": "stream",
     "text": [
      "(500, 5)\n"
     ]
    }
   ],
   "source": [
    "n = 500\n",
    "K = 5\n",
    "d = 10\n",
    "sigma = 0.1\n",
    "tree = generate_coalescent(K)\n",
    "weights = get_weights(tree, d, sigma)\n",
    "\n",
    "X = np.random.randn(n, d)\n",
    "Y = np.dot(X, weights.T) + np.random.randn(n, K) * 1\n",
    "print(Y.shape)"
   ]
  },
  {
   "cell_type": "markdown",
   "metadata": {},
   "source": [
    "обучим модель для каждой задачи и покажем результаты по каждой задаче"
   ]
  },
  {
   "cell_type": "code",
   "execution_count": 30,
   "metadata": {},
   "outputs": [
    {
     "name": "stdout",
     "output_type": "stream",
     "text": [
      "+----------+-----------+-----------+-----------+-----------+-----------+\n",
      "| Metric   |   Value_0 |   Value_1 |   Value_2 |   Value_3 |   Value_4 |\n",
      "+==========+===========+===========+===========+===========+===========+\n",
      "| R2       |  0.900486 |  0.877445 |   0.81383 |  0.858428 |  0.893178 |\n",
      "+----------+-----------+-----------+-----------+-----------+-----------+\n",
      "| MSE      |  0.969445 |  0.967503 |   1.00958 |  1.04264  |  0.886175 |\n",
      "+----------+-----------+-----------+-----------+-----------+-----------+\n"
     ]
    }
   ],
   "source": [
    "models = []\n",
    "for i in range(Y.shape[1]):\n",
    "    model = LinearRegression()\n",
    "    model.fit(X, Y[:, i])\n",
    "    models.append(model)\n",
    "\n",
    "# now we compute r2 and mean squared error\n",
    "r2 = []\n",
    "mse = []\n",
    "for i in range(Y.shape[1]):\n",
    "    r2.append(models[i].score(X, Y[:, i]))\n",
    "    mse.append(np.mean((models[i].predict(X) - Y[:, i])**2))\n",
    "\n",
    "print(tabulate([[\"R2\", *r2], [\"MSE\", *mse]], headers=[\"Metric\", *[f\"Value_{i}\" for i in range(K)]], tablefmt=\"grid\"))"
   ]
  }
 ],
 "metadata": {
  "kernelspec": {
   "display_name": "DL",
   "language": "python",
   "name": "python3"
  },
  "language_info": {
   "codemirror_mode": {
    "name": "ipython",
    "version": 3
   },
   "file_extension": ".py",
   "mimetype": "text/x-python",
   "name": "python",
   "nbconvert_exporter": "python",
   "pygments_lexer": "ipython3",
   "version": "3.12.7"
  }
 },
 "nbformat": 4,
 "nbformat_minor": 2
}
