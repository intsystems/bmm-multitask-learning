{
 "cells": [
  {
   "cell_type": "markdown",
   "metadata": {},
   "source": [
    "# Variational multitask learning elementary example"
   ]
  },
  {
   "cell_type": "markdown",
   "metadata": {},
   "source": [
    "This is a practical demonstration on how to use `variational` subpackage on a simple classification example. We are going to solve 3 classification tasks with logistic regression as a model. Additionally, we will add prior on the weight so the tasks become bayessian. Two of the tasks will be probabilsitcally connected, the last will have no probabilistic connections with others.\n",
    "\n",
    "First, we will apply variational principle to learn each task individually. We will use [`pyro`](https://pyro.ai/examples/index.html) package to automatically compute ELBO and minimize it.\n",
    "\n",
    "Secondly, we will use `variational` subpackage and learn 3 tasks alltogether. Learning here is the same ELBO minimizing, but for special variational structure - see [doc](../../../docs/variational/intro.md) for more details.\n",
    "\n",
    "Lastly, we will compare two approaches in accuracy terms."
   ]
  },
  {
   "cell_type": "code",
   "execution_count": 1,
   "metadata": {},
   "outputs": [],
   "source": [
    "from typing import Optional\n",
    "\n",
    "from pipe import select\n",
    "\n",
    "from omegaconf import OmegaConf\n",
    "\n",
    "import pandas as pd\n",
    "import numpy as np\n",
    "\n",
    "import plotly.express as px\n",
    "import plotly.graph_objects as go\n",
    "\n",
    "import matplotlib.pyplot as plt\n",
    "\n",
    "import torch\n",
    "import torch.nn as nn\n",
    "from torch.utils.data import DataLoader, random_split, StackDataset\n",
    "from torch import optim\n",
    "from torch import distributions as distr\n",
    "\n",
    "import pyro\n",
    "import pyro.nn as pnn\n",
    "import pyro.distributions as pdistr\n",
    "from pyro.distributions import Delta\n",
    "from pyro.infer import Trace_ELBO\n",
    "from pyro.infer.autoguide import AutoNormal\n",
    "\n",
    "import lightning as L\n",
    "from lightning.pytorch.loggers import TensorBoardLogger\n",
    "from lightning.pytorch.callbacks import EarlyStopping\n",
    "\n",
    "from torchmetrics.classification import Accuracy\n",
    "\n",
    "from bmm_multitask_learning.variational.elbo import MultiTaskElbo\n",
    "from bmm_multitask_learning.variational.distr import build_predictive"
   ]
  },
  {
   "cell_type": "code",
   "execution_count": 2,
   "metadata": {},
   "outputs": [],
   "source": [
    "%load_ext tensorboard"
   ]
  },
  {
   "cell_type": "markdown",
   "metadata": {},
   "source": [
    "The experiment is configurable via [yaml config](config.yaml)."
   ]
  },
  {
   "cell_type": "code",
   "execution_count": 3,
   "metadata": {},
   "outputs": [],
   "source": [
    "config = OmegaConf.load(\"config.yaml\")"
   ]
  },
  {
   "cell_type": "code",
   "execution_count": 4,
   "metadata": {},
   "outputs": [],
   "source": [
    "torch.manual_seed(config.seed);"
   ]
  },
  {
   "cell_type": "markdown",
   "metadata": {},
   "source": [
    "## Data"
   ]
  },
  {
   "cell_type": "markdown",
   "metadata": {},
   "source": [
    "For each task we generate 2-dimensional inputs $X$ where each individual input $x$ is\n",
    "\n",
    "$$\n",
    "    x \\sim \\mathcal{N}(\\mu, \\sigma_x^2)\n",
    "$$\n",
    "\n",
    "For task 1 and 2 these are very close to each other.\n",
    "\n",
    "Then we generate logistic regression parameter $w$ as\n",
    "\n",
    "$$\n",
    "    w_1 \\sim \\mathcal{N}(\\mathbb{E}[X_2], \\sigma_w^2) \\\\ \n",
    "    w_2 \\sim \\mathcal{N}(\\mathbb{E}[X_1], \\sigma_w^2) \\\\\n",
    "    w_3 \\sim \\mathcal{N}(\\mathbf{1}, \\sigma_w^2)\n",
    "$$\n",
    "\n",
    "Because $X_1$ and $X_2$ are close, distribuitions for $w_1$ and $w_2$ will be close too. This connection can be utilized by variational multitask approach.\n",
    "\n",
    "Finally, label $y$ for input $x$ generated as \n",
    "\n",
    "$$\n",
    "    y \\sim \\text{Bern}(\\sigma(x^{T}w))\n",
    "$$"
   ]
  },
  {
   "cell_type": "markdown",
   "metadata": {},
   "source": [
    "Data generation with given schema is defined in [data.py](data.py)"
   ]
  },
  {
   "cell_type": "code",
   "execution_count": 5,
   "metadata": {},
   "outputs": [],
   "source": [
    "from data import build_linked_datasets, build_solo_dataset\n",
    "\n",
    "NUM_MODELS = 3\n",
    "\n",
    "\n",
    "datasets = [*build_linked_datasets(config.size, config.dim), build_solo_dataset(config.size, config.dim)]\n",
    "# extract w\n",
    "w_list = list(\n",
    "    datasets | select(lambda w_dataset: w_dataset[0])\n",
    ")\n",
    "# extract (X, y) pairs\n",
    "datasets = list(\n",
    "    datasets |\n",
    "    select(lambda w_dataset: w_dataset[1]) |\n",
    "    select(lambda d: random_split(d, [1 - config.test_ratio, config.test_ratio]))\n",
    ")\n",
    "\n",
    "train_datasets, test_datasets = zip(*datasets)"
   ]
  },
  {
   "cell_type": "markdown",
   "metadata": {},
   "source": [
    "Let's vizualize generated inputs and $w$ vectors for each task"
   ]
  },
  {
   "cell_type": "code",
   "execution_count": 6,
   "metadata": {},
   "outputs": [
    {
     "data": {
      "application/vnd.microsoft.datawrangler.viewer.v0+json": {
       "columns": [
        {
         "name": "index",
         "rawType": "int64",
         "type": "integer"
        },
        {
         "name": "x1",
         "rawType": "float32",
         "type": "float"
        },
        {
         "name": "x2",
         "rawType": "float32",
         "type": "float"
        },
        {
         "name": "dataset",
         "rawType": "object",
         "type": "string"
        }
       ],
       "conversionMethod": "pd.DataFrame",
       "ref": "17dd3825-079b-4e69-a08b-f90f6ce16f61",
       "rows": [
        [
         "0",
         "-0.094633624",
         "-2.3359578",
         "0"
        ],
        [
         "1",
         "10.453235",
         "3.087356",
         "0"
        ],
        [
         "2",
         "-2.8137417",
         "-2.073199",
         "0"
        ],
        [
         "3",
         "-6.502639",
         "-0.50982493",
         "0"
        ],
        [
         "4",
         "-5.4921374",
         "-2.3346376",
         "0"
        ]
       ],
       "shape": {
        "columns": 3,
        "rows": 5
       }
      },
      "text/html": [
       "<div>\n",
       "<style scoped>\n",
       "    .dataframe tbody tr th:only-of-type {\n",
       "        vertical-align: middle;\n",
       "    }\n",
       "\n",
       "    .dataframe tbody tr th {\n",
       "        vertical-align: top;\n",
       "    }\n",
       "\n",
       "    .dataframe thead th {\n",
       "        text-align: right;\n",
       "    }\n",
       "</style>\n",
       "<table border=\"1\" class=\"dataframe\">\n",
       "  <thead>\n",
       "    <tr style=\"text-align: right;\">\n",
       "      <th></th>\n",
       "      <th>x1</th>\n",
       "      <th>x2</th>\n",
       "      <th>dataset</th>\n",
       "    </tr>\n",
       "  </thead>\n",
       "  <tbody>\n",
       "    <tr>\n",
       "      <th>0</th>\n",
       "      <td>-0.094634</td>\n",
       "      <td>-2.335958</td>\n",
       "      <td>0</td>\n",
       "    </tr>\n",
       "    <tr>\n",
       "      <th>1</th>\n",
       "      <td>10.453235</td>\n",
       "      <td>3.087356</td>\n",
       "      <td>0</td>\n",
       "    </tr>\n",
       "    <tr>\n",
       "      <th>2</th>\n",
       "      <td>-2.813742</td>\n",
       "      <td>-2.073199</td>\n",
       "      <td>0</td>\n",
       "    </tr>\n",
       "    <tr>\n",
       "      <th>3</th>\n",
       "      <td>-6.502639</td>\n",
       "      <td>-0.509825</td>\n",
       "      <td>0</td>\n",
       "    </tr>\n",
       "    <tr>\n",
       "      <th>4</th>\n",
       "      <td>-5.492137</td>\n",
       "      <td>-2.334638</td>\n",
       "      <td>0</td>\n",
       "    </tr>\n",
       "  </tbody>\n",
       "</table>\n",
       "</div>"
      ],
      "text/plain": [
       "          x1        x2 dataset\n",
       "0  -0.094634 -2.335958       0\n",
       "1  10.453235  3.087356       0\n",
       "2  -2.813742 -2.073199       0\n",
       "3  -6.502639 -0.509825       0\n",
       "4  -5.492137 -2.334638       0"
      ]
     },
     "execution_count": 6,
     "metadata": {},
     "output_type": "execute_result"
    }
   ],
   "source": [
    "points_df = []\n",
    "\n",
    "for i, dataset in enumerate(train_datasets):\n",
    "    X = dataset.dataset.tensors[0].numpy()\n",
    "    cur_df = pd.DataFrame(X, columns=[\"x1\", \"x2\"])\n",
    "    cur_df[\"dataset\"] = str(i)\n",
    "    points_df.append(cur_df)\n",
    "points_df = pd.concat(points_df, axis=0)\n",
    "\n",
    "points_df.head()"
   ]
  },
  {
   "cell_type": "code",
   "execution_count": 7,
   "metadata": {},
   "outputs": [
    {
     "data": {
      "application/vnd.microsoft.datawrangler.viewer.v0+json": {
       "columns": [
        {
         "name": "index",
         "rawType": "int64",
         "type": "integer"
        },
        {
         "name": "x1",
         "rawType": "float64",
         "type": "float"
        },
        {
         "name": "x2",
         "rawType": "float64",
         "type": "float"
        },
        {
         "name": "dataset",
         "rawType": "object",
         "type": "string"
        }
       ],
       "conversionMethod": "pd.DataFrame",
       "ref": "7ea38a44-3fe2-4603-bb29-890164df1c8d",
       "rows": [
        [
         "0",
         "9.379682540893555",
         "-1.8076980113983154",
         "1"
        ],
        [
         "1",
         "7.295308642917209",
         "-1.4059873421986897",
         "1"
        ],
        [
         "2",
         "5.210934744940864",
         "-1.0042766729990642",
         "1"
        ],
        [
         "3",
         "3.126560846964518",
         "-0.6025660037994385",
         "1"
        ],
        [
         "4",
         "1.0421869489881723",
         "-0.20085533459981275",
         "1"
        ]
       ],
       "shape": {
        "columns": 3,
        "rows": 5
       }
      },
      "text/html": [
       "<div>\n",
       "<style scoped>\n",
       "    .dataframe tbody tr th:only-of-type {\n",
       "        vertical-align: middle;\n",
       "    }\n",
       "\n",
       "    .dataframe tbody tr th {\n",
       "        vertical-align: top;\n",
       "    }\n",
       "\n",
       "    .dataframe thead th {\n",
       "        text-align: right;\n",
       "    }\n",
       "</style>\n",
       "<table border=\"1\" class=\"dataframe\">\n",
       "  <thead>\n",
       "    <tr style=\"text-align: right;\">\n",
       "      <th></th>\n",
       "      <th>x1</th>\n",
       "      <th>x2</th>\n",
       "      <th>dataset</th>\n",
       "    </tr>\n",
       "  </thead>\n",
       "  <tbody>\n",
       "    <tr>\n",
       "      <th>0</th>\n",
       "      <td>9.379683</td>\n",
       "      <td>-1.807698</td>\n",
       "      <td>1</td>\n",
       "    </tr>\n",
       "    <tr>\n",
       "      <th>1</th>\n",
       "      <td>7.295309</td>\n",
       "      <td>-1.405987</td>\n",
       "      <td>1</td>\n",
       "    </tr>\n",
       "    <tr>\n",
       "      <th>2</th>\n",
       "      <td>5.210935</td>\n",
       "      <td>-1.004277</td>\n",
       "      <td>1</td>\n",
       "    </tr>\n",
       "    <tr>\n",
       "      <th>3</th>\n",
       "      <td>3.126561</td>\n",
       "      <td>-0.602566</td>\n",
       "      <td>1</td>\n",
       "    </tr>\n",
       "    <tr>\n",
       "      <th>4</th>\n",
       "      <td>1.042187</td>\n",
       "      <td>-0.200855</td>\n",
       "      <td>1</td>\n",
       "    </tr>\n",
       "  </tbody>\n",
       "</table>\n",
       "</div>"
      ],
      "text/plain": [
       "         x1        x2 dataset\n",
       "0  9.379683 -1.807698       1\n",
       "1  7.295309 -1.405987       1\n",
       "2  5.210935 -1.004277       1\n",
       "3  3.126561 -0.602566       1\n",
       "4  1.042187 -0.200855       1"
      ]
     },
     "execution_count": 7,
     "metadata": {},
     "output_type": "execute_result"
    }
   ],
   "source": [
    "plane_df = []\n",
    "for i, w in enumerate(w_list):\n",
    "    w = w.numpy()\n",
    "    cur_df = pd.DataFrame(np.linspace(-20, 20, 10)[:, None] * w[None, :], columns=[\"x1\", \"x2\"])\n",
    "    cur_df[\"dataset\"] = str(i+1)\n",
    "    plane_df.append(cur_df)\n",
    "plane_df = pd.concat(plane_df, axis=0)\n",
    "\n",
    "plane_df.head()"
   ]
  },
  {
   "cell_type": "code",
   "execution_count": 8,
   "metadata": {},
   "outputs": [
    {
     "data": {
      "application/vnd.plotly.v1+json": {
       "config": {
        "plotlyServerURL": "https://plot.ly"
       },
       "data": [
        {
         "hovertemplate": "dataset=0<br>x1=%{x}<br>x2=%{y}<extra></extra>",
         "legendgroup": "0",
         "marker": {
          "color": "#636efa",
          "symbol": "circle"
         },
         "mode": "markers",
         "name": "0",
         "showlegend": true,
         "type": "scattergl",
         "x": {
          "bdata": "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",
          "dtype": "f4"
         },
         "xaxis": "x",
         "y": {
          "bdata": "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",
          "dtype": "f4"
         },
         "yaxis": "y"
        },
        {
         "hovertemplate": "dataset=1<br>x1=%{x}<br>x2=%{y}<extra></extra>",
         "legendgroup": "1",
         "marker": {
          "color": "#EF553B",
          "symbol": "diamond"
         },
         "mode": "markers",
         "name": "1",
         "showlegend": true,
         "type": "scattergl",
         "x": {
          "bdata": "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",
          "dtype": "f4"
         },
         "xaxis": "x",
         "y": {
          "bdata": "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",
          "dtype": "f4"
         },
         "yaxis": "y"
        },
        {
         "hovertemplate": "dataset=2<br>x1=%{x}<br>x2=%{y}<extra></extra>",
         "legendgroup": "2",
         "marker": {
          "color": "#00cc96",
          "symbol": "square"
         },
         "mode": "markers",
         "name": "2",
         "showlegend": true,
         "type": "scattergl",
         "x": {
          "bdata": "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",
          "dtype": "f4"
         },
         "xaxis": "x",
         "y": {
          "bdata": "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",
          "dtype": "f4"
         },
         "yaxis": "y"
        },
        {
         "hovertemplate": "dataset=1<br>x1=%{x}<br>x2=%{y}<extra></extra>",
         "legendgroup": "1",
         "line": {
          "color": "#636efa",
          "dash": "solid",
          "width": 3
         },
         "marker": {
          "symbol": "circle"
         },
         "mode": "lines",
         "name": "1",
         "orientation": "v",
         "showlegend": true,
         "type": "scatter",
         "x": {
          "bdata": "AAAAwGXCIkDjOI5jZS4dQMdxHEf/1xRAVVVVVTIDCUA3juM4zKzwPzeO4zjMrPC/V1VVVTIDCcDJcRxH/9cUwOQ4jmNlLh3AAAAAwGXCIsA=",
          "dtype": "f8"
         },
         "xaxis": "x",
         "y": {
          "bdata": "AAAAwFTs/L9VVVWV7H72v6uqqmqEEfC/AAAAgDhI47+oqqqqoLXJv6iqqqqgtck/AQAAgDhI4z+sqqpqhBHwP1ZVVZXsfvY/AAAAwFTs/D8=",
          "dtype": "f8"
         },
         "yaxis": "y"
        },
        {
         "hovertemplate": "dataset=2<br>x1=%{x}<br>x2=%{y}<extra></extra>",
         "legendgroup": "2",
         "line": {
          "color": "#EF553B",
          "dash": "solid",
          "width": 3
         },
         "marker": {
          "symbol": "circle"
         },
         "mode": "lines",
         "name": "2",
         "orientation": "v",
         "showlegend": true,
         "type": "scatter",
         "x": {
          "bdata": "AAAApGTWIUAAAAA4R78bQAAAACjF0RNA////L4bIB0D9//8/CLbvP/3//z8Itu+/AQAAMIbIB8ACAAAoxdETwAEAADhHvxvAAAAApGTWIcA=",
          "dtype": "f8"
         },
         "xaxis": "x",
         "y": {
          "bdata": "AAAA6Kdf8L9VVVWFWnjpv6qqqjplMeK/////39/U1b+oqqoq1Ru9v6iqqirVG70/AQAA4N/U1T+sqqo6ZTHiP1ZVVYVaeOk/AAAA6Kdf8D8=",
          "dtype": "f8"
         },
         "yaxis": "y"
        },
        {
         "hovertemplate": "dataset=3<br>x1=%{x}<br>x2=%{y}<extra></extra>",
         "legendgroup": "3",
         "line": {
          "color": "#00cc96",
          "dash": "solid",
          "width": 3
         },
         "marker": {
          "symbol": "circle"
         },
         "mode": "lines",
         "name": "3",
         "orientation": "v",
         "showlegend": true,
         "type": "scatter",
         "x": {
          "bdata": "AAAAyEH6NMAcx3HU3VAwwHIcx8HzTifAVVVVtVf4G8CM4zjOj6UCwIzjOM6PpQJAV1VVtVf4G0B0HMfB804nQB3HcdTdUDBAAAAAyEH6NEA=",
          "dtype": "f8"
         },
         "xaxis": "x",
         "y": {
          "bdata": "AAAAGCQQM8DHcRyXVKctwI7jOP5gLiXAqqqqytpqGcBwHMcx5/EAwHAcxzHn8QBArKqqytpqGUCQ4zj+YC4lQMhxHJdUpy1AAAAAGCQQM0A=",
          "dtype": "f8"
         },
         "yaxis": "y"
        }
       ],
       "layout": {
        "template": {
         "data": {
          "bar": [
           {
            "error_x": {
             "color": "#2a3f5f"
            },
            "error_y": {
             "color": "#2a3f5f"
            },
            "marker": {
             "line": {
              "color": "#E5ECF6",
              "width": 0.5
             },
             "pattern": {
              "fillmode": "overlay",
              "size": 10,
              "solidity": 0.2
             }
            },
            "type": "bar"
           }
          ],
          "barpolar": [
           {
            "marker": {
             "line": {
              "color": "#E5ECF6",
              "width": 0.5
             },
             "pattern": {
              "fillmode": "overlay",
              "size": 10,
              "solidity": 0.2
             }
            },
            "type": "barpolar"
           }
          ],
          "carpet": [
           {
            "aaxis": {
             "endlinecolor": "#2a3f5f",
             "gridcolor": "white",
             "linecolor": "white",
             "minorgridcolor": "white",
             "startlinecolor": "#2a3f5f"
            },
            "baxis": {
             "endlinecolor": "#2a3f5f",
             "gridcolor": "white",
             "linecolor": "white",
             "minorgridcolor": "white",
             "startlinecolor": "#2a3f5f"
            },
            "type": "carpet"
           }
          ],
          "choropleth": [
           {
            "colorbar": {
             "outlinewidth": 0,
             "ticks": ""
            },
            "type": "choropleth"
           }
          ],
          "contour": [
           {
            "colorbar": {
             "outlinewidth": 0,
             "ticks": ""
            },
            "colorscale": [
             [
              0,
              "#0d0887"
             ],
             [
              0.1111111111111111,
              "#46039f"
             ],
             [
              0.2222222222222222,
              "#7201a8"
             ],
             [
              0.3333333333333333,
              "#9c179e"
             ],
             [
              0.4444444444444444,
              "#bd3786"
             ],
             [
              0.5555555555555556,
              "#d8576b"
             ],
             [
              0.6666666666666666,
              "#ed7953"
             ],
             [
              0.7777777777777778,
              "#fb9f3a"
             ],
             [
              0.8888888888888888,
              "#fdca26"
             ],
             [
              1,
              "#f0f921"
             ]
            ],
            "type": "contour"
           }
          ],
          "contourcarpet": [
           {
            "colorbar": {
             "outlinewidth": 0,
             "ticks": ""
            },
            "type": "contourcarpet"
           }
          ],
          "heatmap": [
           {
            "colorbar": {
             "outlinewidth": 0,
             "ticks": ""
            },
            "colorscale": [
             [
              0,
              "#0d0887"
             ],
             [
              0.1111111111111111,
              "#46039f"
             ],
             [
              0.2222222222222222,
              "#7201a8"
             ],
             [
              0.3333333333333333,
              "#9c179e"
             ],
             [
              0.4444444444444444,
              "#bd3786"
             ],
             [
              0.5555555555555556,
              "#d8576b"
             ],
             [
              0.6666666666666666,
              "#ed7953"
             ],
             [
              0.7777777777777778,
              "#fb9f3a"
             ],
             [
              0.8888888888888888,
              "#fdca26"
             ],
             [
              1,
              "#f0f921"
             ]
            ],
            "type": "heatmap"
           }
          ],
          "histogram": [
           {
            "marker": {
             "pattern": {
              "fillmode": "overlay",
              "size": 10,
              "solidity": 0.2
             }
            },
            "type": "histogram"
           }
          ],
          "histogram2d": [
           {
            "colorbar": {
             "outlinewidth": 0,
             "ticks": ""
            },
            "colorscale": [
             [
              0,
              "#0d0887"
             ],
             [
              0.1111111111111111,
              "#46039f"
             ],
             [
              0.2222222222222222,
              "#7201a8"
             ],
             [
              0.3333333333333333,
              "#9c179e"
             ],
             [
              0.4444444444444444,
              "#bd3786"
             ],
             [
              0.5555555555555556,
              "#d8576b"
             ],
             [
              0.6666666666666666,
              "#ed7953"
             ],
             [
              0.7777777777777778,
              "#fb9f3a"
             ],
             [
              0.8888888888888888,
              "#fdca26"
             ],
             [
              1,
              "#f0f921"
             ]
            ],
            "type": "histogram2d"
           }
          ],
          "histogram2dcontour": [
           {
            "colorbar": {
             "outlinewidth": 0,
             "ticks": ""
            },
            "colorscale": [
             [
              0,
              "#0d0887"
             ],
             [
              0.1111111111111111,
              "#46039f"
             ],
             [
              0.2222222222222222,
              "#7201a8"
             ],
             [
              0.3333333333333333,
              "#9c179e"
             ],
             [
              0.4444444444444444,
              "#bd3786"
             ],
             [
              0.5555555555555556,
              "#d8576b"
             ],
             [
              0.6666666666666666,
              "#ed7953"
             ],
             [
              0.7777777777777778,
              "#fb9f3a"
             ],
             [
              0.8888888888888888,
              "#fdca26"
             ],
             [
              1,
              "#f0f921"
             ]
            ],
            "type": "histogram2dcontour"
           }
          ],
          "mesh3d": [
           {
            "colorbar": {
             "outlinewidth": 0,
             "ticks": ""
            },
            "type": "mesh3d"
           }
          ],
          "parcoords": [
           {
            "line": {
             "colorbar": {
              "outlinewidth": 0,
              "ticks": ""
             }
            },
            "type": "parcoords"
           }
          ],
          "pie": [
           {
            "automargin": true,
            "type": "pie"
           }
          ],
          "scatter": [
           {
            "fillpattern": {
             "fillmode": "overlay",
             "size": 10,
             "solidity": 0.2
            },
            "type": "scatter"
           }
          ],
          "scatter3d": [
           {
            "line": {
             "colorbar": {
              "outlinewidth": 0,
              "ticks": ""
             }
            },
            "marker": {
             "colorbar": {
              "outlinewidth": 0,
              "ticks": ""
             }
            },
            "type": "scatter3d"
           }
          ],
          "scattercarpet": [
           {
            "marker": {
             "colorbar": {
              "outlinewidth": 0,
              "ticks": ""
             }
            },
            "type": "scattercarpet"
           }
          ],
          "scattergeo": [
           {
            "marker": {
             "colorbar": {
              "outlinewidth": 0,
              "ticks": ""
             }
            },
            "type": "scattergeo"
           }
          ],
          "scattergl": [
           {
            "marker": {
             "colorbar": {
              "outlinewidth": 0,
              "ticks": ""
             }
            },
            "type": "scattergl"
           }
          ],
          "scattermap": [
           {
            "marker": {
             "colorbar": {
              "outlinewidth": 0,
              "ticks": ""
             }
            },
            "type": "scattermap"
           }
          ],
          "scattermapbox": [
           {
            "marker": {
             "colorbar": {
              "outlinewidth": 0,
              "ticks": ""
             }
            },
            "type": "scattermapbox"
           }
          ],
          "scatterpolar": [
           {
            "marker": {
             "colorbar": {
              "outlinewidth": 0,
              "ticks": ""
             }
            },
            "type": "scatterpolar"
           }
          ],
          "scatterpolargl": [
           {
            "marker": {
             "colorbar": {
              "outlinewidth": 0,
              "ticks": ""
             }
            },
            "type": "scatterpolargl"
           }
          ],
          "scatterternary": [
           {
            "marker": {
             "colorbar": {
              "outlinewidth": 0,
              "ticks": ""
             }
            },
            "type": "scatterternary"
           }
          ],
          "surface": [
           {
            "colorbar": {
             "outlinewidth": 0,
             "ticks": ""
            },
            "colorscale": [
             [
              0,
              "#0d0887"
             ],
             [
              0.1111111111111111,
              "#46039f"
             ],
             [
              0.2222222222222222,
              "#7201a8"
             ],
             [
              0.3333333333333333,
              "#9c179e"
             ],
             [
              0.4444444444444444,
              "#bd3786"
             ],
             [
              0.5555555555555556,
              "#d8576b"
             ],
             [
              0.6666666666666666,
              "#ed7953"
             ],
             [
              0.7777777777777778,
              "#fb9f3a"
             ],
             [
              0.8888888888888888,
              "#fdca26"
             ],
             [
              1,
              "#f0f921"
             ]
            ],
            "type": "surface"
           }
          ],
          "table": [
           {
            "cells": {
             "fill": {
              "color": "#EBF0F8"
             },
             "line": {
              "color": "white"
             }
            },
            "header": {
             "fill": {
              "color": "#C8D4E3"
             },
             "line": {
              "color": "white"
             }
            },
            "type": "table"
           }
          ]
         },
         "layout": {
          "annotationdefaults": {
           "arrowcolor": "#2a3f5f",
           "arrowhead": 0,
           "arrowwidth": 1
          },
          "autotypenumbers": "strict",
          "coloraxis": {
           "colorbar": {
            "outlinewidth": 0,
            "ticks": ""
           }
          },
          "colorscale": {
           "diverging": [
            [
             0,
             "#8e0152"
            ],
            [
             0.1,
             "#c51b7d"
            ],
            [
             0.2,
             "#de77ae"
            ],
            [
             0.3,
             "#f1b6da"
            ],
            [
             0.4,
             "#fde0ef"
            ],
            [
             0.5,
             "#f7f7f7"
            ],
            [
             0.6,
             "#e6f5d0"
            ],
            [
             0.7,
             "#b8e186"
            ],
            [
             0.8,
             "#7fbc41"
            ],
            [
             0.9,
             "#4d9221"
            ],
            [
             1,
             "#276419"
            ]
           ],
           "sequential": [
            [
             0,
             "#0d0887"
            ],
            [
             0.1111111111111111,
             "#46039f"
            ],
            [
             0.2222222222222222,
             "#7201a8"
            ],
            [
             0.3333333333333333,
             "#9c179e"
            ],
            [
             0.4444444444444444,
             "#bd3786"
            ],
            [
             0.5555555555555556,
             "#d8576b"
            ],
            [
             0.6666666666666666,
             "#ed7953"
            ],
            [
             0.7777777777777778,
             "#fb9f3a"
            ],
            [
             0.8888888888888888,
             "#fdca26"
            ],
            [
             1,
             "#f0f921"
            ]
           ],
           "sequentialminus": [
            [
             0,
             "#0d0887"
            ],
            [
             0.1111111111111111,
             "#46039f"
            ],
            [
             0.2222222222222222,
             "#7201a8"
            ],
            [
             0.3333333333333333,
             "#9c179e"
            ],
            [
             0.4444444444444444,
             "#bd3786"
            ],
            [
             0.5555555555555556,
             "#d8576b"
            ],
            [
             0.6666666666666666,
             "#ed7953"
            ],
            [
             0.7777777777777778,
             "#fb9f3a"
            ],
            [
             0.8888888888888888,
             "#fdca26"
            ],
            [
             1,
             "#f0f921"
            ]
           ]
          },
          "colorway": [
           "#636efa",
           "#EF553B",
           "#00cc96",
           "#ab63fa",
           "#FFA15A",
           "#19d3f3",
           "#FF6692",
           "#B6E880",
           "#FF97FF",
           "#FECB52"
          ],
          "font": {
           "color": "#2a3f5f"
          },
          "geo": {
           "bgcolor": "white",
           "lakecolor": "white",
           "landcolor": "#E5ECF6",
           "showlakes": true,
           "showland": true,
           "subunitcolor": "white"
          },
          "hoverlabel": {
           "align": "left"
          },
          "hovermode": "closest",
          "mapbox": {
           "style": "light"
          },
          "paper_bgcolor": "white",
          "plot_bgcolor": "#E5ECF6",
          "polar": {
           "angularaxis": {
            "gridcolor": "white",
            "linecolor": "white",
            "ticks": ""
           },
           "bgcolor": "#E5ECF6",
           "radialaxis": {
            "gridcolor": "white",
            "linecolor": "white",
            "ticks": ""
           }
          },
          "scene": {
           "xaxis": {
            "backgroundcolor": "#E5ECF6",
            "gridcolor": "white",
            "gridwidth": 2,
            "linecolor": "white",
            "showbackground": true,
            "ticks": "",
            "zerolinecolor": "white"
           },
           "yaxis": {
            "backgroundcolor": "#E5ECF6",
            "gridcolor": "white",
            "gridwidth": 2,
            "linecolor": "white",
            "showbackground": true,
            "ticks": "",
            "zerolinecolor": "white"
           },
           "zaxis": {
            "backgroundcolor": "#E5ECF6",
            "gridcolor": "white",
            "gridwidth": 2,
            "linecolor": "white",
            "showbackground": true,
            "ticks": "",
            "zerolinecolor": "white"
           }
          },
          "shapedefaults": {
           "line": {
            "color": "#2a3f5f"
           }
          },
          "ternary": {
           "aaxis": {
            "gridcolor": "white",
            "linecolor": "white",
            "ticks": ""
           },
           "baxis": {
            "gridcolor": "white",
            "linecolor": "white",
            "ticks": ""
           },
           "bgcolor": "#E5ECF6",
           "caxis": {
            "gridcolor": "white",
            "linecolor": "white",
            "ticks": ""
           }
          },
          "title": {
           "x": 0.05
          },
          "xaxis": {
           "automargin": true,
           "gridcolor": "white",
           "linecolor": "white",
           "ticks": "",
           "title": {
            "standoff": 15
           },
           "zerolinecolor": "white",
           "zerolinewidth": 2
          },
          "yaxis": {
           "automargin": true,
           "gridcolor": "white",
           "linecolor": "white",
           "ticks": "",
           "title": {
            "standoff": 15
           },
           "zerolinecolor": "white",
           "zerolinewidth": 2
          }
         }
        }
       }
      }
     },
     "metadata": {},
     "output_type": "display_data"
    }
   ],
   "source": [
    "fig_points = px.scatter(points_df, x=\"x1\", y=\"x2\", color=\"dataset\", symbol=\"dataset\")\n",
    "fig_plane = px.line(plane_df, x=\"x1\", y=\"x2\", color=\"dataset\")\n",
    "fig_plane.update_traces(line=dict(width=3))\n",
    "fig = go.Figure(data=fig_points.data + fig_plane.data)\n",
    "fig.show()"
   ]
  },
  {
   "cell_type": "markdown",
   "metadata": {},
   "source": [
    "As we can see inputs for tasks 1 and 2 are indeed close. Because of small $\\sigma_w$ we got $w_1$ and $w_2$ also close. "
   ]
  },
  {
   "cell_type": "markdown",
   "metadata": {},
   "source": [
    "## Solo models"
   ]
  },
  {
   "cell_type": "code",
   "execution_count": 9,
   "metadata": {},
   "outputs": [],
   "source": [
    "# here we define probabilistic model of each task using pyro\n",
    "class SoloModel(pnn.PyroModule):\n",
    "    def __init__(\n",
    "        self,\n",
    "        dim: int = 2,\n",
    "        num_data_samples: Optional[int] = None\n",
    "    ):\n",
    "        super().__init__()\n",
    "\n",
    "        self.num_data_samples = num_data_samples\n",
    "\n",
    "        # set parametric prior on w\n",
    "        self.w_loc = pnn.PyroParam(torch.zeros((dim, )))\n",
    "        self.log_w_scale = pnn.PyroParam(torch.zeros((dim, )))\n",
    "        self.w = pnn.PyroSample(\n",
    "            lambda self: pdistr.Normal(self.w_loc, torch.exp(self.log_w_scale)).to_event(1)\n",
    "        )\n",
    "\n",
    "    def forward(self, X: torch.Tensor, y: torch.Tensor = None):\n",
    "        batch_size = X.shape[0]\n",
    "        if self.num_data_samples:\n",
    "            size = self.num_data_samples\n",
    "            subsample_size = batch_size\n",
    "        else:\n",
    "            size = batch_size\n",
    "            subsample_size = None\n",
    "\n",
    "        p = torch.sigmoid(X.matmul(self.w))\n",
    "        with pyro.plate(\"data_batch\", size=size, subsample_size=subsample_size):\n",
    "            pyro.sample(\"y\", pdistr.Bernoulli(p), obs=y)"
   ]
  },
  {
   "cell_type": "markdown",
   "metadata": {},
   "source": [
    "We are going to use [`lightning`](https://lightning.ai/docs/pytorch/stable/) to perform training and logging"
   ]
  },
  {
   "cell_type": "code",
   "execution_count": 10,
   "metadata": {},
   "outputs": [],
   "source": [
    "class LitSoloModel(L.LightningModule):\n",
    "    def __init__(\n",
    "        self,\n",
    "        elbo_f: pyro.infer.elbo.ELBOModule,\n",
    "        predictive: pyro.infer.Predictive,\n",
    "        num_data_samples: int,\n",
    "    ):\n",
    "        super().__init__()\n",
    "\n",
    "        self.num_data_samples = num_data_samples\n",
    "        self.accuracy_computer = Accuracy('binary')\n",
    "\n",
    "        self.elbo_f = elbo_f\n",
    "        self.model: SoloModel = elbo_f.model\n",
    "        self.guide = elbo_f.guide\n",
    "\n",
    "        self.predictive = predictive\n",
    "\n",
    "    def training_step(self, batch: tuple[torch.Tensor], batch_idx: int):\n",
    "        X, y = batch\n",
    "\n",
    "        elbo_loss = self.elbo_f(X, y)\n",
    "\n",
    "        self.log(\"Train/ELBO\", elbo_loss, prog_bar=True)\n",
    "\n",
    "        return elbo_loss\n",
    "    \n",
    "    def validation_step(self, batch: tuple[torch.Tensor], batch_idx: int):\n",
    "        X, y = batch\n",
    "\n",
    "        y_pred = (self.predictive(X, y=None)[\"y\"].mean(dim=0) > 0.5).to(torch.float32)\n",
    "\n",
    "        self.accuracy_computer.update(y_pred, y)\n",
    "\n",
    "    def on_validation_epoch_end(self):\n",
    "        self.log(\"Test/Accuracy\", self.accuracy_computer.compute())\n",
    "        self.accuracy_computer.reset()  \n",
    "\n",
    "    def configure_optimizers(self):\n",
    "        return optim.Adam(self.elbo_f.parameters())"
   ]
  },
  {
   "cell_type": "markdown",
   "metadata": {},
   "source": [
    "Now train individual models"
   ]
  },
  {
   "cell_type": "code",
   "execution_count": 11,
   "metadata": {},
   "outputs": [
    {
     "name": "stderr",
     "output_type": "stream",
     "text": [
      "Using default `ModelCheckpoint`. Consider installing `litmodels` package to enable `LitModelCheckpoint` for automatic upload to the Lightning model registry.\n",
      "GPU available: True (mps), used: False\n",
      "TPU available: False, using: 0 TPU cores\n",
      "HPU available: False, using: 0 HPUs\n",
      "/Users/sem-k32/10 sem/bmm-multitask-learning/.venv/lib/python3.12/site-packages/lightning/pytorch/trainer/setup.py:177: PossibleUserWarning:\n",
      "\n",
      "GPU available but not used. You can set it by doing `Trainer(accelerator='gpu')`.\n",
      "\n",
      "\n",
      "  | Name              | Type           | Params | Mode \n",
      "-------------------------------------------------------------\n",
      "0 | accuracy_computer | BinaryAccuracy | 0      | train\n",
      "1 | elbo_f            | ELBOModule     | 8      | train\n",
      "2 | model             | SoloModel      | 4      | train\n",
      "3 | guide             | AutoNormal     | 4      | train\n",
      "4 | predictive        | Predictive     | 8      | train\n",
      "-------------------------------------------------------------\n",
      "8         Trainable params\n",
      "0         Non-trainable params\n",
      "8         Total params\n",
      "0.000     Total estimated model params size (MB)\n",
      "7         Modules in train mode\n",
      "0         Modules in eval mode\n"
     ]
    },
    {
     "name": "stdout",
     "output_type": "stream",
     "text": [
      "Training model 0\n",
      "\n"
     ]
    },
    {
     "data": {
      "application/vnd.jupyter.widget-view+json": {
       "model_id": "0dccf338d2b446f78646dfa63cfaf1d5",
       "version_major": 2,
       "version_minor": 0
      },
      "text/plain": [
       "Sanity Checking: |          | 0/? [00:00<?, ?it/s]"
      ]
     },
     "metadata": {},
     "output_type": "display_data"
    },
    {
     "name": "stderr",
     "output_type": "stream",
     "text": [
      "/Users/sem-k32/10 sem/bmm-multitask-learning/.venv/lib/python3.12/site-packages/lightning/pytorch/trainer/connectors/data_connector.py:425: PossibleUserWarning:\n",
      "\n",
      "The 'val_dataloader' does not have many workers which may be a bottleneck. Consider increasing the value of the `num_workers` argument` to `num_workers=9` in the `DataLoader` to improve performance.\n",
      "\n",
      "/Users/sem-k32/10 sem/bmm-multitask-learning/.venv/lib/python3.12/site-packages/lightning/pytorch/trainer/connectors/data_connector.py:425: PossibleUserWarning:\n",
      "\n",
      "The 'train_dataloader' does not have many workers which may be a bottleneck. Consider increasing the value of the `num_workers` argument` to `num_workers=9` in the `DataLoader` to improve performance.\n",
      "\n"
     ]
    },
    {
     "data": {
      "application/vnd.jupyter.widget-view+json": {
       "model_id": "261531d54ae948de8ea00b70691de13b",
       "version_major": 2,
       "version_minor": 0
      },
      "text/plain": [
       "Training: |          | 0/? [00:00<?, ?it/s]"
      ]
     },
     "metadata": {},
     "output_type": "display_data"
    },
    {
     "data": {
      "application/vnd.jupyter.widget-view+json": {
       "model_id": "a8fc519b0b08485c9a5a20b20c43030d",
       "version_major": 2,
       "version_minor": 0
      },
      "text/plain": [
       "Validation: |          | 0/? [00:00<?, ?it/s]"
      ]
     },
     "metadata": {},
     "output_type": "display_data"
    },
    {
     "data": {
      "application/vnd.jupyter.widget-view+json": {
       "model_id": "dc79a594f6a24d6da5643c27d1ad14ae",
       "version_major": 2,
       "version_minor": 0
      },
      "text/plain": [
       "Validation: |          | 0/? [00:00<?, ?it/s]"
      ]
     },
     "metadata": {},
     "output_type": "display_data"
    },
    {
     "data": {
      "application/vnd.jupyter.widget-view+json": {
       "model_id": "0996f9d827a5407fbe3983fe22f54d9c",
       "version_major": 2,
       "version_minor": 0
      },
      "text/plain": [
       "Validation: |          | 0/? [00:00<?, ?it/s]"
      ]
     },
     "metadata": {},
     "output_type": "display_data"
    },
    {
     "data": {
      "application/vnd.jupyter.widget-view+json": {
       "model_id": "16cfa9d057ba4becabb1fb42383ad857",
       "version_major": 2,
       "version_minor": 0
      },
      "text/plain": [
       "Validation: |          | 0/? [00:00<?, ?it/s]"
      ]
     },
     "metadata": {},
     "output_type": "display_data"
    },
    {
     "data": {
      "application/vnd.jupyter.widget-view+json": {
       "model_id": "f26b172a024448319561a3ac74f5ad22",
       "version_major": 2,
       "version_minor": 0
      },
      "text/plain": [
       "Validation: |          | 0/? [00:00<?, ?it/s]"
      ]
     },
     "metadata": {},
     "output_type": "display_data"
    },
    {
     "data": {
      "application/vnd.jupyter.widget-view+json": {
       "model_id": "b814658db1a3401f868ecf5aa57af500",
       "version_major": 2,
       "version_minor": 0
      },
      "text/plain": [
       "Validation: |          | 0/? [00:00<?, ?it/s]"
      ]
     },
     "metadata": {},
     "output_type": "display_data"
    },
    {
     "data": {
      "application/vnd.jupyter.widget-view+json": {
       "model_id": "2bc22d1ca01f4b49b738fa059a550d42",
       "version_major": 2,
       "version_minor": 0
      },
      "text/plain": [
       "Validation: |          | 0/? [00:00<?, ?it/s]"
      ]
     },
     "metadata": {},
     "output_type": "display_data"
    },
    {
     "data": {
      "application/vnd.jupyter.widget-view+json": {
       "model_id": "79e5b7fc3a9a4276a42b97004912dbce",
       "version_major": 2,
       "version_minor": 0
      },
      "text/plain": [
       "Validation: |          | 0/? [00:00<?, ?it/s]"
      ]
     },
     "metadata": {},
     "output_type": "display_data"
    },
    {
     "data": {
      "application/vnd.jupyter.widget-view+json": {
       "model_id": "19857de596534d72a282196462e02a1d",
       "version_major": 2,
       "version_minor": 0
      },
      "text/plain": [
       "Validation: |          | 0/? [00:00<?, ?it/s]"
      ]
     },
     "metadata": {},
     "output_type": "display_data"
    },
    {
     "data": {
      "application/vnd.jupyter.widget-view+json": {
       "model_id": "2991e63d88ff4360bde35ec739ce6baf",
       "version_major": 2,
       "version_minor": 0
      },
      "text/plain": [
       "Validation: |          | 0/? [00:00<?, ?it/s]"
      ]
     },
     "metadata": {},
     "output_type": "display_data"
    },
    {
     "data": {
      "application/vnd.jupyter.widget-view+json": {
       "model_id": "33555ee6d60244c193b366a0158004b8",
       "version_major": 2,
       "version_minor": 0
      },
      "text/plain": [
       "Validation: |          | 0/? [00:00<?, ?it/s]"
      ]
     },
     "metadata": {},
     "output_type": "display_data"
    },
    {
     "data": {
      "application/vnd.jupyter.widget-view+json": {
       "model_id": "47c56d7b105e4f3ab72b40b8e4ebb4d9",
       "version_major": 2,
       "version_minor": 0
      },
      "text/plain": [
       "Validation: |          | 0/? [00:00<?, ?it/s]"
      ]
     },
     "metadata": {},
     "output_type": "display_data"
    },
    {
     "data": {
      "application/vnd.jupyter.widget-view+json": {
       "model_id": "16ebdbc8a29346a88a9e817b15b453e6",
       "version_major": 2,
       "version_minor": 0
      },
      "text/plain": [
       "Validation: |          | 0/? [00:00<?, ?it/s]"
      ]
     },
     "metadata": {},
     "output_type": "display_data"
    },
    {
     "data": {
      "application/vnd.jupyter.widget-view+json": {
       "model_id": "63563a1bac1f4e43b7530de11fbfd8df",
       "version_major": 2,
       "version_minor": 0
      },
      "text/plain": [
       "Validation: |          | 0/? [00:00<?, ?it/s]"
      ]
     },
     "metadata": {},
     "output_type": "display_data"
    },
    {
     "data": {
      "application/vnd.jupyter.widget-view+json": {
       "model_id": "c31deaa7cac24776879b6cc358ae0462",
       "version_major": 2,
       "version_minor": 0
      },
      "text/plain": [
       "Validation: |          | 0/? [00:00<?, ?it/s]"
      ]
     },
     "metadata": {},
     "output_type": "display_data"
    },
    {
     "data": {
      "application/vnd.jupyter.widget-view+json": {
       "model_id": "2a969ac118764fb484822f2be695ef70",
       "version_major": 2,
       "version_minor": 0
      },
      "text/plain": [
       "Validation: |          | 0/? [00:00<?, ?it/s]"
      ]
     },
     "metadata": {},
     "output_type": "display_data"
    },
    {
     "data": {
      "application/vnd.jupyter.widget-view+json": {
       "model_id": "c7953c10b0c0405081361fce973d0550",
       "version_major": 2,
       "version_minor": 0
      },
      "text/plain": [
       "Validation: |          | 0/? [00:00<?, ?it/s]"
      ]
     },
     "metadata": {},
     "output_type": "display_data"
    },
    {
     "data": {
      "application/vnd.jupyter.widget-view+json": {
       "model_id": "2a51ffab71bb4b32a6d45dd1d513560b",
       "version_major": 2,
       "version_minor": 0
      },
      "text/plain": [
       "Validation: |          | 0/? [00:00<?, ?it/s]"
      ]
     },
     "metadata": {},
     "output_type": "display_data"
    },
    {
     "data": {
      "application/vnd.jupyter.widget-view+json": {
       "model_id": "b6d605b50dbb40fab3799e9a90b06dc9",
       "version_major": 2,
       "version_minor": 0
      },
      "text/plain": [
       "Validation: |          | 0/? [00:00<?, ?it/s]"
      ]
     },
     "metadata": {},
     "output_type": "display_data"
    },
    {
     "data": {
      "application/vnd.jupyter.widget-view+json": {
       "model_id": "3264b6a7e7ab4987891a2a456cd0550a",
       "version_major": 2,
       "version_minor": 0
      },
      "text/plain": [
       "Validation: |          | 0/? [00:00<?, ?it/s]"
      ]
     },
     "metadata": {},
     "output_type": "display_data"
    },
    {
     "name": "stderr",
     "output_type": "stream",
     "text": [
      "`Trainer.fit` stopped: `max_epochs=20` reached.\n",
      "Using default `ModelCheckpoint`. Consider installing `litmodels` package to enable `LitModelCheckpoint` for automatic upload to the Lightning model registry.\n",
      "GPU available: True (mps), used: False\n",
      "TPU available: False, using: 0 TPU cores\n",
      "HPU available: False, using: 0 HPUs\n",
      "\n",
      "  | Name              | Type           | Params | Mode \n",
      "-------------------------------------------------------------\n",
      "0 | accuracy_computer | BinaryAccuracy | 0      | train\n",
      "1 | elbo_f            | ELBOModule     | 8      | train\n",
      "2 | model             | SoloModel      | 4      | train\n",
      "3 | guide             | AutoNormal     | 4      | train\n",
      "4 | predictive        | Predictive     | 8      | train\n",
      "-------------------------------------------------------------\n",
      "8         Trainable params\n",
      "0         Non-trainable params\n",
      "8         Total params\n",
      "0.000     Total estimated model params size (MB)\n",
      "7         Modules in train mode\n",
      "0         Modules in eval mode\n"
     ]
    },
    {
     "name": "stdout",
     "output_type": "stream",
     "text": [
      "Training model 1\n",
      "\n"
     ]
    },
    {
     "data": {
      "application/vnd.jupyter.widget-view+json": {
       "model_id": "82111497b33e4f14aa76dc4138690aa8",
       "version_major": 2,
       "version_minor": 0
      },
      "text/plain": [
       "Sanity Checking: |          | 0/? [00:00<?, ?it/s]"
      ]
     },
     "metadata": {},
     "output_type": "display_data"
    },
    {
     "data": {
      "application/vnd.jupyter.widget-view+json": {
       "model_id": "1db5c7d7856b4d12a71923491d329976",
       "version_major": 2,
       "version_minor": 0
      },
      "text/plain": [
       "Training: |          | 0/? [00:00<?, ?it/s]"
      ]
     },
     "metadata": {},
     "output_type": "display_data"
    },
    {
     "data": {
      "application/vnd.jupyter.widget-view+json": {
       "model_id": "5d892d9110024d6492dfc9a2ab9fff3a",
       "version_major": 2,
       "version_minor": 0
      },
      "text/plain": [
       "Validation: |          | 0/? [00:00<?, ?it/s]"
      ]
     },
     "metadata": {},
     "output_type": "display_data"
    },
    {
     "data": {
      "application/vnd.jupyter.widget-view+json": {
       "model_id": "1283488411dc4ad4956364adc29e44d8",
       "version_major": 2,
       "version_minor": 0
      },
      "text/plain": [
       "Validation: |          | 0/? [00:00<?, ?it/s]"
      ]
     },
     "metadata": {},
     "output_type": "display_data"
    },
    {
     "data": {
      "application/vnd.jupyter.widget-view+json": {
       "model_id": "2a4f01c91d5f4531b93cee307021773f",
       "version_major": 2,
       "version_minor": 0
      },
      "text/plain": [
       "Validation: |          | 0/? [00:00<?, ?it/s]"
      ]
     },
     "metadata": {},
     "output_type": "display_data"
    },
    {
     "data": {
      "application/vnd.jupyter.widget-view+json": {
       "model_id": "93ffb705aeea4e4d93e95da6bb85ad2f",
       "version_major": 2,
       "version_minor": 0
      },
      "text/plain": [
       "Validation: |          | 0/? [00:00<?, ?it/s]"
      ]
     },
     "metadata": {},
     "output_type": "display_data"
    },
    {
     "data": {
      "application/vnd.jupyter.widget-view+json": {
       "model_id": "7617a922d8c249a1b6635a79baf077c4",
       "version_major": 2,
       "version_minor": 0
      },
      "text/plain": [
       "Validation: |          | 0/? [00:00<?, ?it/s]"
      ]
     },
     "metadata": {},
     "output_type": "display_data"
    },
    {
     "data": {
      "application/vnd.jupyter.widget-view+json": {
       "model_id": "72d5ade8b0ea40dba705f6ba463dc9c0",
       "version_major": 2,
       "version_minor": 0
      },
      "text/plain": [
       "Validation: |          | 0/? [00:00<?, ?it/s]"
      ]
     },
     "metadata": {},
     "output_type": "display_data"
    },
    {
     "data": {
      "application/vnd.jupyter.widget-view+json": {
       "model_id": "f84c7ef84efe49a8a621d7370a36919a",
       "version_major": 2,
       "version_minor": 0
      },
      "text/plain": [
       "Validation: |          | 0/? [00:00<?, ?it/s]"
      ]
     },
     "metadata": {},
     "output_type": "display_data"
    },
    {
     "data": {
      "application/vnd.jupyter.widget-view+json": {
       "model_id": "ce5c975931244c0884e7816098a40212",
       "version_major": 2,
       "version_minor": 0
      },
      "text/plain": [
       "Validation: |          | 0/? [00:00<?, ?it/s]"
      ]
     },
     "metadata": {},
     "output_type": "display_data"
    },
    {
     "data": {
      "application/vnd.jupyter.widget-view+json": {
       "model_id": "0a1dcf271abd4560b4b214961f834fb0",
       "version_major": 2,
       "version_minor": 0
      },
      "text/plain": [
       "Validation: |          | 0/? [00:00<?, ?it/s]"
      ]
     },
     "metadata": {},
     "output_type": "display_data"
    },
    {
     "data": {
      "application/vnd.jupyter.widget-view+json": {
       "model_id": "81aa8965aa34439cb4489dca5c0603f8",
       "version_major": 2,
       "version_minor": 0
      },
      "text/plain": [
       "Validation: |          | 0/? [00:00<?, ?it/s]"
      ]
     },
     "metadata": {},
     "output_type": "display_data"
    },
    {
     "data": {
      "application/vnd.jupyter.widget-view+json": {
       "model_id": "9a519db006304a40b67fc681c6447fa2",
       "version_major": 2,
       "version_minor": 0
      },
      "text/plain": [
       "Validation: |          | 0/? [00:00<?, ?it/s]"
      ]
     },
     "metadata": {},
     "output_type": "display_data"
    },
    {
     "data": {
      "application/vnd.jupyter.widget-view+json": {
       "model_id": "6ba27d9b6bf14fe4a8959de441d16d3f",
       "version_major": 2,
       "version_minor": 0
      },
      "text/plain": [
       "Validation: |          | 0/? [00:00<?, ?it/s]"
      ]
     },
     "metadata": {},
     "output_type": "display_data"
    },
    {
     "data": {
      "application/vnd.jupyter.widget-view+json": {
       "model_id": "c838ebc17be0485e9569c4a008946a0f",
       "version_major": 2,
       "version_minor": 0
      },
      "text/plain": [
       "Validation: |          | 0/? [00:00<?, ?it/s]"
      ]
     },
     "metadata": {},
     "output_type": "display_data"
    },
    {
     "data": {
      "application/vnd.jupyter.widget-view+json": {
       "model_id": "fc44de62cf9045ef8a37a2e0150ff6ad",
       "version_major": 2,
       "version_minor": 0
      },
      "text/plain": [
       "Validation: |          | 0/? [00:00<?, ?it/s]"
      ]
     },
     "metadata": {},
     "output_type": "display_data"
    },
    {
     "name": "stderr",
     "output_type": "stream",
     "text": [
      "Using default `ModelCheckpoint`. Consider installing `litmodels` package to enable `LitModelCheckpoint` for automatic upload to the Lightning model registry.\n",
      "GPU available: True (mps), used: False\n",
      "TPU available: False, using: 0 TPU cores\n",
      "HPU available: False, using: 0 HPUs\n",
      "\n",
      "  | Name              | Type           | Params | Mode \n",
      "-------------------------------------------------------------\n",
      "0 | accuracy_computer | BinaryAccuracy | 0      | train\n",
      "1 | elbo_f            | ELBOModule     | 8      | train\n",
      "2 | model             | SoloModel      | 4      | train\n",
      "3 | guide             | AutoNormal     | 4      | train\n",
      "4 | predictive        | Predictive     | 8      | train\n",
      "-------------------------------------------------------------\n",
      "8         Trainable params\n",
      "0         Non-trainable params\n",
      "8         Total params\n",
      "0.000     Total estimated model params size (MB)\n",
      "7         Modules in train mode\n",
      "0         Modules in eval mode\n"
     ]
    },
    {
     "name": "stdout",
     "output_type": "stream",
     "text": [
      "Training model 2\n",
      "\n"
     ]
    },
    {
     "data": {
      "application/vnd.jupyter.widget-view+json": {
       "model_id": "4e9247ad926641cabcd1f8e27ddfa777",
       "version_major": 2,
       "version_minor": 0
      },
      "text/plain": [
       "Sanity Checking: |          | 0/? [00:00<?, ?it/s]"
      ]
     },
     "metadata": {},
     "output_type": "display_data"
    },
    {
     "data": {
      "application/vnd.jupyter.widget-view+json": {
       "model_id": "8c1ec2b5af8b467c8f2559d92949a091",
       "version_major": 2,
       "version_minor": 0
      },
      "text/plain": [
       "Training: |          | 0/? [00:00<?, ?it/s]"
      ]
     },
     "metadata": {},
     "output_type": "display_data"
    },
    {
     "data": {
      "application/vnd.jupyter.widget-view+json": {
       "model_id": "e310cca790d240308185413869531b0e",
       "version_major": 2,
       "version_minor": 0
      },
      "text/plain": [
       "Validation: |          | 0/? [00:00<?, ?it/s]"
      ]
     },
     "metadata": {},
     "output_type": "display_data"
    },
    {
     "data": {
      "application/vnd.jupyter.widget-view+json": {
       "model_id": "bea8e989a5324ac6930866ae2e67965b",
       "version_major": 2,
       "version_minor": 0
      },
      "text/plain": [
       "Validation: |          | 0/? [00:00<?, ?it/s]"
      ]
     },
     "metadata": {},
     "output_type": "display_data"
    },
    {
     "data": {
      "application/vnd.jupyter.widget-view+json": {
       "model_id": "5024d30e859042e2815a81138f599767",
       "version_major": 2,
       "version_minor": 0
      },
      "text/plain": [
       "Validation: |          | 0/? [00:00<?, ?it/s]"
      ]
     },
     "metadata": {},
     "output_type": "display_data"
    },
    {
     "data": {
      "application/vnd.jupyter.widget-view+json": {
       "model_id": "a722d8f85eb84bfa823e91765140df50",
       "version_major": 2,
       "version_minor": 0
      },
      "text/plain": [
       "Validation: |          | 0/? [00:00<?, ?it/s]"
      ]
     },
     "metadata": {},
     "output_type": "display_data"
    },
    {
     "data": {
      "application/vnd.jupyter.widget-view+json": {
       "model_id": "2203dfe6342943cf92c2476f22bde71f",
       "version_major": 2,
       "version_minor": 0
      },
      "text/plain": [
       "Validation: |          | 0/? [00:00<?, ?it/s]"
      ]
     },
     "metadata": {},
     "output_type": "display_data"
    },
    {
     "data": {
      "application/vnd.jupyter.widget-view+json": {
       "model_id": "ab147bf5c09b49f88200a814ecd6c111",
       "version_major": 2,
       "version_minor": 0
      },
      "text/plain": [
       "Validation: |          | 0/? [00:00<?, ?it/s]"
      ]
     },
     "metadata": {},
     "output_type": "display_data"
    },
    {
     "data": {
      "application/vnd.jupyter.widget-view+json": {
       "model_id": "2e92a9661dab4c20b8d53511b0a677cc",
       "version_major": 2,
       "version_minor": 0
      },
      "text/plain": [
       "Validation: |          | 0/? [00:00<?, ?it/s]"
      ]
     },
     "metadata": {},
     "output_type": "display_data"
    },
    {
     "data": {
      "application/vnd.jupyter.widget-view+json": {
       "model_id": "930654a1220f48cbb38e84a71cc28bbf",
       "version_major": 2,
       "version_minor": 0
      },
      "text/plain": [
       "Validation: |          | 0/? [00:00<?, ?it/s]"
      ]
     },
     "metadata": {},
     "output_type": "display_data"
    },
    {
     "data": {
      "application/vnd.jupyter.widget-view+json": {
       "model_id": "21ae0ade34b841ff957bfcb555006a10",
       "version_major": 2,
       "version_minor": 0
      },
      "text/plain": [
       "Validation: |          | 0/? [00:00<?, ?it/s]"
      ]
     },
     "metadata": {},
     "output_type": "display_data"
    },
    {
     "data": {
      "application/vnd.jupyter.widget-view+json": {
       "model_id": "719b5a02da3f46d8a22576208ad03f1d",
       "version_major": 2,
       "version_minor": 0
      },
      "text/plain": [
       "Validation: |          | 0/? [00:00<?, ?it/s]"
      ]
     },
     "metadata": {},
     "output_type": "display_data"
    },
    {
     "data": {
      "application/vnd.jupyter.widget-view+json": {
       "model_id": "1238de9515f949fb81d67664512ff5cb",
       "version_major": 2,
       "version_minor": 0
      },
      "text/plain": [
       "Validation: |          | 0/? [00:00<?, ?it/s]"
      ]
     },
     "metadata": {},
     "output_type": "display_data"
    },
    {
     "data": {
      "application/vnd.jupyter.widget-view+json": {
       "model_id": "f39a3121b0ad48f78fd7afac0a13949b",
       "version_major": 2,
       "version_minor": 0
      },
      "text/plain": [
       "Validation: |          | 0/? [00:00<?, ?it/s]"
      ]
     },
     "metadata": {},
     "output_type": "display_data"
    },
    {
     "data": {
      "application/vnd.jupyter.widget-view+json": {
       "model_id": "c0ba568dd9af43118e77144da30b25ef",
       "version_major": 2,
       "version_minor": 0
      },
      "text/plain": [
       "Validation: |          | 0/? [00:00<?, ?it/s]"
      ]
     },
     "metadata": {},
     "output_type": "display_data"
    },
    {
     "data": {
      "application/vnd.jupyter.widget-view+json": {
       "model_id": "a9ba783b8fa84bad9909716c7fd5e964",
       "version_major": 2,
       "version_minor": 0
      },
      "text/plain": [
       "Validation: |          | 0/? [00:00<?, ?it/s]"
      ]
     },
     "metadata": {},
     "output_type": "display_data"
    },
    {
     "data": {
      "application/vnd.jupyter.widget-view+json": {
       "model_id": "3224f79dbddd4031ac0c01eeb8e31fd2",
       "version_major": 2,
       "version_minor": 0
      },
      "text/plain": [
       "Validation: |          | 0/? [00:00<?, ?it/s]"
      ]
     },
     "metadata": {},
     "output_type": "display_data"
    },
    {
     "data": {
      "application/vnd.jupyter.widget-view+json": {
       "model_id": "b34200c651c84e9eb33e5c389cf18758",
       "version_major": 2,
       "version_minor": 0
      },
      "text/plain": [
       "Validation: |          | 0/? [00:00<?, ?it/s]"
      ]
     },
     "metadata": {},
     "output_type": "display_data"
    },
    {
     "data": {
      "application/vnd.jupyter.widget-view+json": {
       "model_id": "8e61ea8397294cf39d3fca99bd586875",
       "version_major": 2,
       "version_minor": 0
      },
      "text/plain": [
       "Validation: |          | 0/? [00:00<?, ?it/s]"
      ]
     },
     "metadata": {},
     "output_type": "display_data"
    },
    {
     "data": {
      "application/vnd.jupyter.widget-view+json": {
       "model_id": "1d2bf444ea6349abb2d0864288c39406",
       "version_major": 2,
       "version_minor": 0
      },
      "text/plain": [
       "Validation: |          | 0/? [00:00<?, ?it/s]"
      ]
     },
     "metadata": {},
     "output_type": "display_data"
    },
    {
     "data": {
      "application/vnd.jupyter.widget-view+json": {
       "model_id": "6fbada4b2fd84559abcb708fe131929b",
       "version_major": 2,
       "version_minor": 0
      },
      "text/plain": [
       "Validation: |          | 0/? [00:00<?, ?it/s]"
      ]
     },
     "metadata": {},
     "output_type": "display_data"
    },
    {
     "data": {
      "application/vnd.jupyter.widget-view+json": {
       "model_id": "80b15b6448644f4bae2f0b1003b69c17",
       "version_major": 2,
       "version_minor": 0
      },
      "text/plain": [
       "Validation: |          | 0/? [00:00<?, ?it/s]"
      ]
     },
     "metadata": {},
     "output_type": "display_data"
    },
    {
     "name": "stderr",
     "output_type": "stream",
     "text": [
      "`Trainer.fit` stopped: `max_epochs=20` reached.\n"
     ]
    }
   ],
   "source": [
    "for i in range(NUM_MODELS):\n",
    "    print(f\"Training model {i}\\n\")\n",
    "\n",
    "    model = SoloModel(config.dim, config.size)\n",
    "    guide = AutoNormal(model)\n",
    "\n",
    "    # num elbo particles is equivallent to variational multitask\n",
    "    num_elbo_particles = config.mt_elbo.classifier_num_particles * config.mt_elbo.latent_num_particles\n",
    "    \n",
    "    elbo_f = Trace_ELBO(num_elbo_particles)(model, guide)\n",
    "\n",
    "    # All relevant parameters need to be initialized before ``configure_optimizer`` is called.\n",
    "    # Since we used AutoNormal guide our parameters have not be initialized yet.\n",
    "    # Therefore we initialize the model and guide by running one mini-batch through the loss.\n",
    "    mini_batch = next(iter(DataLoader(train_datasets[0], batch_size=1)))\n",
    "    elbo_f(*mini_batch)\n",
    "\n",
    "    # this choice of num_predictive_particles is rather balancing\n",
    "    num_predictive_particles = num_elbo_particles\n",
    "    predictive = pyro.infer.Predictive(model, guide=guide, num_samples=num_predictive_particles)\n",
    "\n",
    "    lit_model = LitSoloModel(elbo_f, predictive, config.size)\n",
    " \n",
    "    train_dataloader = DataLoader(train_datasets[i], batch_size=config.batch_size, shuffle=True)\n",
    "    test_dataloader = DataLoader(test_datasets[i], batch_size=config.batch_size)\n",
    "\n",
    "    logger = TensorBoardLogger(\"mt_logs/solo\", name=f\"solo_{i}\")\n",
    "\n",
    "    callbacks = [\n",
    "        EarlyStopping(monitor=\"Train/ELBO\", min_delta=1e-3, patience=10, mode=\"min\")\n",
    "    ]\n",
    "\n",
    "    trainer = L.Trainer(logger=logger, callbacks=callbacks, **dict(config.trainer))\n",
    "    trainer.fit(lit_model, train_dataloader, test_dataloader)"
   ]
  },
  {
   "cell_type": "markdown",
   "metadata": {},
   "source": [
    "Metrics are saved in the tensorboard"
   ]
  },
  {
   "cell_type": "code",
   "execution_count": 27,
   "metadata": {},
   "outputs": [
    {
     "data": {
      "text/plain": [
       "Reusing TensorBoard on port 6006 (pid 30339), started 0:00:16 ago. (Use '!kill 30339' to kill it.)"
      ]
     },
     "metadata": {},
     "output_type": "display_data"
    },
    {
     "data": {
      "text/html": [
       "\n",
       "      <iframe id=\"tensorboard-frame-ba74e2981a4867bd\" width=\"100%\" height=\"800\" frameborder=\"0\">\n",
       "      </iframe>\n",
       "      <script>\n",
       "        (function() {\n",
       "          const frame = document.getElementById(\"tensorboard-frame-ba74e2981a4867bd\");\n",
       "          const url = new URL(\"http://localhost\");\n",
       "          const port = 6006;\n",
       "          if (port) {\n",
       "            url.port = port;\n",
       "          }\n",
       "          frame.src = url;\n",
       "        })();\n",
       "      </script>\n",
       "    "
      ],
      "text/plain": [
       "<IPython.core.display.HTML object>"
      ]
     },
     "metadata": {},
     "output_type": "display_data"
    }
   ],
   "source": [
    "%tensorboard --logdir mt_logs/solo"
   ]
  },
  {
   "cell_type": "markdown",
   "metadata": {},
   "source": [
    "## Variational multitask models"
   ]
  },
  {
   "cell_type": "markdown",
   "metadata": {},
   "source": [
    "First, register KL computation for $\\delta$-distribution. Here we don't have state variables and won't compute its KL at all."
   ]
  },
  {
   "cell_type": "code",
   "execution_count": 13,
   "metadata": {},
   "outputs": [],
   "source": [
    "@distr.kl.register_kl(Delta, Delta)\n",
    "def kl_delta_delta(d1: Delta, d2: Delta):\n",
    "    return torch.zeros(d1.batch_shape)\n",
    "    # this is how it should be\n",
    "    # return torch.zeros(d1.batch_shape) if torch.allclose(d1.v, d2.v) else torch.full(torch.inf, d1.batch_shape)"
   ]
  },
  {
   "cell_type": "markdown",
   "metadata": {},
   "source": [
    "Define batched distributions for tasks. Here we assume that *latents* come with (batch_size, num_latent_particles, ...) shape, *classifiers* come with (num_classifier_samples, ...) shape"
   ]
  },
  {
   "cell_type": "code",
   "execution_count": 14,
   "metadata": {},
   "outputs": [],
   "source": [
    "# same for all tasks\n",
    "def target_distr(Z: torch.Tensor, W: torch.Tensor) -> distr.Distribution:\n",
    "    return distr.Bernoulli(logits=torch.tensordot(Z, W, dims=[[-1], [-1]]))\n",
    "\n",
    "# same for all tasks\n",
    "def predictive_distr(Z: torch.Tensor, W: torch.Tensor) -> distr.Distribution:\n",
    "    return distr.Bernoulli(logits=torch.tensordot(Z, W, dims=[[-1], [-1]]).flatten(1, 2))"
   ]
  },
  {
   "cell_type": "code",
   "execution_count": 15,
   "metadata": {},
   "outputs": [],
   "source": [
    "task_distrs = [target_distr for _ in range(NUM_MODELS)]\n",
    "task_num_samples = list(train_datasets | select(len))"
   ]
  },
  {
   "cell_type": "code",
   "execution_count": 16,
   "metadata": {},
   "outputs": [],
   "source": [
    "# we don't have latents here, but we need it formaly as distribution\n",
    "def latent_distr(X: torch.Tensor) -> distr.Distribution:\n",
    "    return Delta(X, event_dim=1)"
   ]
  },
  {
   "cell_type": "code",
   "execution_count": 17,
   "metadata": {},
   "outputs": [],
   "source": [
    "class NormalLogits(distr.Normal):\n",
    "    \"\"\"Normal distribution with scale parametrized via logits\n",
    "    \"\"\"\n",
    "    def __init__(self, loc, logit, validate_args=None):\n",
    "        self.logit = logit\n",
    "        super().__init__(loc, torch.exp(logit), validate_args)\n",
    "\n",
    "    def __getattribute__(self, name):\n",
    "        if name == \"scale\":\n",
    "            return self.logit.exp()\n",
    "        else:\n",
    "            return super().__getattribute__(name)\n",
    "\n",
    "\n",
    "# parametric variational distr for classifiers\n",
    "classifier_distrs_params = {}\n",
    "classifier_distrs = []\n",
    "for i in range(NUM_MODELS):\n",
    "    # set inital values for distribution's parameters\n",
    "    loc, scale_logit = nn.Parameter(torch.zeros((config.dim, ))), nn.Parameter(torch.zeros((config.dim, )))\n",
    "    classifier_distrs_params.update({\n",
    "        f\"distr_{i}\": [loc, scale_logit]\n",
    "    })\n",
    "    classifier_distrs.append(\n",
    "        distr.Independent(\n",
    "            NormalLogits(loc, scale_logit),\n",
    "            reinterpreted_batch_ndims=1\n",
    "        )\n",
    "    )\n",
    "# parametric variational distr for latents\n",
    "latent_distrs = [latent_distr for _ in range(NUM_MODELS)]"
   ]
  },
  {
   "cell_type": "code",
   "execution_count": 18,
   "metadata": {},
   "outputs": [],
   "source": [
    "# temperature must decrease over steps\n",
    "temp_scheduler = lambda step: 1. / torch.sqrt(torch.tensor(step + 1))"
   ]
  },
  {
   "cell_type": "code",
   "execution_count": 19,
   "metadata": {},
   "outputs": [],
   "source": [
    "# create variational multitask elbo module\n",
    "mt_elbo = MultiTaskElbo(\n",
    "    task_distrs,\n",
    "    task_num_samples,\n",
    "    classifier_distrs,\n",
    "    latent_distrs,\n",
    "    temp_scheduler=temp_scheduler,\n",
    "    **dict(config.mt_elbo)\n",
    ")"
   ]
  },
  {
   "cell_type": "markdown",
   "metadata": {},
   "source": [
    "We are going to use [`lightning`](https://lightning.ai/docs/pytorch/stable/) to perform training and logging"
   ]
  },
  {
   "cell_type": "code",
   "execution_count": 20,
   "metadata": {},
   "outputs": [],
   "source": [
    "class LitMtModel(L.LightningModule):\n",
    "    def __init__(\n",
    "        self,\n",
    "        mt_elbo: MultiTaskElbo\n",
    "    ):\n",
    "        super().__init__()\n",
    "\n",
    "        num_tasks = mt_elbo.num_tasks\n",
    "        self.accuracy_computers = [Accuracy('binary') for _ in range(num_tasks)]\n",
    "        self.mt_elbo = mt_elbo\n",
    "\n",
    "        self.distr_params = nn.ParameterList()\n",
    "        for param_list in classifier_distrs_params.values():\n",
    "            self.distr_params.extend(\n",
    "                param_list\n",
    "            )\n",
    "        \n",
    "\n",
    "    def training_step(self, batch: tuple[tuple[torch.Tensor]], batch_idx: int):\n",
    "        mt_loss_dict = self.mt_elbo(*list(zip(*batch)), step=self.global_step)\n",
    "        self.log_dict(mt_loss_dict, prog_bar=True)\n",
    "\n",
    "        # DEBUG\n",
    "        return mt_loss_dict[\"elbo\"]\n",
    "    \n",
    "    def on_train_batch_end(self, outputs, batch, batch_idx):\n",
    "        with torch.no_grad():\n",
    "            for distr_name, distr_params in classifier_distrs_params.items():\n",
    "                params_grad_norm = sum(distr_params | select(lambda param: param.grad.norm()))\n",
    "                self.log(f\"{distr_name}_grad\", params_grad_norm)\n",
    "\n",
    "    def on_train_epoch_end(self):\n",
    "        # log mixing\n",
    "\n",
    "        fig, ax = plt.subplots()\n",
    "        cax = ax.matshow(self.mt_elbo.latent_mixings_params.detach().numpy())\n",
    "        fig.colorbar(cax)\n",
    "        self.logger.experiment.add_figure(\"Latent_mixing\", fig, self.global_step)\n",
    "\n",
    "        fig, ax = plt.subplots()\n",
    "        cax = ax.matshow(self.mt_elbo.classifier_mixings_params.detach().numpy())\n",
    "        fig.colorbar(cax)\n",
    "        self.logger.experiment.add_figure(\"Classifier_mixing\", fig, self.global_step)\n",
    "\n",
    "    def validation_step(self, batch: tuple[tuple[torch.Tensor]], batch_idx: int):\n",
    "        for i, (X, y) in enumerate(batch):\n",
    "            NUM_PREDICTIVE_SAMPLES = 10\n",
    "            cur_predictive = build_predictive(\n",
    "                predictive_distr,\n",
    "                classifier_distrs[i],\n",
    "                latent_distrs[i],\n",
    "                X,\n",
    "                config.mt_elbo.classifier_num_particles,\n",
    "                config.mt_elbo.latent_num_particles\n",
    "            )\n",
    "            y_pred = (cur_predictive.sample((NUM_PREDICTIVE_SAMPLES, )).mean(dim=0) > 0.5).float()\n",
    "            self.accuracy_computers[i].update(y_pred, y)\n",
    "\n",
    "    def on_validation_epoch_end(self):\n",
    "        for i, accuracy_computer in enumerate(self.accuracy_computers):\n",
    "            self.log(f\"Test/Accuracy_{i}\", accuracy_computer.compute())\n",
    "            accuracy_computer.reset()\n",
    "\n",
    "    def configure_optimizers(self):\n",
    "        return optim.Adam(self.parameters(), lr=1e-3)"
   ]
  },
  {
   "cell_type": "code",
   "execution_count": 21,
   "metadata": {},
   "outputs": [],
   "source": [
    "lit_mt_model = LitMtModel(mt_elbo)"
   ]
  },
  {
   "cell_type": "code",
   "execution_count": 22,
   "metadata": {},
   "outputs": [],
   "source": [
    "# stack task datasets\n",
    "unified_train_dataset = StackDataset(*train_datasets)\n",
    "unified_test_dataset = StackDataset(*test_datasets)\n",
    "\n",
    "mt_train_dataloader = DataLoader(unified_train_dataset, config.batch_size, shuffle=True)\n",
    "mt_test_dataloader = DataLoader(unified_test_dataset, config.batch_size, shuffle=False)"
   ]
  },
  {
   "cell_type": "code",
   "execution_count": 23,
   "metadata": {},
   "outputs": [],
   "source": [
    "logger = TensorBoardLogger(\"mt_logs\", name=\"multitask\")\n",
    "\n",
    "callbacks = [\n",
    "    EarlyStopping(monitor=\"elbo\", min_delta=1e-3, patience=10, mode=\"min\")\n",
    "]"
   ]
  },
  {
   "cell_type": "code",
   "execution_count": 24,
   "metadata": {},
   "outputs": [
    {
     "name": "stderr",
     "output_type": "stream",
     "text": [
      "Using default `ModelCheckpoint`. Consider installing `litmodels` package to enable `LitModelCheckpoint` for automatic upload to the Lightning model registry.\n",
      "GPU available: True (mps), used: False\n",
      "TPU available: False, using: 0 TPU cores\n",
      "HPU available: False, using: 0 HPUs\n",
      "/Users/sem-k32/10 sem/bmm-multitask-learning/.venv/lib/python3.12/site-packages/lightning/pytorch/trainer/setup.py:177: PossibleUserWarning:\n",
      "\n",
      "GPU available but not used. You can set it by doing `Trainer(accelerator='gpu')`.\n",
      "\n",
      "\n",
      "  | Name         | Type          | Params | Mode \n",
      "-------------------------------------------------------\n",
      "0 | mt_elbo      | MultiTaskElbo | 9      | train\n",
      "1 | distr_params | ParameterList | 12     | train\n",
      "-------------------------------------------------------\n",
      "21        Trainable params\n",
      "0         Non-trainable params\n",
      "21        Total params\n",
      "0.000     Total estimated model params size (MB)\n",
      "2         Modules in train mode\n",
      "0         Modules in eval mode\n"
     ]
    },
    {
     "data": {
      "application/vnd.jupyter.widget-view+json": {
       "model_id": "fa17eb61c17e42f39f4f6b94de0c3268",
       "version_major": 2,
       "version_minor": 0
      },
      "text/plain": [
       "Sanity Checking: |          | 0/? [00:00<?, ?it/s]"
      ]
     },
     "metadata": {},
     "output_type": "display_data"
    },
    {
     "name": "stderr",
     "output_type": "stream",
     "text": [
      "/Users/sem-k32/10 sem/bmm-multitask-learning/.venv/lib/python3.12/site-packages/lightning/pytorch/trainer/connectors/data_connector.py:425: PossibleUserWarning:\n",
      "\n",
      "The 'val_dataloader' does not have many workers which may be a bottleneck. Consider increasing the value of the `num_workers` argument` to `num_workers=9` in the `DataLoader` to improve performance.\n",
      "\n",
      "/Users/sem-k32/10 sem/bmm-multitask-learning/.venv/lib/python3.12/site-packages/lightning/pytorch/trainer/connectors/data_connector.py:425: PossibleUserWarning:\n",
      "\n",
      "The 'train_dataloader' does not have many workers which may be a bottleneck. Consider increasing the value of the `num_workers` argument` to `num_workers=9` in the `DataLoader` to improve performance.\n",
      "\n"
     ]
    },
    {
     "data": {
      "application/vnd.jupyter.widget-view+json": {
       "model_id": "94ee04b3dd97404e888c683338c2deed",
       "version_major": 2,
       "version_minor": 0
      },
      "text/plain": [
       "Training: |          | 0/? [00:00<?, ?it/s]"
      ]
     },
     "metadata": {},
     "output_type": "display_data"
    },
    {
     "data": {
      "application/vnd.jupyter.widget-view+json": {
       "model_id": "f531f123e7b44d0bad262cce467b0fb8",
       "version_major": 2,
       "version_minor": 0
      },
      "text/plain": [
       "Validation: |          | 0/? [00:00<?, ?it/s]"
      ]
     },
     "metadata": {},
     "output_type": "display_data"
    },
    {
     "data": {
      "application/vnd.jupyter.widget-view+json": {
       "model_id": "075c9544df7c46f6b6a06a219a9318ab",
       "version_major": 2,
       "version_minor": 0
      },
      "text/plain": [
       "Validation: |          | 0/? [00:00<?, ?it/s]"
      ]
     },
     "metadata": {},
     "output_type": "display_data"
    },
    {
     "data": {
      "application/vnd.jupyter.widget-view+json": {
       "model_id": "cdfe9437b6834826be4329bae1036465",
       "version_major": 2,
       "version_minor": 0
      },
      "text/plain": [
       "Validation: |          | 0/? [00:00<?, ?it/s]"
      ]
     },
     "metadata": {},
     "output_type": "display_data"
    },
    {
     "data": {
      "application/vnd.jupyter.widget-view+json": {
       "model_id": "699e519383474b5eb2a5c65f5afce395",
       "version_major": 2,
       "version_minor": 0
      },
      "text/plain": [
       "Validation: |          | 0/? [00:00<?, ?it/s]"
      ]
     },
     "metadata": {},
     "output_type": "display_data"
    },
    {
     "data": {
      "application/vnd.jupyter.widget-view+json": {
       "model_id": "45d860d6f5c344b6bed2111e9a55269a",
       "version_major": 2,
       "version_minor": 0
      },
      "text/plain": [
       "Validation: |          | 0/? [00:00<?, ?it/s]"
      ]
     },
     "metadata": {},
     "output_type": "display_data"
    },
    {
     "data": {
      "application/vnd.jupyter.widget-view+json": {
       "model_id": "fd3128d1d16f4551b4db782534b563fe",
       "version_major": 2,
       "version_minor": 0
      },
      "text/plain": [
       "Validation: |          | 0/? [00:00<?, ?it/s]"
      ]
     },
     "metadata": {},
     "output_type": "display_data"
    },
    {
     "data": {
      "application/vnd.jupyter.widget-view+json": {
       "model_id": "5615645b40214926b4c31ba2c8b84cc9",
       "version_major": 2,
       "version_minor": 0
      },
      "text/plain": [
       "Validation: |          | 0/? [00:00<?, ?it/s]"
      ]
     },
     "metadata": {},
     "output_type": "display_data"
    },
    {
     "data": {
      "application/vnd.jupyter.widget-view+json": {
       "model_id": "c28247c77e1d450883a0fb9a72497b26",
       "version_major": 2,
       "version_minor": 0
      },
      "text/plain": [
       "Validation: |          | 0/? [00:00<?, ?it/s]"
      ]
     },
     "metadata": {},
     "output_type": "display_data"
    },
    {
     "data": {
      "application/vnd.jupyter.widget-view+json": {
       "model_id": "1a9df780cc4b4ad3894e419d4ee06e33",
       "version_major": 2,
       "version_minor": 0
      },
      "text/plain": [
       "Validation: |          | 0/? [00:00<?, ?it/s]"
      ]
     },
     "metadata": {},
     "output_type": "display_data"
    },
    {
     "data": {
      "application/vnd.jupyter.widget-view+json": {
       "model_id": "f58faba760024e048a8ceec96e55556a",
       "version_major": 2,
       "version_minor": 0
      },
      "text/plain": [
       "Validation: |          | 0/? [00:00<?, ?it/s]"
      ]
     },
     "metadata": {},
     "output_type": "display_data"
    },
    {
     "data": {
      "application/vnd.jupyter.widget-view+json": {
       "model_id": "e8c38914cd1443b89a45b42659d63371",
       "version_major": 2,
       "version_minor": 0
      },
      "text/plain": [
       "Validation: |          | 0/? [00:00<?, ?it/s]"
      ]
     },
     "metadata": {},
     "output_type": "display_data"
    },
    {
     "data": {
      "application/vnd.jupyter.widget-view+json": {
       "model_id": "dd65e114509d4920854f0a2ce6b46a51",
       "version_major": 2,
       "version_minor": 0
      },
      "text/plain": [
       "Validation: |          | 0/? [00:00<?, ?it/s]"
      ]
     },
     "metadata": {},
     "output_type": "display_data"
    },
    {
     "data": {
      "application/vnd.jupyter.widget-view+json": {
       "model_id": "05c8a08b0f7444a7865ed2862941e323",
       "version_major": 2,
       "version_minor": 0
      },
      "text/plain": [
       "Validation: |          | 0/? [00:00<?, ?it/s]"
      ]
     },
     "metadata": {},
     "output_type": "display_data"
    },
    {
     "data": {
      "application/vnd.jupyter.widget-view+json": {
       "model_id": "f4f7bad1f40e43bcab32166da8f1a497",
       "version_major": 2,
       "version_minor": 0
      },
      "text/plain": [
       "Validation: |          | 0/? [00:00<?, ?it/s]"
      ]
     },
     "metadata": {},
     "output_type": "display_data"
    },
    {
     "data": {
      "application/vnd.jupyter.widget-view+json": {
       "model_id": "6ab77663577549dc981f8e6f1d9534c0",
       "version_major": 2,
       "version_minor": 0
      },
      "text/plain": [
       "Validation: |          | 0/? [00:00<?, ?it/s]"
      ]
     },
     "metadata": {},
     "output_type": "display_data"
    },
    {
     "data": {
      "application/vnd.jupyter.widget-view+json": {
       "model_id": "0b4c71528383478bac4b043daf2be1b5",
       "version_major": 2,
       "version_minor": 0
      },
      "text/plain": [
       "Validation: |          | 0/? [00:00<?, ?it/s]"
      ]
     },
     "metadata": {},
     "output_type": "display_data"
    },
    {
     "data": {
      "application/vnd.jupyter.widget-view+json": {
       "model_id": "324cbd02f7444027aaad63de3f45437c",
       "version_major": 2,
       "version_minor": 0
      },
      "text/plain": [
       "Validation: |          | 0/? [00:00<?, ?it/s]"
      ]
     },
     "metadata": {},
     "output_type": "display_data"
    },
    {
     "data": {
      "application/vnd.jupyter.widget-view+json": {
       "model_id": "9c81a2389cf1433fbfda6ae5aad98328",
       "version_major": 2,
       "version_minor": 0
      },
      "text/plain": [
       "Validation: |          | 0/? [00:00<?, ?it/s]"
      ]
     },
     "metadata": {},
     "output_type": "display_data"
    },
    {
     "data": {
      "application/vnd.jupyter.widget-view+json": {
       "model_id": "84c955f9211842e2a52e0145f1fe49f9",
       "version_major": 2,
       "version_minor": 0
      },
      "text/plain": [
       "Validation: |          | 0/? [00:00<?, ?it/s]"
      ]
     },
     "metadata": {},
     "output_type": "display_data"
    },
    {
     "data": {
      "application/vnd.jupyter.widget-view+json": {
       "model_id": "c9146743ea8f45a2929602985b4ae54d",
       "version_major": 2,
       "version_minor": 0
      },
      "text/plain": [
       "Validation: |          | 0/? [00:00<?, ?it/s]"
      ]
     },
     "metadata": {},
     "output_type": "display_data"
    },
    {
     "name": "stderr",
     "output_type": "stream",
     "text": [
      "`Trainer.fit` stopped: `max_epochs=20` reached.\n"
     ]
    }
   ],
   "source": [
    "trainer = L.Trainer(logger=logger, callbacks=callbacks, **dict(config.trainer))\n",
    "trainer.fit(lit_mt_model, mt_train_dataloader, mt_test_dataloader)"
   ]
  },
  {
   "cell_type": "markdown",
   "metadata": {},
   "source": [
    "Metrics are saved in the tensorboard"
   ]
  },
  {
   "cell_type": "code",
   "execution_count": 26,
   "metadata": {},
   "outputs": [
    {
     "data": {
      "text/plain": [
       "Reusing TensorBoard on port 6007 (pid 30356), started 0:00:04 ago. (Use '!kill 30356' to kill it.)"
      ]
     },
     "metadata": {},
     "output_type": "display_data"
    },
    {
     "data": {
      "text/html": [
       "\n",
       "      <iframe id=\"tensorboard-frame-d15030b213c19d10\" width=\"100%\" height=\"800\" frameborder=\"0\">\n",
       "      </iframe>\n",
       "      <script>\n",
       "        (function() {\n",
       "          const frame = document.getElementById(\"tensorboard-frame-d15030b213c19d10\");\n",
       "          const url = new URL(\"http://localhost\");\n",
       "          const port = 6007;\n",
       "          if (port) {\n",
       "            url.port = port;\n",
       "          }\n",
       "          frame.src = url;\n",
       "        })();\n",
       "      </script>\n",
       "    "
      ],
      "text/plain": [
       "<IPython.core.display.HTML object>"
      ]
     },
     "metadata": {},
     "output_type": "display_data"
    }
   ],
   "source": [
    "%tensorboard --logdir mt_logs/multitask"
   ]
  },
  {
   "cell_type": "markdown",
   "metadata": {},
   "source": [
    "As we can see, the training is successful. From the vizualized classifier mixing paramters it is clear that the algorithm has found connection between task 1 and 2."
   ]
  },
  {
   "cell_type": "markdown",
   "metadata": {},
   "source": [
    "## Solo and multitask comparasion"
   ]
  },
  {
   "cell_type": "markdown",
   "metadata": {},
   "source": [
    "Final accuracy metrics are equal within the error margin for solo and multitask models. Because the tasks are simple and synthetic, we have not seen the performance difference. But for more serious tasks with possible probabilistic connections the variational multitask may give significant boost."
   ]
  }
 ],
 "metadata": {
  "kernelspec": {
   "display_name": ".venv",
   "language": "python",
   "name": "python3"
  },
  "language_info": {
   "codemirror_mode": {
    "name": "ipython",
    "version": 3
   },
   "file_extension": ".py",
   "mimetype": "text/x-python",
   "name": "python",
   "nbconvert_exporter": "python",
   "pygments_lexer": "ipython3",
   "version": "3.12.10"
  }
 },
 "nbformat": 4,
 "nbformat_minor": 2
}
