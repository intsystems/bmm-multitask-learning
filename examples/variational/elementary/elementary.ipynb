{
 "cells": [
  {
   "cell_type": "code",
   "execution_count": 1,
   "metadata": {},
   "outputs": [],
   "source": [
    "%load_ext autoreload\n",
    "%aimport data\n",
    "%autoreload 1"
   ]
  },
  {
   "cell_type": "code",
   "execution_count": 2,
   "metadata": {},
   "outputs": [],
   "source": [
    "%load_ext tensorboard"
   ]
  },
  {
   "cell_type": "code",
   "execution_count": 3,
   "metadata": {},
   "outputs": [
    {
     "name": "stderr",
     "output_type": "stream",
     "text": [
      "/home/kirill/.cache/pypoetry/virtualenvs/bmm-multitask-learning-_LQwnQjl-py3.12/lib/python3.12/site-packages/tqdm/auto.py:21: TqdmWarning: IProgress not found. Please update jupyter and ipywidgets. See https://ipywidgets.readthedocs.io/en/stable/user_install.html\n",
      "  from .autonotebook import tqdm as notebook_tqdm\n"
     ]
    }
   ],
   "source": [
    "from typing import Optional, Callable\n",
    "from functools import partial\n",
    "from itertools import takewhile\n",
    "from pipe import select\n",
    "\n",
    "from omegaconf import OmegaConf\n",
    "\n",
    "import pandas as pd\n",
    "import numpy as np\n",
    "\n",
    "import plotly.express as px\n",
    "import plotly.graph_objects as go\n",
    "\n",
    "import matplotlib.pyplot as plt\n",
    "\n",
    "import torch\n",
    "import torch.nn as nn\n",
    "from torch.utils.data import Dataset, DataLoader, random_split, StackDataset, Subset\n",
    "from torch import optim\n",
    "from torch import distributions as distr\n",
    "\n",
    "import pyro\n",
    "import pyro.nn as pnn\n",
    "import pyro.distributions as pdistr\n",
    "from pyro.distributions import Delta\n",
    "import pyro.infer\n",
    "from pyro.infer import Trace_ELBO\n",
    "from pyro.infer.autoguide import AutoNormal\n",
    "\n",
    "import lightning as L\n",
    "from lightning.pytorch.loggers import TensorBoardLogger\n",
    "from lightning.pytorch.callbacks import EarlyStopping\n",
    "\n",
    "from torchmetrics.classification import Accuracy\n",
    "\n",
    "from bmm_multitask_learning.variational.elbo import MultiTaskElbo\n",
    "from bmm_multitask_learning.variational.distr import build_predictive"
   ]
  },
  {
   "cell_type": "code",
   "execution_count": 4,
   "metadata": {},
   "outputs": [],
   "source": [
    "config = OmegaConf.load(\"config.yaml\")"
   ]
  },
  {
   "cell_type": "code",
   "execution_count": 5,
   "metadata": {},
   "outputs": [],
   "source": [
    "torch.manual_seed(config.seed);"
   ]
  },
  {
   "cell_type": "markdown",
   "metadata": {},
   "source": [
    "## Data"
   ]
  },
  {
   "cell_type": "code",
   "execution_count": 6,
   "metadata": {},
   "outputs": [],
   "source": [
    "from data import build_linked_datasets, build_solo_dataset\n",
    "\n",
    "NUM_MODELS = 3\n",
    "\n",
    "\n",
    "datasets = [*build_linked_datasets(config.size, config.dim), build_solo_dataset(config.size, config.dim)]\n",
    "# extract w\n",
    "w_list = list(\n",
    "    datasets | select(lambda w_dataset: w_dataset[0])\n",
    ")\n",
    "# extract (X, y) pairs\n",
    "datasets = list(\n",
    "    datasets |\n",
    "    select(lambda w_dataset: w_dataset[1]) |\n",
    "    select(lambda d: random_split(d, [1 - config.test_ratio, config.test_ratio]))\n",
    ")\n",
    "\n",
    "train_datasets, test_datasets = zip(*datasets)"
   ]
  },
  {
   "cell_type": "code",
   "execution_count": 7,
   "metadata": {},
   "outputs": [
    {
     "data": {
      "application/vnd.microsoft.datawrangler.viewer.v0+json": {
       "columns": [
        {
         "name": "index",
         "rawType": "int64",
         "type": "integer"
        },
        {
         "name": "x",
         "rawType": "float32",
         "type": "float"
        },
        {
         "name": "y",
         "rawType": "float32",
         "type": "float"
        },
        {
         "name": "dataset",
         "rawType": "object",
         "type": "string"
        }
       ],
       "conversionMethod": "pd.DataFrame",
       "ref": "014586e1-71bb-462e-be0a-8c795c9c59c2",
       "rows": [
        [
         "0",
         "-0.094633624",
         "-2.3359578",
         "0"
        ],
        [
         "1",
         "10.453236",
         "3.087356",
         "0"
        ],
        [
         "2",
         "-2.8137417",
         "-2.073199",
         "0"
        ],
        [
         "3",
         "-6.502639",
         "-0.50982493",
         "0"
        ],
        [
         "4",
         "-5.4921374",
         "-2.3346376",
         "0"
        ]
       ],
       "shape": {
        "columns": 3,
        "rows": 5
       }
      },
      "text/html": [
       "<div>\n",
       "<style scoped>\n",
       "    .dataframe tbody tr th:only-of-type {\n",
       "        vertical-align: middle;\n",
       "    }\n",
       "\n",
       "    .dataframe tbody tr th {\n",
       "        vertical-align: top;\n",
       "    }\n",
       "\n",
       "    .dataframe thead th {\n",
       "        text-align: right;\n",
       "    }\n",
       "</style>\n",
       "<table border=\"1\" class=\"dataframe\">\n",
       "  <thead>\n",
       "    <tr style=\"text-align: right;\">\n",
       "      <th></th>\n",
       "      <th>x</th>\n",
       "      <th>y</th>\n",
       "      <th>dataset</th>\n",
       "    </tr>\n",
       "  </thead>\n",
       "  <tbody>\n",
       "    <tr>\n",
       "      <th>0</th>\n",
       "      <td>-0.094634</td>\n",
       "      <td>-2.335958</td>\n",
       "      <td>0</td>\n",
       "    </tr>\n",
       "    <tr>\n",
       "      <th>1</th>\n",
       "      <td>10.453236</td>\n",
       "      <td>3.087356</td>\n",
       "      <td>0</td>\n",
       "    </tr>\n",
       "    <tr>\n",
       "      <th>2</th>\n",
       "      <td>-2.813742</td>\n",
       "      <td>-2.073199</td>\n",
       "      <td>0</td>\n",
       "    </tr>\n",
       "    <tr>\n",
       "      <th>3</th>\n",
       "      <td>-6.502639</td>\n",
       "      <td>-0.509825</td>\n",
       "      <td>0</td>\n",
       "    </tr>\n",
       "    <tr>\n",
       "      <th>4</th>\n",
       "      <td>-5.492137</td>\n",
       "      <td>-2.334638</td>\n",
       "      <td>0</td>\n",
       "    </tr>\n",
       "  </tbody>\n",
       "</table>\n",
       "</div>"
      ],
      "text/plain": [
       "           x         y dataset\n",
       "0  -0.094634 -2.335958       0\n",
       "1  10.453236  3.087356       0\n",
       "2  -2.813742 -2.073199       0\n",
       "3  -6.502639 -0.509825       0\n",
       "4  -5.492137 -2.334638       0"
      ]
     },
     "execution_count": 7,
     "metadata": {},
     "output_type": "execute_result"
    }
   ],
   "source": [
    "# TODO: draw X and hyperplane\n",
    "points_df = []\n",
    "\n",
    "for i, dataset in enumerate(train_datasets):\n",
    "    X = dataset.dataset.tensors[0].numpy()\n",
    "    cur_df = pd.DataFrame(X, columns=[\"x\", \"y\"])\n",
    "    cur_df[\"dataset\"] = str(i)\n",
    "    points_df.append(cur_df)\n",
    "points_df = pd.concat(points_df, axis=0)\n",
    "\n",
    "points_df.head()"
   ]
  },
  {
   "cell_type": "code",
   "execution_count": 8,
   "metadata": {},
   "outputs": [],
   "source": [
    "plane_df = []\n",
    "for i, w in enumerate(w_list):\n",
    "    w = w.numpy()\n",
    "    cur_df = pd.DataFrame(np.linspace(-20, 20, 10)[:, None] * w[None, :], columns=[\"x\", \"y\"])\n",
    "    cur_df[\"dataset\"] = str(i)\n",
    "    plane_df.append(cur_df)\n",
    "plane_df = pd.concat(plane_df, axis=0)"
   ]
  },
  {
   "cell_type": "code",
   "execution_count": 9,
   "metadata": {},
   "outputs": [
    {
     "data": {
      "application/vnd.plotly.v1+json": {
       "config": {
        "plotlyServerURL": "https://plot.ly"
       },
       "data": [
        {
         "hovertemplate": "dataset=0<br>x=%{x}<br>y=%{y}<extra></extra>",
         "legendgroup": "0",
         "marker": {
          "color": "#636efa",
          "symbol": "circle"
         },
         "mode": "markers",
         "name": "0",
         "showlegend": true,
         "type": "scattergl",
         "x": {
          "bdata": "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",
          "dtype": "f4"
         },
         "xaxis": "x",
         "y": {
          "bdata": "VYAVwD6XRUBLrwTA44MCv7RqFcAZVltAOkjhvqcV5L8JeAdAnB8gwAfju792sZ/AEF5bwB9/vz/dTP1ATY0TQR7RpkB4hxrACYUOwI+VIUAMebnApxovQBBPosCmRt0/Fo/2wF5o70BO6m1A2RR+QMOzk0AwwnlAtg41wQBsf8Bbmea/CM3ZwACkNcAsBRRB7uoFwP1TDcDmjrVAZrFQP9OqgUCHY4C/GzEswWHV80Bilyk/H4jWv+0PeL+C0A/Ad/+HwDBNb8CTVkTA/PUXQahP18DArwFAcAAQwW97bb/5VKI/sTDWvkH1hL+VDBFB2Z0EwZU23sD9Cfc/mxA0wRnrMUAm2La/pRGPQGOQIECnFYa/6XmZwGvnQsCttp1AZL5jwCG+FMFMT/8//nAfwSdDj0AUL2ZARBg+Pw/tFkHYv60/CGc6wHPJzUB6Jri+BokhQDlU1cCUk+Q/Ki6/v8UGYUDvOU/A0SHDwMcp3T6tJyRAppIeQO4mLMCEFQPA31+RwHcFpz/eWPq/JIiavu+1wD+MRKi+UxWev7SSBcFIfzLANc+UQJzGm8CD0ghASdMhQUDrsEB6hPpAbZSZwKDJlkD3slVASvzsvhiFCsHYerlAWBysQG1wBEAVFB7An63yQKuWi7/RfKvAZAgAvgEpCMCyIzbB2ciiQAQIN0D19No/7gECvpKZ+MDhO1ZAxfkoPwVLhEA76dtAUQQkP6HGvL9KpL0/RZpDQP5R3ECP7dY/Fp+fQLsiCkDEQR1AOKD7wAIriUAeMHrAfEddQIKM/8DpGeu/5giwwM8/+0A4/fs/mAgvQCY5Uj+5LuRAVFziP0K7J0Chg6G/b5L9QBx+Jj8vmLxAyq3GPwvD3kDEywPBtcSpQIJaFcChSEvBmrouwGDPMUBHj67Ak5KowJJNBkHJy4LA5N3kvxCkUD9t2u2+UeDOQI/KAr/xhpW+DfMiQeOnab+MkPS/CoVnP/fqlL9fFFg9q1D5P/A//T/lNAXBKyCWQNrrjb/zGYnA44yeQJrys0CERNzAa8+mv3tODkGS1n1Adq4wQIi6MT5MnD9AyZXhv8gd5MDfR+s/mUzAQGWOYcACLCjBc6SmwLI+FkDQXK8/ot6uQCTOykCH0zG/v04twLtvhj6L2afA02p5QIh/R0DcubtAvYPJQOUe38Bym5NAUFarPll/nr+uxMi/PvkVQLpNFz+g1YTABd6OQAcBq0D7QBTBuXm7QJG6UMDMuwtAq5kRQAr0+T+ieP1AUwkzvgJBA0F1xMO/oN5QwDSVQEDUfgvBSyqYPxSj8MCBLtxAjz38QN/TBMD/XbnAwPEKQMRUjT9BIydAoCKyQGTzFEEk5Q/BJvThwAE77z+Z5TBA6lelwJ6gpsBYjZ9AsulPQf0JCUGWa0fAuMWyvhkNpsDsBxBBxTXbv7vjlL/OpMZAczPjQH/MIUBh+HhAv3WEQFTCsT72Wp6//ZDJQIy3msDPQhtBKvacwHI5Qz8fUytBrLrxv9h3mT97eepAabmUQMVaAMHpX0E/PkctwEXfvT8QUenAaimQv4MrT8B3sbU9LXkpwGXJ4r9zc1zA3CzywBMsjj8ZjzJAN56Lvr4mYkBDcfq+X1jdwLrzUcAGVw7BUak1wAzEhz9dm5xAMbEuwVAD6kCb5dJAjX6RQA13BcFOhfc/yXixP4byL8AxpKo/0brPwC4N9cCq8kk/IyL1QMrYkEAlaxlA9tsJwOlYxcCQSro/4UWQP/bfwsAN7EtAMtqbwBcwhUAhJJRAtwxePz23Cb/0ktFAB33RwFJmFECnKHVAMQ+wPjCV1D+i3BZA5VKlwD39QkEvDNPA3rQAwRaolECqA0LACIAhwbgxbsCxjb7AnZ6SwEm7iUBKmUNAbllWQavt0b7wKnrAi0HwwBr+o0Cz4qfA0BptQHH5G8D9hDlA5ok1wZt4qD+OsxlB9BQcwVhrtb+jPru/gs3jP1+NJb9BhRRAEaJoQOEKGUCFmx9AfPtCPamshEAbJxc+QsIJPnlOnUBToWZAvzK1QAvmIMGNp7PApEHkQDkLIUG1s3nApgMiQIKoOcBcrPK9XgAowJOseT9mwQPAKB4Iv6YpQ8Bsw6LAVUIXQVdtlcD/dorAqsn8Ptd5i0BCS4C+N0HDwBMT9kCtqq8/X98LvwTssL/6Abg/DoOVvw5KYUB3wDu/aFPKvtnslMCWA28/fgTlwHsaYMAxUzHB1Q7SwJO58j3u+AHBp4p3wC10uMDnWavAMSbBP0HqID9hZizAoksvQG1s8UDE3w/AXo9gQCmhsUB2pGnAAHGyQOwX4D6c9SbAVAcXvqHEOEDIasLAiOXKP7e4o8CTZbw/0bjYwICIKcB+KE7A1kzev3+fpD47ggY/KGTxQN8i3cBnilO/y/MEweSm0j4f97Q/yBCUvX9RH8CR6EZAXqyXQC5fBsHSy0c96K0pQG5DUUBbDObA8jlNwNJlVUBHyl3AUU1wQIXCuUD/leU/BweNwHf96kBnX+NAK4GEwAaM00B7vLdAYrICQJPfFL+WkIi/g37ZQFeQLMAzTpTAh9kVwXgLxMDdjtBAz2SOvyE1MMBf2TU9CSrZvRVndcABsotA7CAjPwyvOkADEww/Fe9aQC5nFL8jFs1A0tGgwLbnekAbZug/NMalwJp23r+XgxO/rpAMQW3bR79dlxXAcRMBwMbb7L/mlwVBMxHeQNeYhsBCq5y/xoP4QGT2QUC6x4Q/m8m9Pr+MqcBOGgnANv7KQGhF8MCr7ys9G3KjwDahksBmSbHAb1xmPj092UCPkQZALUxdQG5617/k45TAj+6WQKbV/EDK9y3BlctNPcrRQsCoXee/hCnLwPntHj9iAMXAPh6HQMNd6D99lmfAJbMNQSzAWUAXip6/9gLRv+57WcBywIFApjkrQSHqwMAZNhtA83BHvnOfAUHaFI9AXWCZP8CeusAiTlTA+eufP5ceCcCQRrS/feAXQUzZOcBsEpTAVQlCQC7FREBlWgo/8L3KQIZ0wz/fNp+/oTr0QExVPcBOL9M+yiCQvnJ9gkCdaYM/awEDwDEFoEDureA9XXCowETzO78wxGPAU7Q2v5Y2DUApvoi/Wl2UQCHcu0DrKRS/8bdAwNY4DkAyqhxAoZ6aQErYMT8IFDq+Cgm8wOWZl0AUxDrAC1imQMqIXkBQ1gc+NygGwbIpmMBN6rBA",
          "dtype": "f4"
         },
         "yaxis": "y"
        },
        {
         "hovertemplate": "dataset=1<br>x=%{x}<br>y=%{y}<extra></extra>",
         "legendgroup": "1",
         "marker": {
          "color": "#EF553B",
          "symbol": "diamond"
         },
         "mode": "markers",
         "name": "1",
         "showlegend": true,
         "type": "scattergl",
         "x": {
          "bdata": "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",
          "dtype": "f4"
         },
         "xaxis": "x",
         "y": {
          "bdata": "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",
          "dtype": "f4"
         },
         "yaxis": "y"
        },
        {
         "hovertemplate": "dataset=2<br>x=%{x}<br>y=%{y}<extra></extra>",
         "legendgroup": "2",
         "marker": {
          "color": "#00cc96",
          "symbol": "square"
         },
         "mode": "markers",
         "name": "2",
         "showlegend": true,
         "type": "scattergl",
         "x": {
          "bdata": "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",
          "dtype": "f4"
         },
         "xaxis": "x",
         "y": {
          "bdata": "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",
          "dtype": "f4"
         },
         "yaxis": "y"
        },
        {
         "hovertemplate": "dataset=0<br>x=%{x}<br>y=%{y}<extra></extra>",
         "legendgroup": "0",
         "line": {
          "color": "#636efa",
          "dash": "solid",
          "width": 3
         },
         "marker": {
          "symbol": "circle"
         },
         "mode": "lines",
         "name": "0",
         "orientation": "v",
         "showlegend": true,
         "type": "scatter",
         "x": {
          "bdata": "AAAASGXCIkA5juOoZC4dQHIcx8H+1xRAVVVVtTEDCUCN4zjOy6zwP43jOM7LrPC/V1VVtTEDCcBzHMfB/tcUwDqO46hkLh3AAAAASGXCIsA=",
          "dtype": "f8"
         },
         "xaxis": "x",
         "y": {
          "bdata": "AAAAkFfs/L9VVVXF7n72v6uqqvqFEfC/AAAAYDpI47+oqqoqo7XJv6iqqiqjtck/AQAAYDpI4z+sqqr6hRHwP1ZVVcXufvY/AAAAkFfs/D8=",
          "dtype": "f8"
         },
         "yaxis": "y"
        },
        {
         "hovertemplate": "dataset=1<br>x=%{x}<br>y=%{y}<extra></extra>",
         "legendgroup": "1",
         "line": {
          "color": "#EF553B",
          "dash": "solid",
          "width": 3
         },
         "marker": {
          "symbol": "circle"
         },
         "mode": "lines",
         "name": "1",
         "orientation": "v",
         "showlegend": true,
         "type": "scatter",
         "x": {
          "bdata": "AAAALGTWIUBVVVV9Rr8bQKqqqqLE0RNA////j4XIB0CnqqpqB7bvP6eqqmoHtu+/AQAAkIXIB8CsqqqixNETwFZVVX1GvxvAAAAALGTWIcA=",
          "dtype": "f8"
         },
         "xaxis": "x",
         "y": {
          "bdata": "AAAAWKtf8L+O4zjeX3jpvxzHcQxpMeK/VVVVdeTU1b/EcRxH2xu9v8RxHEfbG70/VlVVdeTU1T8ex3EMaTHiP4/jON5feOk/AAAAWKtf8D8=",
          "dtype": "f8"
         },
         "yaxis": "y"
        },
        {
         "hovertemplate": "dataset=2<br>x=%{x}<br>y=%{y}<extra></extra>",
         "legendgroup": "2",
         "line": {
          "color": "#00cc96",
          "dash": "solid",
          "width": 3
         },
         "marker": {
          "symbol": "circle"
         },
         "mode": "lines",
         "name": "2",
         "orientation": "v",
         "showlegend": true,
         "type": "scatter",
         "x": {
          "bdata": "AAAAyEH6NMAcx3HU3VAwwHIcx8HzTifAVVVVtVf4G8CM4zjOj6UCwIzjOM6PpQJAV1VVtVf4G0B0HMfB804nQB3HcdTdUDBAAAAAyEH6NEA=",
          "dtype": "f8"
         },
         "xaxis": "x",
         "y": {
          "bdata": "AAAAGCQQM8DHcRyXVKctwI7jOP5gLiXAqqqqytpqGcBwHMcx5/EAwHAcxzHn8QBArKqqytpqGUCQ4zj+YC4lQMhxHJdUpy1AAAAAGCQQM0A=",
          "dtype": "f8"
         },
         "yaxis": "y"
        }
       ],
       "layout": {
        "template": {
         "data": {
          "bar": [
           {
            "error_x": {
             "color": "#2a3f5f"
            },
            "error_y": {
             "color": "#2a3f5f"
            },
            "marker": {
             "line": {
              "color": "#E5ECF6",
              "width": 0.5
             },
             "pattern": {
              "fillmode": "overlay",
              "size": 10,
              "solidity": 0.2
             }
            },
            "type": "bar"
           }
          ],
          "barpolar": [
           {
            "marker": {
             "line": {
              "color": "#E5ECF6",
              "width": 0.5
             },
             "pattern": {
              "fillmode": "overlay",
              "size": 10,
              "solidity": 0.2
             }
            },
            "type": "barpolar"
           }
          ],
          "carpet": [
           {
            "aaxis": {
             "endlinecolor": "#2a3f5f",
             "gridcolor": "white",
             "linecolor": "white",
             "minorgridcolor": "white",
             "startlinecolor": "#2a3f5f"
            },
            "baxis": {
             "endlinecolor": "#2a3f5f",
             "gridcolor": "white",
             "linecolor": "white",
             "minorgridcolor": "white",
             "startlinecolor": "#2a3f5f"
            },
            "type": "carpet"
           }
          ],
          "choropleth": [
           {
            "colorbar": {
             "outlinewidth": 0,
             "ticks": ""
            },
            "type": "choropleth"
           }
          ],
          "contour": [
           {
            "colorbar": {
             "outlinewidth": 0,
             "ticks": ""
            },
            "colorscale": [
             [
              0,
              "#0d0887"
             ],
             [
              0.1111111111111111,
              "#46039f"
             ],
             [
              0.2222222222222222,
              "#7201a8"
             ],
             [
              0.3333333333333333,
              "#9c179e"
             ],
             [
              0.4444444444444444,
              "#bd3786"
             ],
             [
              0.5555555555555556,
              "#d8576b"
             ],
             [
              0.6666666666666666,
              "#ed7953"
             ],
             [
              0.7777777777777778,
              "#fb9f3a"
             ],
             [
              0.8888888888888888,
              "#fdca26"
             ],
             [
              1,
              "#f0f921"
             ]
            ],
            "type": "contour"
           }
          ],
          "contourcarpet": [
           {
            "colorbar": {
             "outlinewidth": 0,
             "ticks": ""
            },
            "type": "contourcarpet"
           }
          ],
          "heatmap": [
           {
            "colorbar": {
             "outlinewidth": 0,
             "ticks": ""
            },
            "colorscale": [
             [
              0,
              "#0d0887"
             ],
             [
              0.1111111111111111,
              "#46039f"
             ],
             [
              0.2222222222222222,
              "#7201a8"
             ],
             [
              0.3333333333333333,
              "#9c179e"
             ],
             [
              0.4444444444444444,
              "#bd3786"
             ],
             [
              0.5555555555555556,
              "#d8576b"
             ],
             [
              0.6666666666666666,
              "#ed7953"
             ],
             [
              0.7777777777777778,
              "#fb9f3a"
             ],
             [
              0.8888888888888888,
              "#fdca26"
             ],
             [
              1,
              "#f0f921"
             ]
            ],
            "type": "heatmap"
           }
          ],
          "histogram": [
           {
            "marker": {
             "pattern": {
              "fillmode": "overlay",
              "size": 10,
              "solidity": 0.2
             }
            },
            "type": "histogram"
           }
          ],
          "histogram2d": [
           {
            "colorbar": {
             "outlinewidth": 0,
             "ticks": ""
            },
            "colorscale": [
             [
              0,
              "#0d0887"
             ],
             [
              0.1111111111111111,
              "#46039f"
             ],
             [
              0.2222222222222222,
              "#7201a8"
             ],
             [
              0.3333333333333333,
              "#9c179e"
             ],
             [
              0.4444444444444444,
              "#bd3786"
             ],
             [
              0.5555555555555556,
              "#d8576b"
             ],
             [
              0.6666666666666666,
              "#ed7953"
             ],
             [
              0.7777777777777778,
              "#fb9f3a"
             ],
             [
              0.8888888888888888,
              "#fdca26"
             ],
             [
              1,
              "#f0f921"
             ]
            ],
            "type": "histogram2d"
           }
          ],
          "histogram2dcontour": [
           {
            "colorbar": {
             "outlinewidth": 0,
             "ticks": ""
            },
            "colorscale": [
             [
              0,
              "#0d0887"
             ],
             [
              0.1111111111111111,
              "#46039f"
             ],
             [
              0.2222222222222222,
              "#7201a8"
             ],
             [
              0.3333333333333333,
              "#9c179e"
             ],
             [
              0.4444444444444444,
              "#bd3786"
             ],
             [
              0.5555555555555556,
              "#d8576b"
             ],
             [
              0.6666666666666666,
              "#ed7953"
             ],
             [
              0.7777777777777778,
              "#fb9f3a"
             ],
             [
              0.8888888888888888,
              "#fdca26"
             ],
             [
              1,
              "#f0f921"
             ]
            ],
            "type": "histogram2dcontour"
           }
          ],
          "mesh3d": [
           {
            "colorbar": {
             "outlinewidth": 0,
             "ticks": ""
            },
            "type": "mesh3d"
           }
          ],
          "parcoords": [
           {
            "line": {
             "colorbar": {
              "outlinewidth": 0,
              "ticks": ""
             }
            },
            "type": "parcoords"
           }
          ],
          "pie": [
           {
            "automargin": true,
            "type": "pie"
           }
          ],
          "scatter": [
           {
            "fillpattern": {
             "fillmode": "overlay",
             "size": 10,
             "solidity": 0.2
            },
            "type": "scatter"
           }
          ],
          "scatter3d": [
           {
            "line": {
             "colorbar": {
              "outlinewidth": 0,
              "ticks": ""
             }
            },
            "marker": {
             "colorbar": {
              "outlinewidth": 0,
              "ticks": ""
             }
            },
            "type": "scatter3d"
           }
          ],
          "scattercarpet": [
           {
            "marker": {
             "colorbar": {
              "outlinewidth": 0,
              "ticks": ""
             }
            },
            "type": "scattercarpet"
           }
          ],
          "scattergeo": [
           {
            "marker": {
             "colorbar": {
              "outlinewidth": 0,
              "ticks": ""
             }
            },
            "type": "scattergeo"
           }
          ],
          "scattergl": [
           {
            "marker": {
             "colorbar": {
              "outlinewidth": 0,
              "ticks": ""
             }
            },
            "type": "scattergl"
           }
          ],
          "scattermap": [
           {
            "marker": {
             "colorbar": {
              "outlinewidth": 0,
              "ticks": ""
             }
            },
            "type": "scattermap"
           }
          ],
          "scattermapbox": [
           {
            "marker": {
             "colorbar": {
              "outlinewidth": 0,
              "ticks": ""
             }
            },
            "type": "scattermapbox"
           }
          ],
          "scatterpolar": [
           {
            "marker": {
             "colorbar": {
              "outlinewidth": 0,
              "ticks": ""
             }
            },
            "type": "scatterpolar"
           }
          ],
          "scatterpolargl": [
           {
            "marker": {
             "colorbar": {
              "outlinewidth": 0,
              "ticks": ""
             }
            },
            "type": "scatterpolargl"
           }
          ],
          "scatterternary": [
           {
            "marker": {
             "colorbar": {
              "outlinewidth": 0,
              "ticks": ""
             }
            },
            "type": "scatterternary"
           }
          ],
          "surface": [
           {
            "colorbar": {
             "outlinewidth": 0,
             "ticks": ""
            },
            "colorscale": [
             [
              0,
              "#0d0887"
             ],
             [
              0.1111111111111111,
              "#46039f"
             ],
             [
              0.2222222222222222,
              "#7201a8"
             ],
             [
              0.3333333333333333,
              "#9c179e"
             ],
             [
              0.4444444444444444,
              "#bd3786"
             ],
             [
              0.5555555555555556,
              "#d8576b"
             ],
             [
              0.6666666666666666,
              "#ed7953"
             ],
             [
              0.7777777777777778,
              "#fb9f3a"
             ],
             [
              0.8888888888888888,
              "#fdca26"
             ],
             [
              1,
              "#f0f921"
             ]
            ],
            "type": "surface"
           }
          ],
          "table": [
           {
            "cells": {
             "fill": {
              "color": "#EBF0F8"
             },
             "line": {
              "color": "white"
             }
            },
            "header": {
             "fill": {
              "color": "#C8D4E3"
             },
             "line": {
              "color": "white"
             }
            },
            "type": "table"
           }
          ]
         },
         "layout": {
          "annotationdefaults": {
           "arrowcolor": "#2a3f5f",
           "arrowhead": 0,
           "arrowwidth": 1
          },
          "autotypenumbers": "strict",
          "coloraxis": {
           "colorbar": {
            "outlinewidth": 0,
            "ticks": ""
           }
          },
          "colorscale": {
           "diverging": [
            [
             0,
             "#8e0152"
            ],
            [
             0.1,
             "#c51b7d"
            ],
            [
             0.2,
             "#de77ae"
            ],
            [
             0.3,
             "#f1b6da"
            ],
            [
             0.4,
             "#fde0ef"
            ],
            [
             0.5,
             "#f7f7f7"
            ],
            [
             0.6,
             "#e6f5d0"
            ],
            [
             0.7,
             "#b8e186"
            ],
            [
             0.8,
             "#7fbc41"
            ],
            [
             0.9,
             "#4d9221"
            ],
            [
             1,
             "#276419"
            ]
           ],
           "sequential": [
            [
             0,
             "#0d0887"
            ],
            [
             0.1111111111111111,
             "#46039f"
            ],
            [
             0.2222222222222222,
             "#7201a8"
            ],
            [
             0.3333333333333333,
             "#9c179e"
            ],
            [
             0.4444444444444444,
             "#bd3786"
            ],
            [
             0.5555555555555556,
             "#d8576b"
            ],
            [
             0.6666666666666666,
             "#ed7953"
            ],
            [
             0.7777777777777778,
             "#fb9f3a"
            ],
            [
             0.8888888888888888,
             "#fdca26"
            ],
            [
             1,
             "#f0f921"
            ]
           ],
           "sequentialminus": [
            [
             0,
             "#0d0887"
            ],
            [
             0.1111111111111111,
             "#46039f"
            ],
            [
             0.2222222222222222,
             "#7201a8"
            ],
            [
             0.3333333333333333,
             "#9c179e"
            ],
            [
             0.4444444444444444,
             "#bd3786"
            ],
            [
             0.5555555555555556,
             "#d8576b"
            ],
            [
             0.6666666666666666,
             "#ed7953"
            ],
            [
             0.7777777777777778,
             "#fb9f3a"
            ],
            [
             0.8888888888888888,
             "#fdca26"
            ],
            [
             1,
             "#f0f921"
            ]
           ]
          },
          "colorway": [
           "#636efa",
           "#EF553B",
           "#00cc96",
           "#ab63fa",
           "#FFA15A",
           "#19d3f3",
           "#FF6692",
           "#B6E880",
           "#FF97FF",
           "#FECB52"
          ],
          "font": {
           "color": "#2a3f5f"
          },
          "geo": {
           "bgcolor": "white",
           "lakecolor": "white",
           "landcolor": "#E5ECF6",
           "showlakes": true,
           "showland": true,
           "subunitcolor": "white"
          },
          "hoverlabel": {
           "align": "left"
          },
          "hovermode": "closest",
          "mapbox": {
           "style": "light"
          },
          "paper_bgcolor": "white",
          "plot_bgcolor": "#E5ECF6",
          "polar": {
           "angularaxis": {
            "gridcolor": "white",
            "linecolor": "white",
            "ticks": ""
           },
           "bgcolor": "#E5ECF6",
           "radialaxis": {
            "gridcolor": "white",
            "linecolor": "white",
            "ticks": ""
           }
          },
          "scene": {
           "xaxis": {
            "backgroundcolor": "#E5ECF6",
            "gridcolor": "white",
            "gridwidth": 2,
            "linecolor": "white",
            "showbackground": true,
            "ticks": "",
            "zerolinecolor": "white"
           },
           "yaxis": {
            "backgroundcolor": "#E5ECF6",
            "gridcolor": "white",
            "gridwidth": 2,
            "linecolor": "white",
            "showbackground": true,
            "ticks": "",
            "zerolinecolor": "white"
           },
           "zaxis": {
            "backgroundcolor": "#E5ECF6",
            "gridcolor": "white",
            "gridwidth": 2,
            "linecolor": "white",
            "showbackground": true,
            "ticks": "",
            "zerolinecolor": "white"
           }
          },
          "shapedefaults": {
           "line": {
            "color": "#2a3f5f"
           }
          },
          "ternary": {
           "aaxis": {
            "gridcolor": "white",
            "linecolor": "white",
            "ticks": ""
           },
           "baxis": {
            "gridcolor": "white",
            "linecolor": "white",
            "ticks": ""
           },
           "bgcolor": "#E5ECF6",
           "caxis": {
            "gridcolor": "white",
            "linecolor": "white",
            "ticks": ""
           }
          },
          "title": {
           "x": 0.05
          },
          "xaxis": {
           "automargin": true,
           "gridcolor": "white",
           "linecolor": "white",
           "ticks": "",
           "title": {
            "standoff": 15
           },
           "zerolinecolor": "white",
           "zerolinewidth": 2
          },
          "yaxis": {
           "automargin": true,
           "gridcolor": "white",
           "linecolor": "white",
           "ticks": "",
           "title": {
            "standoff": 15
           },
           "zerolinecolor": "white",
           "zerolinewidth": 2
          }
         }
        }
       }
      }
     },
     "metadata": {},
     "output_type": "display_data"
    }
   ],
   "source": [
    "fig_points = px.scatter(points_df, x=\"x\", y=\"y\", color=\"dataset\", symbol=\"dataset\")\n",
    "fig_plane = px.line(plane_df, x=\"x\", y=\"y\", color=\"dataset\")\n",
    "fig_plane.update_traces(line=dict(width=3))\n",
    "fig = go.Figure(data=fig_points.data + fig_plane.data)\n",
    "fig.show()"
   ]
  },
  {
   "cell_type": "markdown",
   "metadata": {},
   "source": [
    "## Variational multitask models"
   ]
  },
  {
   "cell_type": "markdown",
   "metadata": {},
   "source": [
    "Register KL computation for $\\delta$-distribution. Here we don't have state variables and don't count its KL at all"
   ]
  },
  {
   "cell_type": "code",
   "execution_count": 10,
   "metadata": {},
   "outputs": [],
   "source": [
    "@distr.kl.register_kl(Delta, Delta)\n",
    "def kl_delta_delta(d1: Delta, d2: Delta):\n",
    "    return torch.zeros(d1.batch_shape)\n",
    "    #return torch.zeros(d1.batch_shape) if torch.allclose(d1.v, d2.v) else torch.full(torch.inf, d1.batch_shape)"
   ]
  },
  {
   "cell_type": "markdown",
   "metadata": {},
   "source": [
    "Define batched distributions for tasks"
   ]
  },
  {
   "cell_type": "code",
   "execution_count": 11,
   "metadata": {},
   "outputs": [],
   "source": [
    "# same for all tasks\n",
    "def target_distr(Z: torch.Tensor, W: torch.Tensor) -> distr.Distribution:\n",
    "    return distr.Bernoulli(logits=torch.tensordot(Z, W.swapaxes(0, -1), dims=1))\n",
    "\n",
    "# same for all tasks\n",
    "def predictive_distr(Z: torch.Tensor, W: torch.Tensor) -> distr.Distribution:\n",
    "    return distr.Bernoulli(logits=torch.tensordot(Z, W.swapaxes(0, -1), dims=1).flatten(1, 2))\n",
    "\n",
    "# we don't have latents here, but we need it formaly as distribution\n",
    "def latent_distr(X: torch.Tensor) -> distr.Distribution:\n",
    "    return Delta(X, event_dim=1)"
   ]
  },
  {
   "cell_type": "code",
   "execution_count": null,
   "metadata": {},
   "outputs": [],
   "source": [
    "task_distrs = [target_distr for _ in range(NUM_MODELS)]\n",
    "task_num_samples = list(train_datasets | select(len))\n",
    "\n",
    "# parametric variational distr\n",
    "cl_loc = torch.zeros((config.dim, ))\n",
    "cl_scale = torch.ones((config.dim, ))\n",
    "classifier_distrs = [\n",
    "    distr.Independent(\n",
    "        distr.Normal(\n",
    "            nn.Parameter(cl_loc + 1e-1 * torch.rand_like(cl_loc)),\n",
    "            nn.Parameter(cl_scale + 1e-1 * torch.rand_like(cl_scale))\n",
    "        ),\n",
    "        reinterpreted_batch_ndims=1\n",
    "    )\n",
    "    for _ in range(NUM_MODELS)\n",
    "]\n",
    "latent_distrs = [latent_distr for _ in range(NUM_MODELS)]\n",
    "\n",
    "temp_scheduler = lambda step: 1."
   ]
  },
  {
   "cell_type": "code",
   "execution_count": 13,
   "metadata": {},
   "outputs": [],
   "source": [
    "mt_elbo = MultiTaskElbo(\n",
    "    task_distrs,\n",
    "    task_num_samples,\n",
    "    classifier_distrs,\n",
    "    latent_distrs,\n",
    "    temp_scheduler=temp_scheduler,\n",
    "    **dict(config.mt_elbo)\n",
    ")"
   ]
  },
  {
   "cell_type": "code",
   "execution_count": 14,
   "metadata": {},
   "outputs": [],
   "source": [
    "class LitMtModel(L.LightningModule):\n",
    "    def __init__(\n",
    "        self,\n",
    "        mt_elbo: MultiTaskElbo\n",
    "    ):\n",
    "        super().__init__()\n",
    "\n",
    "        num_tasks = mt_elbo.num_tasks\n",
    "        self.accuracy_computers = [Accuracy('binary') for _ in range(num_tasks)]\n",
    "        self.mt_elbo = mt_elbo\n",
    "\n",
    "    def training_step(self, batch: tuple[tuple[torch.Tensor]], batch_idx: int):\n",
    "        mt_elbo_loss = self.mt_elbo(*list(zip(*batch)), step=self.global_step)\n",
    "        self.log(\"Train/ELBO\", mt_elbo_loss, prog_bar=True)\n",
    "\n",
    "        return mt_elbo_loss\n",
    "    \n",
    "    def on_train_epoch_end(self):\n",
    "        # log mixing params\n",
    "            \n",
    "        fig, ax = plt.subplots()\n",
    "        cax = ax.matshow(self.mt_elbo.latent_mixings_params.detach().numpy())\n",
    "        fig.colorbar(cax)\n",
    "        self.logger.experiment.add_figure(\"Latent_mixing\", fig, self.global_step)\n",
    "\n",
    "        fig, ax = plt.subplots()\n",
    "        cax = ax.matshow(self.mt_elbo.classifier_mixings_params.detach().numpy())\n",
    "        fig.colorbar(cax)\n",
    "        self.logger.experiment.add_figure(\"Classifier_mixing\", fig, self.global_step)\n",
    "\n",
    "    def validation_step(self, batch: tuple[tuple[torch.Tensor]], batch_idx: int):\n",
    "        for i, (X, y) in enumerate(batch):\n",
    "            NUM_PREDICTIVE_SAMPLES = 20\n",
    "            cur_predictive = build_predictive(\n",
    "                predictive_distr,\n",
    "                classifier_distrs[i],\n",
    "                latent_distrs[i],\n",
    "                X,\n",
    "                config.mt_elbo.classifier_num_particles,\n",
    "                config.mt_elbo.latent_num_particles\n",
    "            )\n",
    "            y_pred = (cur_predictive.sample((NUM_PREDICTIVE_SAMPLES, )).mean(dim=0) > 0.5).float()\n",
    "            self.accuracy_computers[i].update(y_pred, y)\n",
    "\n",
    "    def on_validation_epoch_end(self):\n",
    "        for i, accuracy_computer in enumerate(self.accuracy_computers):\n",
    "            self.log(f\"Test/Accuracy_{i}\", accuracy_computer.compute())\n",
    "            accuracy_computer.reset()\n",
    "\n",
    "    def configure_optimizers(self):\n",
    "        return optim.Adam(self.mt_elbo.parameters(), lr=1e-3)"
   ]
  },
  {
   "cell_type": "code",
   "execution_count": 15,
   "metadata": {},
   "outputs": [],
   "source": [
    "lit_mt_model = LitMtModel(mt_elbo)"
   ]
  },
  {
   "cell_type": "code",
   "execution_count": 16,
   "metadata": {},
   "outputs": [],
   "source": [
    "# stack task datasets\n",
    "unified_train_dataset = StackDataset(*train_datasets)\n",
    "unified_test_dataset = StackDataset(*test_datasets)\n",
    "\n",
    "mt_train_dataloader = DataLoader(unified_train_dataset, config.batch_size, shuffle=True)\n",
    "mt_test_dataloader = DataLoader(unified_test_dataset, config.batch_size, shuffle=False)"
   ]
  },
  {
   "cell_type": "code",
   "execution_count": 17,
   "metadata": {},
   "outputs": [],
   "source": [
    "logger = TensorBoardLogger(\"mt_logs\")\n",
    "\n",
    "callbacks = [\n",
    "    #EarlyStopping(monitor=\"Train/ELBO\", min_delta=1e-3, patience=5, mode=\"min\")\n",
    "]"
   ]
  },
  {
   "cell_type": "code",
   "execution_count": 18,
   "metadata": {},
   "outputs": [
    {
     "name": "stderr",
     "output_type": "stream",
     "text": [
      "GPU available: True (cuda), used: False\n",
      "TPU available: False, using: 0 TPU cores\n",
      "HPU available: False, using: 0 HPUs\n"
     ]
    },
    {
     "name": "stderr",
     "output_type": "stream",
     "text": [
      "/home/kirill/.cache/pypoetry/virtualenvs/bmm-multitask-learning-_LQwnQjl-py3.12/lib/python3.12/site-packages/lightning/pytorch/trainer/setup.py:177: PossibleUserWarning:\n",
      "\n",
      "GPU available but not used. You can set it by doing `Trainer(accelerator='gpu')`.\n",
      "\n",
      "\n",
      "  | Name    | Type          | Params | Mode \n",
      "--------------------------------------------------\n",
      "0 | mt_elbo | MultiTaskElbo | 9      | train\n",
      "--------------------------------------------------\n",
      "9         Trainable params\n",
      "0         Non-trainable params\n",
      "9         Total params\n",
      "0.000     Total estimated model params size (MB)\n",
      "1         Modules in train mode\n",
      "0         Modules in eval mode\n"
     ]
    },
    {
     "name": "stdout",
     "output_type": "stream",
     "text": [
      "                                                                            "
     ]
    },
    {
     "name": "stderr",
     "output_type": "stream",
     "text": [
      "/home/kirill/.cache/pypoetry/virtualenvs/bmm-multitask-learning-_LQwnQjl-py3.12/lib/python3.12/site-packages/lightning/pytorch/trainer/connectors/data_connector.py:425: PossibleUserWarning:\n",
      "\n",
      "The 'val_dataloader' does not have many workers which may be a bottleneck. Consider increasing the value of the `num_workers` argument` to `num_workers=11` in the `DataLoader` to improve performance.\n",
      "\n",
      "/home/kirill/.cache/pypoetry/virtualenvs/bmm-multitask-learning-_LQwnQjl-py3.12/lib/python3.12/site-packages/lightning/pytorch/trainer/connectors/data_connector.py:425: PossibleUserWarning:\n",
      "\n",
      "The 'train_dataloader' does not have many workers which may be a bottleneck. Consider increasing the value of the `num_workers` argument` to `num_workers=11` in the `DataLoader` to improve performance.\n",
      "\n"
     ]
    },
    {
     "name": "stdout",
     "output_type": "stream",
     "text": [
      "Epoch 19: 100%|██████████| 15/15 [00:00<00:00, 87.86it/s, v_num=1, Train/ELBO=1.42e+3] "
     ]
    },
    {
     "name": "stderr",
     "output_type": "stream",
     "text": [
      "`Trainer.fit` stopped: `max_epochs=20` reached.\n"
     ]
    },
    {
     "name": "stdout",
     "output_type": "stream",
     "text": [
      "Epoch 19: 100%|██████████| 15/15 [00:00<00:00, 48.90it/s, v_num=1, Train/ELBO=1.42e+3]\n"
     ]
    }
   ],
   "source": [
    "trainer = L.Trainer(logger=logger, callbacks=callbacks, **dict(config.trainer))\n",
    "trainer.fit(lit_mt_model, mt_train_dataloader, mt_test_dataloader)"
   ]
  },
  {
   "cell_type": "markdown",
   "metadata": {},
   "source": [
    "Plot metrics: see tensorboard"
   ]
  },
  {
   "cell_type": "code",
   "execution_count": 19,
   "metadata": {},
   "outputs": [
    {
     "name": "stdout",
     "output_type": "stream",
     "text": [
      "Variational: tensor([0.0251, 0.0882]) tensor([1.0528, 1.0676])\n",
      "True: tensor([-0.4690,  0.0904])\n",
      "Variational: tensor([0.0303, 0.0645]) tensor([1.0993, 1.0573])\n",
      "True: tensor([-0.4459,  0.0512])\n",
      "Variational: tensor([0.0089, 0.0741]) tensor([1.0050, 1.0892])\n",
      "True: tensor([1.0489, 0.9532])\n"
     ]
    }
   ],
   "source": [
    "for cl_d, w_true in zip(classifier_distrs, w_list):\n",
    "    print(\"Variational:\", cl_d.mean.data, cl_d.stddev.data)\n",
    "    print(\"True:\", w_true)"
   ]
  }
 ],
 "metadata": {
  "kernelspec": {
   "display_name": "bmm-multitask-learning-_LQwnQjl-py3.12",
   "language": "python",
   "name": "python3"
  },
  "language_info": {
   "codemirror_mode": {
    "name": "ipython",
    "version": 3
   },
   "file_extension": ".py",
   "mimetype": "text/x-python",
   "name": "python",
   "nbconvert_exporter": "python",
   "pygments_lexer": "ipython3",
   "version": "3.12.3"
  }
 },
 "nbformat": 4,
 "nbformat_minor": 2
}
