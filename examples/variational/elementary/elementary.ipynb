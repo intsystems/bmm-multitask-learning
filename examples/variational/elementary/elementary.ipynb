{
 "cells": [
  {
   "cell_type": "markdown",
   "metadata": {},
   "source": [
    "# Variational multitask learning elementary example"
   ]
  },
  {
   "cell_type": "markdown",
   "metadata": {},
   "source": [
    "This is a practical demonstration on how to use `variational` subpackage on a simple classification example. We are going to solve 3 classification tasks with logistic regression as a model. Additionally, we will add prior on the weight so the tasks become bayessian. Two of the tasks will be probabilsitcally connected, the last will have no probabilistic connections with others.\n",
    "\n",
    "First, we will apply variational principle to learn each task individually. We will use [`pyro`](https://pyro.ai/examples/index.html) package to automatically compute ELBO and minimize it.\n",
    "\n",
    "Secondly, we will use `variational` subpackage and learn 3 tasks alltogether. Learning here is the same ELBO minimizing, but for special variational structure - see [doc](../../../docs/variational/intro.md) for more details.\n",
    "\n",
    "Lastly, we will compare two approaches in accuracy terms."
   ]
  },
  {
   "cell_type": "code",
   "execution_count": null,
   "metadata": {},
   "outputs": [],
   "source": [
    "from pipe import select\n",
    "\n",
    "from omegaconf import OmegaConf\n",
    "\n",
    "import pandas as pd\n",
    "import numpy as np\n",
    "\n",
    "import plotly.express as px\n",
    "import plotly.graph_objects as go\n",
    "\n",
    "import matplotlib.pyplot as plt\n",
    "\n",
    "import torch\n",
    "import torch.nn as nn\n",
    "from torch.utils.data import DataLoader, random_split, StackDataset\n",
    "from torch import optim\n",
    "from torch import distributions as distr\n",
    "\n",
    "import pyro\n",
    "import pyro.nn as pnn\n",
    "import pyro.distributions as pdistr\n",
    "from pyro.distributions import Delta\n",
    "from pyro.infer import Trace_ELBO\n",
    "from pyro.infer.autoguide import AutoNormal\n",
    "\n",
    "import lightning as L\n",
    "from lightning.pytorch.loggers import TensorBoardLogger\n",
    "from lightning.pytorch.callbacks import EarlyStopping\n",
    "\n",
    "from torchmetrics.classification import Accuracy\n",
    "\n",
    "from bmm_multitask_learning.variational.elbo import MultiTaskElbo\n",
    "from bmm_multitask_learning.variational.distr import build_predictive"
   ]
  },
  {
   "cell_type": "code",
   "execution_count": 2,
   "metadata": {},
   "outputs": [],
   "source": [
    "%load_ext tensorboard"
   ]
  },
  {
   "cell_type": "markdown",
   "metadata": {},
   "source": [
    "The experiment is configurable via [yaml config](config.yaml)."
   ]
  },
  {
   "cell_type": "code",
   "execution_count": null,
   "metadata": {},
   "outputs": [],
   "source": [
    "config = OmegaConf.load(\"config.yaml\")"
   ]
  },
  {
   "cell_type": "code",
   "execution_count": 4,
   "metadata": {},
   "outputs": [],
   "source": [
    "torch.manual_seed(config.seed);"
   ]
  },
  {
   "cell_type": "markdown",
   "metadata": {},
   "source": [
    "## Data"
   ]
  },
  {
   "cell_type": "markdown",
   "metadata": {},
   "source": [
    "For each task we generate 2-dimensional inputs $X$ where each individual input $x$ is\n",
    "\n",
    "$$\n",
    "    x \\sim \\mathcal{N}(\\mu, \\sigma_x^2)\n",
    "$$\n",
    "\n",
    "For task 1 and 2 these are very close to each other.\n",
    "\n",
    "Then we generate logistic regression parameter $w$ as\n",
    "\n",
    "$$\n",
    "    w_1 \\sim \\mathcal{N}(\\mathbb{E}[X_2], \\sigma_w^2) \\\\ \n",
    "    w_2 \\sim \\mathcal{N}(\\mathbb{E}[X_1], \\sigma_w^2) \\\\\n",
    "    w_3 \\sim \\mathcal{N}(\\mathbf{1}, \\sigma_w^2)\n",
    "$$\n",
    "\n",
    "Because $X_1$ and $X_2$ are close, distribuitions for $w_1$ and $w_2$ will be close too. This connection can be utilized by variational multitask approach.\n",
    "\n",
    "Finally, label $y$ for input $x$ generated as \n",
    "\n",
    "$$\n",
    "    y \\sim \\text{Bern}(\\sigma(x^{T}w))\n",
    "$$"
   ]
  },
  {
   "cell_type": "markdown",
   "metadata": {},
   "source": [
    "Data generation with given schema is defined in [data.py](data.py)"
   ]
  },
  {
   "cell_type": "code",
   "execution_count": 5,
   "metadata": {},
   "outputs": [],
   "source": [
    "from data import build_linked_datasets, build_solo_dataset\n",
    "\n",
    "NUM_MODELS = 3\n",
    "\n",
    "\n",
    "datasets = [*build_linked_datasets(config.size, config.dim), build_solo_dataset(config.size, config.dim)]\n",
    "# extract w\n",
    "w_list = list(\n",
    "    datasets | select(lambda w_dataset: w_dataset[0])\n",
    ")\n",
    "# extract (X, y) pairs\n",
    "datasets = list(\n",
    "    datasets |\n",
    "    select(lambda w_dataset: w_dataset[1]) |\n",
    "    select(lambda d: random_split(d, [1 - config.test_ratio, config.test_ratio]))\n",
    ")\n",
    "\n",
    "train_datasets, test_datasets = zip(*datasets)"
   ]
  },
  {
   "cell_type": "markdown",
   "metadata": {},
   "source": [
    "Let's vizualize generated inputs and $w$ vectors for each task"
   ]
  },
  {
   "cell_type": "code",
   "execution_count": 6,
   "metadata": {},
   "outputs": [
    {
     "data": {
      "application/vnd.microsoft.datawrangler.viewer.v0+json": {
       "columns": [
        {
         "name": "index",
         "rawType": "int64",
         "type": "integer"
        },
        {
         "name": "x1",
         "rawType": "float32",
         "type": "float"
        },
        {
         "name": "x2",
         "rawType": "float32",
         "type": "float"
        },
        {
         "name": "dataset",
         "rawType": "object",
         "type": "string"
        }
       ],
       "conversionMethod": "pd.DataFrame",
       "ref": "8927b1c2-6162-4529-97a6-c6cbd00a29c0",
       "rows": [
        [
         "0",
         "-0.094633624",
         "-2.3359578",
         "0"
        ],
        [
         "1",
         "10.453235",
         "3.087356",
         "0"
        ],
        [
         "2",
         "-2.8137417",
         "-2.073199",
         "0"
        ],
        [
         "3",
         "-6.502639",
         "-0.50982493",
         "0"
        ],
        [
         "4",
         "-5.4921374",
         "-2.3346376",
         "0"
        ]
       ],
       "shape": {
        "columns": 3,
        "rows": 5
       }
      },
      "text/html": [
       "<div>\n",
       "<style scoped>\n",
       "    .dataframe tbody tr th:only-of-type {\n",
       "        vertical-align: middle;\n",
       "    }\n",
       "\n",
       "    .dataframe tbody tr th {\n",
       "        vertical-align: top;\n",
       "    }\n",
       "\n",
       "    .dataframe thead th {\n",
       "        text-align: right;\n",
       "    }\n",
       "</style>\n",
       "<table border=\"1\" class=\"dataframe\">\n",
       "  <thead>\n",
       "    <tr style=\"text-align: right;\">\n",
       "      <th></th>\n",
       "      <th>x1</th>\n",
       "      <th>x2</th>\n",
       "      <th>dataset</th>\n",
       "    </tr>\n",
       "  </thead>\n",
       "  <tbody>\n",
       "    <tr>\n",
       "      <th>0</th>\n",
       "      <td>-0.094634</td>\n",
       "      <td>-2.335958</td>\n",
       "      <td>0</td>\n",
       "    </tr>\n",
       "    <tr>\n",
       "      <th>1</th>\n",
       "      <td>10.453235</td>\n",
       "      <td>3.087356</td>\n",
       "      <td>0</td>\n",
       "    </tr>\n",
       "    <tr>\n",
       "      <th>2</th>\n",
       "      <td>-2.813742</td>\n",
       "      <td>-2.073199</td>\n",
       "      <td>0</td>\n",
       "    </tr>\n",
       "    <tr>\n",
       "      <th>3</th>\n",
       "      <td>-6.502639</td>\n",
       "      <td>-0.509825</td>\n",
       "      <td>0</td>\n",
       "    </tr>\n",
       "    <tr>\n",
       "      <th>4</th>\n",
       "      <td>-5.492137</td>\n",
       "      <td>-2.334638</td>\n",
       "      <td>0</td>\n",
       "    </tr>\n",
       "  </tbody>\n",
       "</table>\n",
       "</div>"
      ],
      "text/plain": [
       "          x1        x2 dataset\n",
       "0  -0.094634 -2.335958       0\n",
       "1  10.453235  3.087356       0\n",
       "2  -2.813742 -2.073199       0\n",
       "3  -6.502639 -0.509825       0\n",
       "4  -5.492137 -2.334638       0"
      ]
     },
     "execution_count": 6,
     "metadata": {},
     "output_type": "execute_result"
    }
   ],
   "source": [
    "points_df = []\n",
    "\n",
    "for i, dataset in enumerate(train_datasets):\n",
    "    X = dataset.dataset.tensors[0].numpy()\n",
    "    cur_df = pd.DataFrame(X, columns=[\"x1\", \"x2\"])\n",
    "    cur_df[\"dataset\"] = str(i)\n",
    "    points_df.append(cur_df)\n",
    "points_df = pd.concat(points_df, axis=0)\n",
    "\n",
    "points_df.head()"
   ]
  },
  {
   "cell_type": "code",
   "execution_count": 7,
   "metadata": {},
   "outputs": [
    {
     "data": {
      "application/vnd.microsoft.datawrangler.viewer.v0+json": {
       "columns": [
        {
         "name": "index",
         "rawType": "int64",
         "type": "integer"
        },
        {
         "name": "x1",
         "rawType": "float64",
         "type": "float"
        },
        {
         "name": "x2",
         "rawType": "float64",
         "type": "float"
        },
        {
         "name": "dataset",
         "rawType": "object",
         "type": "string"
        }
       ],
       "conversionMethod": "pd.DataFrame",
       "ref": "8cee2af9-1968-4990-98a1-892bd600eeee",
       "rows": [
        [
         "0",
         "9.379682540893555",
         "-1.8076980113983154",
         "1"
        ],
        [
         "1",
         "7.295308642917209",
         "-1.4059873421986897",
         "1"
        ],
        [
         "2",
         "5.210934744940864",
         "-1.0042766729990642",
         "1"
        ],
        [
         "3",
         "3.126560846964518",
         "-0.6025660037994385",
         "1"
        ],
        [
         "4",
         "1.0421869489881723",
         "-0.20085533459981275",
         "1"
        ]
       ],
       "shape": {
        "columns": 3,
        "rows": 5
       }
      },
      "text/html": [
       "<div>\n",
       "<style scoped>\n",
       "    .dataframe tbody tr th:only-of-type {\n",
       "        vertical-align: middle;\n",
       "    }\n",
       "\n",
       "    .dataframe tbody tr th {\n",
       "        vertical-align: top;\n",
       "    }\n",
       "\n",
       "    .dataframe thead th {\n",
       "        text-align: right;\n",
       "    }\n",
       "</style>\n",
       "<table border=\"1\" class=\"dataframe\">\n",
       "  <thead>\n",
       "    <tr style=\"text-align: right;\">\n",
       "      <th></th>\n",
       "      <th>x1</th>\n",
       "      <th>x2</th>\n",
       "      <th>dataset</th>\n",
       "    </tr>\n",
       "  </thead>\n",
       "  <tbody>\n",
       "    <tr>\n",
       "      <th>0</th>\n",
       "      <td>9.379683</td>\n",
       "      <td>-1.807698</td>\n",
       "      <td>1</td>\n",
       "    </tr>\n",
       "    <tr>\n",
       "      <th>1</th>\n",
       "      <td>7.295309</td>\n",
       "      <td>-1.405987</td>\n",
       "      <td>1</td>\n",
       "    </tr>\n",
       "    <tr>\n",
       "      <th>2</th>\n",
       "      <td>5.210935</td>\n",
       "      <td>-1.004277</td>\n",
       "      <td>1</td>\n",
       "    </tr>\n",
       "    <tr>\n",
       "      <th>3</th>\n",
       "      <td>3.126561</td>\n",
       "      <td>-0.602566</td>\n",
       "      <td>1</td>\n",
       "    </tr>\n",
       "    <tr>\n",
       "      <th>4</th>\n",
       "      <td>1.042187</td>\n",
       "      <td>-0.200855</td>\n",
       "      <td>1</td>\n",
       "    </tr>\n",
       "  </tbody>\n",
       "</table>\n",
       "</div>"
      ],
      "text/plain": [
       "         x1        x2 dataset\n",
       "0  9.379683 -1.807698       1\n",
       "1  7.295309 -1.405987       1\n",
       "2  5.210935 -1.004277       1\n",
       "3  3.126561 -0.602566       1\n",
       "4  1.042187 -0.200855       1"
      ]
     },
     "execution_count": 7,
     "metadata": {},
     "output_type": "execute_result"
    }
   ],
   "source": [
    "plane_df = []\n",
    "for i, w in enumerate(w_list):\n",
    "    w = w.numpy()\n",
    "    cur_df = pd.DataFrame(np.linspace(-20, 20, 10)[:, None] * w[None, :], columns=[\"x1\", \"x2\"])\n",
    "    cur_df[\"dataset\"] = str(i+1)\n",
    "    plane_df.append(cur_df)\n",
    "plane_df = pd.concat(plane_df, axis=0)\n",
    "\n",
    "plane_df.head()"
   ]
  },
  {
   "cell_type": "code",
   "execution_count": 8,
   "metadata": {},
   "outputs": [
    {
     "data": {
      "application/vnd.plotly.v1+json": {
       "config": {
        "plotlyServerURL": "https://plot.ly"
       },
       "data": [
        {
         "hovertemplate": "dataset=0<br>x1=%{x}<br>x2=%{y}<extra></extra>",
         "legendgroup": "0",
         "marker": {
          "color": "#636efa",
          "symbol": "circle"
         },
         "mode": "markers",
         "name": "0",
         "showlegend": true,
         "type": "scattergl",
         "x": {
          "bdata": "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",
          "dtype": "f4"
         },
         "xaxis": "x",
         "y": {
          "bdata": "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",
          "dtype": "f4"
         },
         "yaxis": "y"
        },
        {
         "hovertemplate": "dataset=1<br>x1=%{x}<br>x2=%{y}<extra></extra>",
         "legendgroup": "1",
         "marker": {
          "color": "#EF553B",
          "symbol": "diamond"
         },
         "mode": "markers",
         "name": "1",
         "showlegend": true,
         "type": "scattergl",
         "x": {
          "bdata": "i1OqvbotJ0EXwDPAzQ7QwNDfr8Dyg4bAAb6mvrsEx7/LJmVADXANwQqgxT9FBHbA6HF5QAdSasATi+e/SUUOwJGkYsCpknTAGU14wHx2usC7btRA+WspwSfMusA2MwJB+gUWv9GQTUAtiHW/UIXZQO2xGEDC+IxAt+oUQEKNK0AZowVB7vMrwVc1Z8BOWS3AqegEvQ9kFkCd/HDAOCzMQH1UWUHdM6vA7BmewMah+T9itynAGvC+v12iDcDD/ui+zJHAwPMabL88o2RAla2AQM3Hkb+w8ZJAGZw6QNJDMEHCzo8+VOOhQEjtyL5hZNy/3VTMwCYz8b6nYcG/coBXQGrqJMFTcTjADxxdwdHz7D8Qw51AFD3oQBonnsBemZrAEx+YwE0yOUABhL7AFtYLQPX5FMB0AG7A99xWQXq2Z8D6sDc/oXsNwORRNcC76ro/PbxDQHil17/DytpA/Yo4wJ7Kub9q0JjAv0r5v9H2FL9T731Ayf5PQDSRBEFqm1RACZ4IwQ3BgcCvb63AVwD6PyeAE0Bp/1U/nIj9PwnnOMHkmp5Ak2e3vzc0gr+m/jPABI1hQKyuK8DyhXE//x8gQY1Lxj6XMIO/ZbwbQXDGsD9zdznAR+ZTwFkkqkAJrBbA34ULQVZ6YMDdLK1APAOqv002EsEMy2zAKZ62QM203T4grkNAUxYNQaafqsBjvS3BugkmwevR1ECjOq2/ziDHvwRa80AmgLpAq86BwJO3kkAwfZrAd9LwwCKnrcDukrfAHqKZQFxisT/E1jXAhAYnQfxtPsA75kVBeLc+vokF18Bjp+bAstVXwCFtFT5pgva+7rOfv3Ouy8BvltDAoPrmwJBa4kBYjK0/u6tvQCqB1z6+uKTANx+7QOlEnkBxPG/AsRbUP85JB8A5GaVAsGtpwK3Po0CWRnvAt3tUv1VoiD/bXQNAN/cMwdV/WcANYO9A31+hwCGH/j9nVwdAwRCxv4U+FkDRgLdAKSGmQG+f20BA++k/ltQawM5ursBZWa6/qBm+QByp5T+Iww3BPYSGwHDNVEBD4x/APhILwanZwcB+T3RAU+daQEYArMAbXYtA6tZYv/53DkBDhb5AY+QRQF4WmMCNxaxAOTsUwFpv/UBIIElA8OA6wS1GYcCYxpFAsVrjQDzY7EAUgzU8GV8iwfePbECbmBDAOXeCvr+5K8BPW0PA2M71QNJ6WcGy/JzAWWuswGX7lT+VwhDA3UkhQdgpTUCL7gVBWoZFPr+oDcFOHX0/R6veQOjGLr/2Bpw/qrhdwK2JI7/haezApo/Jv5AtZcCVIbxABwyPwHH0tsB3Ohc/m3wxQLdp1UDKLuo/RWCtPy2VxcDVzTfBOFpawYwdYT9qvvXA9ZSnQFOAE8As7AjAcxUHwdKkFD9+XmNAEW3rPxK8ZkDu9KzAy3LgwOynmD86h2vAIi3/P5/kpcAkMzxBJx7aQIKOycAemxy+in/qQFvOzb/pSgnBmwqMvyYTI8A2eafAx4XKvpwy0b+9UsZArDkCwAtnfEArDVi/Vw8+wOEocr9/qz2+FumsQFcTwz+x0ShAZUaOQDkYhsCzXGq/w2NEQB736L+SwHxA6VGVwAams8C6XqxAu8HsP3e61sDPdJc//nbrwCn0Qj+Px8e/UEOHv+ZWoUDU8b8/NGALQULk9L7sqWo/Wj+kvyM6gcBhzBzAoEURwSugMEDav4dANI92wLI2r8DBQcg+7zgywARiCcDm85lAO1TKvhGfAD+oDnM/7Lu2P0cdfL/f7UzBepsZwKoDVsD1zU49+XeBwBWK0r993ElAkoEcQCIBlD82J4I+SSLlwBjgKb9mboG/XBTNwB9jY8CuNVW+OTZeQCtMNr+nG/zAfV7TvylW0MAQ+YU+ssZFQLL1IEABxXLAAj/3QELAtUCdxc/A3r00wE0s8kC8igDAcfCqv0ByjMC+KwJBmkGSv5SU4D/ZR9DAou1NQMqDVcAWn5ZA5F4Dv0MbUUD2fp1AZQ6HQPG96kCgEy5Aw+GFv05bZb7luopATj/bvbtUksDBBPs/AeeUQEnVy0DcFIPAeEgCwMk5NECWfti/279nQA7j+z/649pA85jqQF9CPcDywja/rpJewFdBDUHfHAXBa8ieQMsKxsCvOezAGA6zP3kLzD8QSmTBn2pHQFWhPkAk+Zs/GLkjQLgmMcBN1mY+5xG+QONhwj+L2Za/aJoRQJk0yMA/iQC/rmRMwEk4i793IRC/NV4eQD4MV8AoXh+/h3nrwMz8DcHPsz7AKQjMwHpLC8HI0GbA2mJFQO8zDEBatIHA/9vtQPz8S74XzdC/jJgLQXGAQsC/wZhAawyowMW/nECKLJU/ijHuwGOJ7MClOSxAYfHGwIQZgL7Rb57A2NP4P/88skD2Z8rAE3K5wJBjyL9P7aTAw4UGQNNtfcBvemTAqnHgQKI6aEBNR2jAdvAWQPrmr8ChnofA/TnGwK0FmcBSwFFAZt1AwdNBAcA2WfNAfuAZwQIzBEAlvBbAuKSqwG5nIUA8/C/BYu+6vlvqScBMzL8+BAC6PwmPUEA9DBLAcEpYwOoBicDCtxBAzZFrP+D6HsAqiqtA2MkIvyBgE8G4genAVVr6vi4Rur87KC5BrCcRQUuFpb3lsY5ANQ9lQOrMr0CTPnVAdPJ9QOgrfkBof+nAcMfowAATDUDvmj6/3m4oQHzprz2BOoLB02ImP3qQNMEWutS/Z8PKQExB98C4s0zAm2EQP0HhTUCCA1W/jFmEQDLRl8CS9jc+bUlAwGMCW8BB2rlAm3fSQLMMlUAAYOlAir8QwUjK0L4J06LAWYFmwFCZuEAII7I/nMydvzaGZT9T8tY/HUgSQKIvCECYYHHAyEgAwM5ZPkBatri8RwULQPILt0BjxwFBEZ3FPhiXQ8CCpNO/oPLBQMFMH8B9H6XASvOmQB0kZ0COO8FAExUHQA1Yo8Cykyo/4UIRwUZN8UCBZeI/pn//vymQ1jwQPmNAvDmdQMCsHMGeDyrAsfCEwBXOtr8uLuFAymQjQWtn4kBDDDPBYLNLQBKgfb8KQXhAQP67PwC6oMCwTcpAKKzVQM9g1T+v+tBAhSH5QFPjOsAD5VpA1rbKQAHjlsCar8U/CJThQCxRqb5O44BAKw6uwGi3m8Aec1m/pLjhwLWplsBEag5BnL7KwHFfycDtWurALBdqwF6uTcCCYxDA",
          "dtype": "f4"
         },
         "xaxis": "x",
         "y": {
          "bdata": "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",
          "dtype": "f4"
         },
         "yaxis": "y"
        },
        {
         "hovertemplate": "dataset=2<br>x1=%{x}<br>x2=%{y}<extra></extra>",
         "legendgroup": "2",
         "marker": {
          "color": "#00cc96",
          "symbol": "square"
         },
         "mode": "markers",
         "name": "2",
         "showlegend": true,
         "type": "scattergl",
         "x": {
          "bdata": "52KswBQa/T5dgQHABYyXvcDz1sAmZzRANO8vQJ507D+ZUghArMuOP+P01b8Orq7Av6yNv4Yvi8Bcbh1AmfQav0w8WsC0K2XAHfRnQKx3l0BCP7+/nMCbwJrJXD8N20rAJLFbvl/Bp0CQ2FVA53rpP6j/BsF5Cge/tnijwCJo7cA9fYBAzNaivxuTjL13fdM/zMy4PvpyQ8CKPvRA9XSXQH4fmL5wioRA2fmlwAQabMDg2P1AHPXZP9wNicDe9ZZAZWuQQCy3AcF6bGNAYIIOPveTQMC85ZK/BIxPQExvfkDWZJVAXoYpvl3ft8DsdTbA6XvvP5j7FsAgwpNAqs9ZQC7vYkHuW6VAt+45P4ChtUDl5VrB8n4vQBo3HMAmxJbA3hMnwPLLAUFc5LpABkagwClKnz8w58lAk6erwHQRJECgty9ADMwivoTyCcCO87W+g1gWwV2E4kAU8QlBzMqgv/o9ZUHSztE+qF9DwBQXHEBsGsG/elGgPwcY5j9vFpVAbtVEwDi3dMAuusFAEhOCQDTmKr/j0ALAyJrsvaZP6MCUDDbA6w+PwIRoDMDuLdfAysBPv5LU5r6g1gbASwScv2AnKUHzMra/3Hf2P8bguT+qY5hA8AeUQHPnOcAzKMFAO0sRwfCLAMBJJ1s+sXZxQRYavcCgYXrAUDt5QGYpTcGkVCA+wz4HwS0+msDyParA9N6pPno3YkC3U/BADBEwQJTw1MCiN2bA2zgRwXiKWT58SLHA430Tv9ZXtMDorvk/ashqv4XLAsFsE45AOJcPwKJV1D/9G65ATT/0PyjpVsDytg+/52qswOxU6j/CzI3A7uxKP8J6qkAaZ14/UTzVv0JcK0CL5e2/VRHMQBU1ZkDZ/Ja/tqXDwHxyoMDX/IHA7C07QMnuNkAAQIJAAK9aQA+PxkDX6xo/CMECQPxJx77vVc2/+WASwRivr8ANAg28TMudwDK0lT1aBkBAhG/PvFW4EMBPHL2/uhBpQPKRJcBGJuJAybCdwEgXasGRL5JAGFazQGy71T90yJfAbNXdPy6KnsCvTHpArDfFv3WbM0Egawy/3N6jwHJ8H8GpgujATW7qv3IkOEC8zq/ANMTTv0php0DWo1FA8a66wIcQE0GgSNq+986XQGLBs78qGd5ABk3nQBzq88DfdtG/1LWfPRyas8BSuDK9EkWJQFUWN7+Myj2/CnLOQE3yNkCq53E/TGpdQBJWdcF6Msu/qDK8P3HCRsB3wUFAnh7ev3hOFsCGWLXA2ilrQOnwAcHP6x7AlIRqQJoZdsCKiBXASIw2wFKp/kCtWztBOxDlv/bcdkBBK0rAoi1OP3xhwL8g1qnAOTa+QIb1trw0V+VArslMuqbBD0FS/wc/Yi7BQPeepsDgbN8/ZtekwP4gCED3g9++qel5vhwhHLyL3AdA9i7+PgF/Mj9YE8XArsmwwKU9QUBCoSHBVHxoQNhhxT4RKcRAZ4sLQcKrQ8DbDKRAuyoHQGJyD79UaVRAI2IrwKBM1j8uXDdAeyCVP/JvB8APJR3BWS3DP3QXOkDNKYVAF/m9QNkbCcHOWJrAxfSAP8qkbL/XRpVAPqGGQE/FyEDdfv5Ad3v4wDtflkBzi5XAnmddwPbVpj3I+9E/Ur3bwL5HKMA9oAFBpVhaQISZWEBF+CfAOIbEwM+BoL1s7HxAsHoHwW4yoUDKyjs/WrYLQOXcIkAZFeHApeAAwGgxpD50U7o/ZuWWwGd+e8ANCXnAI/fAvxrWOkHy8rHABliWQHu7/j8puaVAS6UHwcj6XEBd4EHAQl4HP2YCtMCKsw3A6MoPQT+mTUAGpidAEJNCP868BUDGEJe/BWhXwNvBCkGFzuI/fLiQwHDyf0DP7PY+GzlhwWK1t8BXJiDB3MgiQUpCFsCulhVAXneLQHD7QEDYBezAJ0yKQIyWf0Dbb/U/ClTGQHmhgkCtJnA/ilqGvoTseMAKxyjApR37wFq8AMAEeny/GBamwEQisT8h1M6/P73UQM7+W70gLUNBRoXFP+skHkDW/I1AS/ZgvtxL3kB4+pG9gSAkvYxc2kCEhh1B+6RRwOu/ncCYNjnAhgIPQXqSxUAczmNAxg7rQAY5jkA6HVzA1SzRPcDib8AkqL2/XNaVQBXlYcD3jQDB+rlfP74Mxj87Z4LALpOKQD31Gz+YK4jAi5D9v5KBz8CzXK/Afg1VwLUE8T6Nhcq8boTEvmqyGkFqFudAaZ8KQZKTpTy+Mza+05UhwN5No7+kYnPAQZIOvvbBKcCcQ1HAEk5nPpDTpsDssvU/hN4JP1jDFMCmRjHAU53MQBTd9D+vJ5a/8uXMv+o4qsDGB0E/bpzXQOEjsEBuihzAzOEQwYhQB8DDcwjBjzaXwMQRHT+WlRG8xjSlQGYyHkCmMCpBnL6mQOY5pkCGdca/OMjWP2AsckD0ditAI8EZwCZMIL+s5Z7AqvubwGCFh77WAT1AQ0vQwN101MA+3NC+hro1vxNzisCKOqFAWRBxQHFNAT8g1unAOME0QJzwOUA60sjATsvGwOCzskBqtRpBDQlBQHPTo8CQ1eNAtsOdQLAJhj6qykFAmgE8wHFPeMBSEdg+N6C6wFrfsUBcnT/AZsTUQJ9B/L7ZmhFAU6QFQUbG07/H8S/A3ziHwC2M68AReKI+PHL1wE3OA0COVwpAreKEwKPYEb+GzR1AJC7mQPqXO8CeNfg/Nm8IQT2oLECsdZhAvSLZwBOGLMDsh/k/uNazP9KmFcBLSsDAANTdPgoH80DDNsA/UsOCwJQTaL87L4rA8ykwwBpfqT4QYaC/iUzGwOa0h8DFOtw+rLK2QASxp8AZldxAK09awPbSg0CuCeZAzKyDwCUZ9L9zKNzAAPaqwKlWB0G5ZkVBJRGdv5YTY8Cq+k1ABQQVwEcLUcBHjGXAgFAuwGS4jz8wOSNBAEPnwN8QK0Eqc3lAFfoSQMAOfEAyLnhATyiSwFiuo8DiBsHACPAcvl4BdUBHHM+/DfSxPzJKAEBHCApBXC5UvpIAfkB0l7Y/LXFQQGM028CMTYxAlkgFwM7cLMCl2aPA9IJ6vmItO8DK9M+9yuOHQNmewkAHafNAl1FjwMvJk0CaalDAqW/xv6lrKb9gQ8I9PAWQQH7qlcAYkdZAyS+oQGreuECQVI9AgAxewBvDtkAodGxAVGinQKIaoD+VUIO//nYBwCxxKcAGnds/",
          "dtype": "f4"
         },
         "xaxis": "x",
         "y": {
          "bdata": "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",
          "dtype": "f4"
         },
         "yaxis": "y"
        },
        {
         "hovertemplate": "dataset=1<br>x1=%{x}<br>x2=%{y}<extra></extra>",
         "legendgroup": "1",
         "line": {
          "color": "#636efa",
          "dash": "solid",
          "width": 3
         },
         "marker": {
          "symbol": "circle"
         },
         "mode": "lines",
         "name": "1",
         "orientation": "v",
         "showlegend": true,
         "type": "scatter",
         "x": {
          "bdata": "AAAAwGXCIkDjOI5jZS4dQMdxHEf/1xRAVVVVVTIDCUA3juM4zKzwPzeO4zjMrPC/V1VVVTIDCcDJcRxH/9cUwOQ4jmNlLh3AAAAAwGXCIsA=",
          "dtype": "f8"
         },
         "xaxis": "x",
         "y": {
          "bdata": "AAAAwFTs/L9VVVWV7H72v6uqqmqEEfC/AAAAgDhI47+oqqqqoLXJv6iqqqqgtck/AQAAgDhI4z+sqqpqhBHwP1ZVVZXsfvY/AAAAwFTs/D8=",
          "dtype": "f8"
         },
         "yaxis": "y"
        },
        {
         "hovertemplate": "dataset=2<br>x1=%{x}<br>x2=%{y}<extra></extra>",
         "legendgroup": "2",
         "line": {
          "color": "#EF553B",
          "dash": "solid",
          "width": 3
         },
         "marker": {
          "symbol": "circle"
         },
         "mode": "lines",
         "name": "2",
         "orientation": "v",
         "showlegend": true,
         "type": "scatter",
         "x": {
          "bdata": "AAAApGTWIUAAAAA4R78bQAAAACjF0RNA////L4bIB0D9//8/CLbvP/3//z8Itu+/AQAAMIbIB8ACAAAoxdETwAEAADhHvxvAAAAApGTWIcA=",
          "dtype": "f8"
         },
         "xaxis": "x",
         "y": {
          "bdata": "AAAA6Kdf8L9VVVWFWnjpv6qqqjplMeK/////39/U1b+oqqoq1Ru9v6iqqirVG70/AQAA4N/U1T+sqqo6ZTHiP1ZVVYVaeOk/AAAA6Kdf8D8=",
          "dtype": "f8"
         },
         "yaxis": "y"
        },
        {
         "hovertemplate": "dataset=3<br>x1=%{x}<br>x2=%{y}<extra></extra>",
         "legendgroup": "3",
         "line": {
          "color": "#00cc96",
          "dash": "solid",
          "width": 3
         },
         "marker": {
          "symbol": "circle"
         },
         "mode": "lines",
         "name": "3",
         "orientation": "v",
         "showlegend": true,
         "type": "scatter",
         "x": {
          "bdata": "AAAAyEH6NMAcx3HU3VAwwHIcx8HzTifAVVVVtVf4G8CM4zjOj6UCwIzjOM6PpQJAV1VVtVf4G0B0HMfB804nQB3HcdTdUDBAAAAAyEH6NEA=",
          "dtype": "f8"
         },
         "xaxis": "x",
         "y": {
          "bdata": "AAAAGCQQM8DHcRyXVKctwI7jOP5gLiXAqqqqytpqGcBwHMcx5/EAwHAcxzHn8QBArKqqytpqGUCQ4zj+YC4lQMhxHJdUpy1AAAAAGCQQM0A=",
          "dtype": "f8"
         },
         "yaxis": "y"
        }
       ],
       "layout": {
        "template": {
         "data": {
          "bar": [
           {
            "error_x": {
             "color": "#2a3f5f"
            },
            "error_y": {
             "color": "#2a3f5f"
            },
            "marker": {
             "line": {
              "color": "#E5ECF6",
              "width": 0.5
             },
             "pattern": {
              "fillmode": "overlay",
              "size": 10,
              "solidity": 0.2
             }
            },
            "type": "bar"
           }
          ],
          "barpolar": [
           {
            "marker": {
             "line": {
              "color": "#E5ECF6",
              "width": 0.5
             },
             "pattern": {
              "fillmode": "overlay",
              "size": 10,
              "solidity": 0.2
             }
            },
            "type": "barpolar"
           }
          ],
          "carpet": [
           {
            "aaxis": {
             "endlinecolor": "#2a3f5f",
             "gridcolor": "white",
             "linecolor": "white",
             "minorgridcolor": "white",
             "startlinecolor": "#2a3f5f"
            },
            "baxis": {
             "endlinecolor": "#2a3f5f",
             "gridcolor": "white",
             "linecolor": "white",
             "minorgridcolor": "white",
             "startlinecolor": "#2a3f5f"
            },
            "type": "carpet"
           }
          ],
          "choropleth": [
           {
            "colorbar": {
             "outlinewidth": 0,
             "ticks": ""
            },
            "type": "choropleth"
           }
          ],
          "contour": [
           {
            "colorbar": {
             "outlinewidth": 0,
             "ticks": ""
            },
            "colorscale": [
             [
              0,
              "#0d0887"
             ],
             [
              0.1111111111111111,
              "#46039f"
             ],
             [
              0.2222222222222222,
              "#7201a8"
             ],
             [
              0.3333333333333333,
              "#9c179e"
             ],
             [
              0.4444444444444444,
              "#bd3786"
             ],
             [
              0.5555555555555556,
              "#d8576b"
             ],
             [
              0.6666666666666666,
              "#ed7953"
             ],
             [
              0.7777777777777778,
              "#fb9f3a"
             ],
             [
              0.8888888888888888,
              "#fdca26"
             ],
             [
              1,
              "#f0f921"
             ]
            ],
            "type": "contour"
           }
          ],
          "contourcarpet": [
           {
            "colorbar": {
             "outlinewidth": 0,
             "ticks": ""
            },
            "type": "contourcarpet"
           }
          ],
          "heatmap": [
           {
            "colorbar": {
             "outlinewidth": 0,
             "ticks": ""
            },
            "colorscale": [
             [
              0,
              "#0d0887"
             ],
             [
              0.1111111111111111,
              "#46039f"
             ],
             [
              0.2222222222222222,
              "#7201a8"
             ],
             [
              0.3333333333333333,
              "#9c179e"
             ],
             [
              0.4444444444444444,
              "#bd3786"
             ],
             [
              0.5555555555555556,
              "#d8576b"
             ],
             [
              0.6666666666666666,
              "#ed7953"
             ],
             [
              0.7777777777777778,
              "#fb9f3a"
             ],
             [
              0.8888888888888888,
              "#fdca26"
             ],
             [
              1,
              "#f0f921"
             ]
            ],
            "type": "heatmap"
           }
          ],
          "histogram": [
           {
            "marker": {
             "pattern": {
              "fillmode": "overlay",
              "size": 10,
              "solidity": 0.2
             }
            },
            "type": "histogram"
           }
          ],
          "histogram2d": [
           {
            "colorbar": {
             "outlinewidth": 0,
             "ticks": ""
            },
            "colorscale": [
             [
              0,
              "#0d0887"
             ],
             [
              0.1111111111111111,
              "#46039f"
             ],
             [
              0.2222222222222222,
              "#7201a8"
             ],
             [
              0.3333333333333333,
              "#9c179e"
             ],
             [
              0.4444444444444444,
              "#bd3786"
             ],
             [
              0.5555555555555556,
              "#d8576b"
             ],
             [
              0.6666666666666666,
              "#ed7953"
             ],
             [
              0.7777777777777778,
              "#fb9f3a"
             ],
             [
              0.8888888888888888,
              "#fdca26"
             ],
             [
              1,
              "#f0f921"
             ]
            ],
            "type": "histogram2d"
           }
          ],
          "histogram2dcontour": [
           {
            "colorbar": {
             "outlinewidth": 0,
             "ticks": ""
            },
            "colorscale": [
             [
              0,
              "#0d0887"
             ],
             [
              0.1111111111111111,
              "#46039f"
             ],
             [
              0.2222222222222222,
              "#7201a8"
             ],
             [
              0.3333333333333333,
              "#9c179e"
             ],
             [
              0.4444444444444444,
              "#bd3786"
             ],
             [
              0.5555555555555556,
              "#d8576b"
             ],
             [
              0.6666666666666666,
              "#ed7953"
             ],
             [
              0.7777777777777778,
              "#fb9f3a"
             ],
             [
              0.8888888888888888,
              "#fdca26"
             ],
             [
              1,
              "#f0f921"
             ]
            ],
            "type": "histogram2dcontour"
           }
          ],
          "mesh3d": [
           {
            "colorbar": {
             "outlinewidth": 0,
             "ticks": ""
            },
            "type": "mesh3d"
           }
          ],
          "parcoords": [
           {
            "line": {
             "colorbar": {
              "outlinewidth": 0,
              "ticks": ""
             }
            },
            "type": "parcoords"
           }
          ],
          "pie": [
           {
            "automargin": true,
            "type": "pie"
           }
          ],
          "scatter": [
           {
            "fillpattern": {
             "fillmode": "overlay",
             "size": 10,
             "solidity": 0.2
            },
            "type": "scatter"
           }
          ],
          "scatter3d": [
           {
            "line": {
             "colorbar": {
              "outlinewidth": 0,
              "ticks": ""
             }
            },
            "marker": {
             "colorbar": {
              "outlinewidth": 0,
              "ticks": ""
             }
            },
            "type": "scatter3d"
           }
          ],
          "scattercarpet": [
           {
            "marker": {
             "colorbar": {
              "outlinewidth": 0,
              "ticks": ""
             }
            },
            "type": "scattercarpet"
           }
          ],
          "scattergeo": [
           {
            "marker": {
             "colorbar": {
              "outlinewidth": 0,
              "ticks": ""
             }
            },
            "type": "scattergeo"
           }
          ],
          "scattergl": [
           {
            "marker": {
             "colorbar": {
              "outlinewidth": 0,
              "ticks": ""
             }
            },
            "type": "scattergl"
           }
          ],
          "scattermap": [
           {
            "marker": {
             "colorbar": {
              "outlinewidth": 0,
              "ticks": ""
             }
            },
            "type": "scattermap"
           }
          ],
          "scattermapbox": [
           {
            "marker": {
             "colorbar": {
              "outlinewidth": 0,
              "ticks": ""
             }
            },
            "type": "scattermapbox"
           }
          ],
          "scatterpolar": [
           {
            "marker": {
             "colorbar": {
              "outlinewidth": 0,
              "ticks": ""
             }
            },
            "type": "scatterpolar"
           }
          ],
          "scatterpolargl": [
           {
            "marker": {
             "colorbar": {
              "outlinewidth": 0,
              "ticks": ""
             }
            },
            "type": "scatterpolargl"
           }
          ],
          "scatterternary": [
           {
            "marker": {
             "colorbar": {
              "outlinewidth": 0,
              "ticks": ""
             }
            },
            "type": "scatterternary"
           }
          ],
          "surface": [
           {
            "colorbar": {
             "outlinewidth": 0,
             "ticks": ""
            },
            "colorscale": [
             [
              0,
              "#0d0887"
             ],
             [
              0.1111111111111111,
              "#46039f"
             ],
             [
              0.2222222222222222,
              "#7201a8"
             ],
             [
              0.3333333333333333,
              "#9c179e"
             ],
             [
              0.4444444444444444,
              "#bd3786"
             ],
             [
              0.5555555555555556,
              "#d8576b"
             ],
             [
              0.6666666666666666,
              "#ed7953"
             ],
             [
              0.7777777777777778,
              "#fb9f3a"
             ],
             [
              0.8888888888888888,
              "#fdca26"
             ],
             [
              1,
              "#f0f921"
             ]
            ],
            "type": "surface"
           }
          ],
          "table": [
           {
            "cells": {
             "fill": {
              "color": "#EBF0F8"
             },
             "line": {
              "color": "white"
             }
            },
            "header": {
             "fill": {
              "color": "#C8D4E3"
             },
             "line": {
              "color": "white"
             }
            },
            "type": "table"
           }
          ]
         },
         "layout": {
          "annotationdefaults": {
           "arrowcolor": "#2a3f5f",
           "arrowhead": 0,
           "arrowwidth": 1
          },
          "autotypenumbers": "strict",
          "coloraxis": {
           "colorbar": {
            "outlinewidth": 0,
            "ticks": ""
           }
          },
          "colorscale": {
           "diverging": [
            [
             0,
             "#8e0152"
            ],
            [
             0.1,
             "#c51b7d"
            ],
            [
             0.2,
             "#de77ae"
            ],
            [
             0.3,
             "#f1b6da"
            ],
            [
             0.4,
             "#fde0ef"
            ],
            [
             0.5,
             "#f7f7f7"
            ],
            [
             0.6,
             "#e6f5d0"
            ],
            [
             0.7,
             "#b8e186"
            ],
            [
             0.8,
             "#7fbc41"
            ],
            [
             0.9,
             "#4d9221"
            ],
            [
             1,
             "#276419"
            ]
           ],
           "sequential": [
            [
             0,
             "#0d0887"
            ],
            [
             0.1111111111111111,
             "#46039f"
            ],
            [
             0.2222222222222222,
             "#7201a8"
            ],
            [
             0.3333333333333333,
             "#9c179e"
            ],
            [
             0.4444444444444444,
             "#bd3786"
            ],
            [
             0.5555555555555556,
             "#d8576b"
            ],
            [
             0.6666666666666666,
             "#ed7953"
            ],
            [
             0.7777777777777778,
             "#fb9f3a"
            ],
            [
             0.8888888888888888,
             "#fdca26"
            ],
            [
             1,
             "#f0f921"
            ]
           ],
           "sequentialminus": [
            [
             0,
             "#0d0887"
            ],
            [
             0.1111111111111111,
             "#46039f"
            ],
            [
             0.2222222222222222,
             "#7201a8"
            ],
            [
             0.3333333333333333,
             "#9c179e"
            ],
            [
             0.4444444444444444,
             "#bd3786"
            ],
            [
             0.5555555555555556,
             "#d8576b"
            ],
            [
             0.6666666666666666,
             "#ed7953"
            ],
            [
             0.7777777777777778,
             "#fb9f3a"
            ],
            [
             0.8888888888888888,
             "#fdca26"
            ],
            [
             1,
             "#f0f921"
            ]
           ]
          },
          "colorway": [
           "#636efa",
           "#EF553B",
           "#00cc96",
           "#ab63fa",
           "#FFA15A",
           "#19d3f3",
           "#FF6692",
           "#B6E880",
           "#FF97FF",
           "#FECB52"
          ],
          "font": {
           "color": "#2a3f5f"
          },
          "geo": {
           "bgcolor": "white",
           "lakecolor": "white",
           "landcolor": "#E5ECF6",
           "showlakes": true,
           "showland": true,
           "subunitcolor": "white"
          },
          "hoverlabel": {
           "align": "left"
          },
          "hovermode": "closest",
          "mapbox": {
           "style": "light"
          },
          "paper_bgcolor": "white",
          "plot_bgcolor": "#E5ECF6",
          "polar": {
           "angularaxis": {
            "gridcolor": "white",
            "linecolor": "white",
            "ticks": ""
           },
           "bgcolor": "#E5ECF6",
           "radialaxis": {
            "gridcolor": "white",
            "linecolor": "white",
            "ticks": ""
           }
          },
          "scene": {
           "xaxis": {
            "backgroundcolor": "#E5ECF6",
            "gridcolor": "white",
            "gridwidth": 2,
            "linecolor": "white",
            "showbackground": true,
            "ticks": "",
            "zerolinecolor": "white"
           },
           "yaxis": {
            "backgroundcolor": "#E5ECF6",
            "gridcolor": "white",
            "gridwidth": 2,
            "linecolor": "white",
            "showbackground": true,
            "ticks": "",
            "zerolinecolor": "white"
           },
           "zaxis": {
            "backgroundcolor": "#E5ECF6",
            "gridcolor": "white",
            "gridwidth": 2,
            "linecolor": "white",
            "showbackground": true,
            "ticks": "",
            "zerolinecolor": "white"
           }
          },
          "shapedefaults": {
           "line": {
            "color": "#2a3f5f"
           }
          },
          "ternary": {
           "aaxis": {
            "gridcolor": "white",
            "linecolor": "white",
            "ticks": ""
           },
           "baxis": {
            "gridcolor": "white",
            "linecolor": "white",
            "ticks": ""
           },
           "bgcolor": "#E5ECF6",
           "caxis": {
            "gridcolor": "white",
            "linecolor": "white",
            "ticks": ""
           }
          },
          "title": {
           "x": 0.05
          },
          "xaxis": {
           "automargin": true,
           "gridcolor": "white",
           "linecolor": "white",
           "ticks": "",
           "title": {
            "standoff": 15
           },
           "zerolinecolor": "white",
           "zerolinewidth": 2
          },
          "yaxis": {
           "automargin": true,
           "gridcolor": "white",
           "linecolor": "white",
           "ticks": "",
           "title": {
            "standoff": 15
           },
           "zerolinecolor": "white",
           "zerolinewidth": 2
          }
         }
        }
       }
      }
     },
     "metadata": {},
     "output_type": "display_data"
    }
   ],
   "source": [
    "fig_points = px.scatter(points_df, x=\"x1\", y=\"x2\", color=\"dataset\", symbol=\"dataset\")\n",
    "fig_plane = px.line(plane_df, x=\"x1\", y=\"x2\", color=\"dataset\")\n",
    "fig_plane.update_traces(line=dict(width=3))\n",
    "fig = go.Figure(data=fig_points.data + fig_plane.data)\n",
    "fig.show()"
   ]
  },
  {
   "cell_type": "markdown",
   "metadata": {},
   "source": [
    "As we can see inputs for tasks 1 and 2 are indeed close. Because of small $\\sigma_w$ we got $w_1$ and $w_2$ also close. "
   ]
  },
  {
   "cell_type": "markdown",
   "metadata": {},
   "source": [
    "## Solo models"
   ]
  },
  {
   "cell_type": "code",
   "execution_count": 9,
   "metadata": {},
   "outputs": [],
   "source": [
    "# here we define probabilistic model of each task using pyro\n",
    "class SoloModel(pnn.PyroModule):\n",
    "    def __init__(\n",
    "        self,\n",
    "        dim: int = 2,\n",
    "        num_data_samples: Optional[int] = None\n",
    "    ):\n",
    "        super().__init__()\n",
    "\n",
    "        self.num_data_samples = num_data_samples\n",
    "\n",
    "        # set parametric prior on w\n",
    "        self.w_loc = pnn.PyroParam(torch.zeros((dim, )))\n",
    "        self.log_w_scale = pnn.PyroParam(torch.zeros((dim, )))\n",
    "        self.w = pnn.PyroSample(\n",
    "            lambda self: pdistr.Normal(self.w_loc, torch.exp(self.log_w_scale)).to_event(1)\n",
    "        )\n",
    "\n",
    "    def forward(self, X: torch.Tensor, y: torch.Tensor = None):\n",
    "        batch_size = X.shape[0]\n",
    "        if self.num_data_samples:\n",
    "            size = self.num_data_samples\n",
    "            subsample_size = batch_size\n",
    "        else:\n",
    "            size = batch_size\n",
    "            subsample_size = None\n",
    "\n",
    "        p = torch.sigmoid(X.matmul(self.w))\n",
    "        with pyro.plate(\"data_batch\", size=size, subsample_size=subsample_size):\n",
    "            pyro.sample(\"y\", pdistr.Bernoulli(p), obs=y)"
   ]
  },
  {
   "cell_type": "markdown",
   "metadata": {},
   "source": [
    "We are going to use [`lightning`](https://lightning.ai/docs/pytorch/stable/) to perform training and logging"
   ]
  },
  {
   "cell_type": "code",
   "execution_count": 10,
   "metadata": {},
   "outputs": [],
   "source": [
    "class LitSoloModel(L.LightningModule):\n",
    "    def __init__(\n",
    "        self,\n",
    "        elbo_f: pyro.infer.elbo.ELBOModule,\n",
    "        predictive: pyro.infer.Predictive,\n",
    "        num_data_samples: int,\n",
    "    ):\n",
    "        super().__init__()\n",
    "\n",
    "        self.num_data_samples = num_data_samples\n",
    "        self.accuracy_computer = Accuracy('binary')\n",
    "\n",
    "        self.elbo_f = elbo_f\n",
    "        self.model: SoloModel = elbo_f.model\n",
    "        self.guide = elbo_f.guide\n",
    "\n",
    "        self.predictive = predictive\n",
    "\n",
    "    def training_step(self, batch: tuple[torch.Tensor], batch_idx: int):\n",
    "        X, y = batch\n",
    "\n",
    "        elbo_loss = self.elbo_f(X, y)\n",
    "\n",
    "        self.log(\"Train/ELBO\", elbo_loss, prog_bar=True)\n",
    "\n",
    "        return elbo_loss\n",
    "    \n",
    "    def validation_step(self, batch: tuple[torch.Tensor], batch_idx: int):\n",
    "        X, y = batch\n",
    "\n",
    "        y_pred = (self.predictive(X, y=None)[\"y\"].mean(dim=0) > 0.5).to(torch.float32)\n",
    "\n",
    "        self.accuracy_computer.update(y_pred, y)\n",
    "\n",
    "    def on_validation_epoch_end(self):\n",
    "        self.log(\"Test/Accuracy\", self.accuracy_computer.compute())\n",
    "        self.accuracy_computer.reset()  \n",
    "\n",
    "    def configure_optimizers(self):\n",
    "        return optim.Adam(self.elbo_f.parameters())"
   ]
  },
  {
   "cell_type": "markdown",
   "metadata": {},
   "source": [
    "Now train individual models"
   ]
  },
  {
   "cell_type": "code",
   "execution_count": 11,
   "metadata": {},
   "outputs": [
    {
     "name": "stderr",
     "output_type": "stream",
     "text": [
      "Using default `ModelCheckpoint`. Consider installing `litmodels` package to enable `LitModelCheckpoint` for automatic upload to the Lightning model registry.\n",
      "GPU available: True (mps), used: False\n",
      "TPU available: False, using: 0 TPU cores\n",
      "HPU available: False, using: 0 HPUs\n",
      "/Users/sem-k32/10 sem/bmm-multitask-learning/.venv/lib/python3.12/site-packages/lightning/pytorch/trainer/setup.py:177: PossibleUserWarning:\n",
      "\n",
      "GPU available but not used. You can set it by doing `Trainer(accelerator='gpu')`.\n",
      "\n",
      "\n",
      "  | Name              | Type           | Params | Mode \n",
      "-------------------------------------------------------------\n",
      "0 | accuracy_computer | BinaryAccuracy | 0      | train\n",
      "1 | elbo_f            | ELBOModule     | 8      | train\n",
      "2 | model             | SoloModel      | 4      | train\n",
      "3 | guide             | AutoNormal     | 4      | train\n",
      "4 | predictive        | Predictive     | 8      | train\n",
      "-------------------------------------------------------------\n",
      "8         Trainable params\n",
      "0         Non-trainable params\n",
      "8         Total params\n",
      "0.000     Total estimated model params size (MB)\n",
      "7         Modules in train mode\n",
      "0         Modules in eval mode\n"
     ]
    },
    {
     "name": "stdout",
     "output_type": "stream",
     "text": [
      "Training model 0\n",
      "\n"
     ]
    },
    {
     "data": {
      "application/vnd.jupyter.widget-view+json": {
       "model_id": "408d3fb58bb94b5facf79c51cf8df059",
       "version_major": 2,
       "version_minor": 0
      },
      "text/plain": [
       "Sanity Checking: |          | 0/? [00:00<?, ?it/s]"
      ]
     },
     "metadata": {},
     "output_type": "display_data"
    },
    {
     "name": "stderr",
     "output_type": "stream",
     "text": [
      "/Users/sem-k32/10 sem/bmm-multitask-learning/.venv/lib/python3.12/site-packages/lightning/pytorch/trainer/connectors/data_connector.py:425: PossibleUserWarning:\n",
      "\n",
      "The 'val_dataloader' does not have many workers which may be a bottleneck. Consider increasing the value of the `num_workers` argument` to `num_workers=9` in the `DataLoader` to improve performance.\n",
      "\n",
      "/Users/sem-k32/10 sem/bmm-multitask-learning/.venv/lib/python3.12/site-packages/lightning/pytorch/trainer/connectors/data_connector.py:425: PossibleUserWarning:\n",
      "\n",
      "The 'train_dataloader' does not have many workers which may be a bottleneck. Consider increasing the value of the `num_workers` argument` to `num_workers=9` in the `DataLoader` to improve performance.\n",
      "\n"
     ]
    },
    {
     "data": {
      "application/vnd.jupyter.widget-view+json": {
       "model_id": "2537dafffdd84657bde3284cb016b61d",
       "version_major": 2,
       "version_minor": 0
      },
      "text/plain": [
       "Training: |          | 0/? [00:00<?, ?it/s]"
      ]
     },
     "metadata": {},
     "output_type": "display_data"
    },
    {
     "data": {
      "application/vnd.jupyter.widget-view+json": {
       "model_id": "7b567ebeed554d3e8de05786a7ecc31a",
       "version_major": 2,
       "version_minor": 0
      },
      "text/plain": [
       "Validation: |          | 0/? [00:00<?, ?it/s]"
      ]
     },
     "metadata": {},
     "output_type": "display_data"
    },
    {
     "data": {
      "application/vnd.jupyter.widget-view+json": {
       "model_id": "bb9dec08c6a64cfcb52bdb19b6a0e452",
       "version_major": 2,
       "version_minor": 0
      },
      "text/plain": [
       "Validation: |          | 0/? [00:00<?, ?it/s]"
      ]
     },
     "metadata": {},
     "output_type": "display_data"
    },
    {
     "data": {
      "application/vnd.jupyter.widget-view+json": {
       "model_id": "a70f1c35eea24767b6f679fb155fc676",
       "version_major": 2,
       "version_minor": 0
      },
      "text/plain": [
       "Validation: |          | 0/? [00:00<?, ?it/s]"
      ]
     },
     "metadata": {},
     "output_type": "display_data"
    },
    {
     "data": {
      "application/vnd.jupyter.widget-view+json": {
       "model_id": "40df5b530b1f4fb489a54e35e40c18de",
       "version_major": 2,
       "version_minor": 0
      },
      "text/plain": [
       "Validation: |          | 0/? [00:00<?, ?it/s]"
      ]
     },
     "metadata": {},
     "output_type": "display_data"
    },
    {
     "data": {
      "application/vnd.jupyter.widget-view+json": {
       "model_id": "4825de08e5d84262a474c12a2e15da05",
       "version_major": 2,
       "version_minor": 0
      },
      "text/plain": [
       "Validation: |          | 0/? [00:00<?, ?it/s]"
      ]
     },
     "metadata": {},
     "output_type": "display_data"
    },
    {
     "data": {
      "application/vnd.jupyter.widget-view+json": {
       "model_id": "2b9b98fda1c04c5a945d8a56e255bcd0",
       "version_major": 2,
       "version_minor": 0
      },
      "text/plain": [
       "Validation: |          | 0/? [00:00<?, ?it/s]"
      ]
     },
     "metadata": {},
     "output_type": "display_data"
    },
    {
     "data": {
      "application/vnd.jupyter.widget-view+json": {
       "model_id": "e496f5886062454bb01f1a54c1980309",
       "version_major": 2,
       "version_minor": 0
      },
      "text/plain": [
       "Validation: |          | 0/? [00:00<?, ?it/s]"
      ]
     },
     "metadata": {},
     "output_type": "display_data"
    },
    {
     "data": {
      "application/vnd.jupyter.widget-view+json": {
       "model_id": "52a5b8b4c49d48d183778d25b2051e12",
       "version_major": 2,
       "version_minor": 0
      },
      "text/plain": [
       "Validation: |          | 0/? [00:00<?, ?it/s]"
      ]
     },
     "metadata": {},
     "output_type": "display_data"
    },
    {
     "data": {
      "application/vnd.jupyter.widget-view+json": {
       "model_id": "e655f713ecbf4b1da0b930ccea198af7",
       "version_major": 2,
       "version_minor": 0
      },
      "text/plain": [
       "Validation: |          | 0/? [00:00<?, ?it/s]"
      ]
     },
     "metadata": {},
     "output_type": "display_data"
    },
    {
     "data": {
      "application/vnd.jupyter.widget-view+json": {
       "model_id": "d318654a0f3c4c7cb8b7fd86ef2582c6",
       "version_major": 2,
       "version_minor": 0
      },
      "text/plain": [
       "Validation: |          | 0/? [00:00<?, ?it/s]"
      ]
     },
     "metadata": {},
     "output_type": "display_data"
    },
    {
     "data": {
      "application/vnd.jupyter.widget-view+json": {
       "model_id": "e896dfd6dda8492dabb41df1fdc862de",
       "version_major": 2,
       "version_minor": 0
      },
      "text/plain": [
       "Validation: |          | 0/? [00:00<?, ?it/s]"
      ]
     },
     "metadata": {},
     "output_type": "display_data"
    },
    {
     "data": {
      "application/vnd.jupyter.widget-view+json": {
       "model_id": "8bdcfca7e7674348b8a6896702ec4cbe",
       "version_major": 2,
       "version_minor": 0
      },
      "text/plain": [
       "Validation: |          | 0/? [00:00<?, ?it/s]"
      ]
     },
     "metadata": {},
     "output_type": "display_data"
    },
    {
     "data": {
      "application/vnd.jupyter.widget-view+json": {
       "model_id": "0016dc72551049f5ad0d6ef629513f99",
       "version_major": 2,
       "version_minor": 0
      },
      "text/plain": [
       "Validation: |          | 0/? [00:00<?, ?it/s]"
      ]
     },
     "metadata": {},
     "output_type": "display_data"
    },
    {
     "data": {
      "application/vnd.jupyter.widget-view+json": {
       "model_id": "b2dddb63f1ec4977a5f480528f7dfbab",
       "version_major": 2,
       "version_minor": 0
      },
      "text/plain": [
       "Validation: |          | 0/? [00:00<?, ?it/s]"
      ]
     },
     "metadata": {},
     "output_type": "display_data"
    },
    {
     "data": {
      "application/vnd.jupyter.widget-view+json": {
       "model_id": "c9d6cf7aa04642d0b253e381a24815c3",
       "version_major": 2,
       "version_minor": 0
      },
      "text/plain": [
       "Validation: |          | 0/? [00:00<?, ?it/s]"
      ]
     },
     "metadata": {},
     "output_type": "display_data"
    },
    {
     "data": {
      "application/vnd.jupyter.widget-view+json": {
       "model_id": "621861dd6e814012b659a31058d4bbf7",
       "version_major": 2,
       "version_minor": 0
      },
      "text/plain": [
       "Validation: |          | 0/? [00:00<?, ?it/s]"
      ]
     },
     "metadata": {},
     "output_type": "display_data"
    },
    {
     "data": {
      "application/vnd.jupyter.widget-view+json": {
       "model_id": "1ef55820f35d495cbbb94747ad390067",
       "version_major": 2,
       "version_minor": 0
      },
      "text/plain": [
       "Validation: |          | 0/? [00:00<?, ?it/s]"
      ]
     },
     "metadata": {},
     "output_type": "display_data"
    },
    {
     "data": {
      "application/vnd.jupyter.widget-view+json": {
       "model_id": "64527c8c68614e929be171efced7b904",
       "version_major": 2,
       "version_minor": 0
      },
      "text/plain": [
       "Validation: |          | 0/? [00:00<?, ?it/s]"
      ]
     },
     "metadata": {},
     "output_type": "display_data"
    },
    {
     "data": {
      "application/vnd.jupyter.widget-view+json": {
       "model_id": "2e2b3b0d446a4a5495cbf99262af3344",
       "version_major": 2,
       "version_minor": 0
      },
      "text/plain": [
       "Validation: |          | 0/? [00:00<?, ?it/s]"
      ]
     },
     "metadata": {},
     "output_type": "display_data"
    },
    {
     "data": {
      "application/vnd.jupyter.widget-view+json": {
       "model_id": "5b1a244ac22448ab9a02c37877f2eb51",
       "version_major": 2,
       "version_minor": 0
      },
      "text/plain": [
       "Validation: |          | 0/? [00:00<?, ?it/s]"
      ]
     },
     "metadata": {},
     "output_type": "display_data"
    },
    {
     "data": {
      "application/vnd.jupyter.widget-view+json": {
       "model_id": "025e99f45fd4423f986c1aa6659ee961",
       "version_major": 2,
       "version_minor": 0
      },
      "text/plain": [
       "Validation: |          | 0/? [00:00<?, ?it/s]"
      ]
     },
     "metadata": {},
     "output_type": "display_data"
    },
    {
     "data": {
      "application/vnd.jupyter.widget-view+json": {
       "model_id": "b94123392f5742e0bc2758846c81fe5f",
       "version_major": 2,
       "version_minor": 0
      },
      "text/plain": [
       "Validation: |          | 0/? [00:00<?, ?it/s]"
      ]
     },
     "metadata": {},
     "output_type": "display_data"
    },
    {
     "data": {
      "application/vnd.jupyter.widget-view+json": {
       "model_id": "1a4ea3915dab45d580de2589d27ab472",
       "version_major": 2,
       "version_minor": 0
      },
      "text/plain": [
       "Validation: |          | 0/? [00:00<?, ?it/s]"
      ]
     },
     "metadata": {},
     "output_type": "display_data"
    },
    {
     "data": {
      "application/vnd.jupyter.widget-view+json": {
       "model_id": "194cc1805b794cdd81b598f679202926",
       "version_major": 2,
       "version_minor": 0
      },
      "text/plain": [
       "Validation: |          | 0/? [00:00<?, ?it/s]"
      ]
     },
     "metadata": {},
     "output_type": "display_data"
    },
    {
     "data": {
      "application/vnd.jupyter.widget-view+json": {
       "model_id": "f886d3cef8ab4ac9937d8d417816a9e9",
       "version_major": 2,
       "version_minor": 0
      },
      "text/plain": [
       "Validation: |          | 0/? [00:00<?, ?it/s]"
      ]
     },
     "metadata": {},
     "output_type": "display_data"
    },
    {
     "data": {
      "application/vnd.jupyter.widget-view+json": {
       "model_id": "cb3b480f459a4640a856dd2936da18a3",
       "version_major": 2,
       "version_minor": 0
      },
      "text/plain": [
       "Validation: |          | 0/? [00:00<?, ?it/s]"
      ]
     },
     "metadata": {},
     "output_type": "display_data"
    },
    {
     "data": {
      "application/vnd.jupyter.widget-view+json": {
       "model_id": "865e538ddfff4fdcb96b03c4d8dc040a",
       "version_major": 2,
       "version_minor": 0
      },
      "text/plain": [
       "Validation: |          | 0/? [00:00<?, ?it/s]"
      ]
     },
     "metadata": {},
     "output_type": "display_data"
    },
    {
     "data": {
      "application/vnd.jupyter.widget-view+json": {
       "model_id": "9fcc30d456cb42dbb3f2a9f2d4762c76",
       "version_major": 2,
       "version_minor": 0
      },
      "text/plain": [
       "Validation: |          | 0/? [00:00<?, ?it/s]"
      ]
     },
     "metadata": {},
     "output_type": "display_data"
    },
    {
     "data": {
      "application/vnd.jupyter.widget-view+json": {
       "model_id": "fa41ff44cf3b4bf1971cf04957654ff4",
       "version_major": 2,
       "version_minor": 0
      },
      "text/plain": [
       "Validation: |          | 0/? [00:00<?, ?it/s]"
      ]
     },
     "metadata": {},
     "output_type": "display_data"
    },
    {
     "name": "stderr",
     "output_type": "stream",
     "text": [
      "Using default `ModelCheckpoint`. Consider installing `litmodels` package to enable `LitModelCheckpoint` for automatic upload to the Lightning model registry.\n",
      "GPU available: True (mps), used: False\n",
      "TPU available: False, using: 0 TPU cores\n",
      "HPU available: False, using: 0 HPUs\n",
      "\n",
      "  | Name              | Type           | Params | Mode \n",
      "-------------------------------------------------------------\n",
      "0 | accuracy_computer | BinaryAccuracy | 0      | train\n",
      "1 | elbo_f            | ELBOModule     | 8      | train\n",
      "2 | model             | SoloModel      | 4      | train\n",
      "3 | guide             | AutoNormal     | 4      | train\n",
      "4 | predictive        | Predictive     | 8      | train\n",
      "-------------------------------------------------------------\n",
      "8         Trainable params\n",
      "0         Non-trainable params\n",
      "8         Total params\n",
      "0.000     Total estimated model params size (MB)\n",
      "7         Modules in train mode\n",
      "0         Modules in eval mode\n"
     ]
    },
    {
     "name": "stdout",
     "output_type": "stream",
     "text": [
      "Training model 1\n",
      "\n"
     ]
    },
    {
     "data": {
      "application/vnd.jupyter.widget-view+json": {
       "model_id": "e91ee1ed1a644221a2ccfdaf3e7e4adf",
       "version_major": 2,
       "version_minor": 0
      },
      "text/plain": [
       "Sanity Checking: |          | 0/? [00:00<?, ?it/s]"
      ]
     },
     "metadata": {},
     "output_type": "display_data"
    },
    {
     "data": {
      "application/vnd.jupyter.widget-view+json": {
       "model_id": "d23117aa39ab4b9990034bb83eb8a847",
       "version_major": 2,
       "version_minor": 0
      },
      "text/plain": [
       "Training: |          | 0/? [00:00<?, ?it/s]"
      ]
     },
     "metadata": {},
     "output_type": "display_data"
    },
    {
     "data": {
      "application/vnd.jupyter.widget-view+json": {
       "model_id": "1c2862490b3444c898d88b0c534cf391",
       "version_major": 2,
       "version_minor": 0
      },
      "text/plain": [
       "Validation: |          | 0/? [00:00<?, ?it/s]"
      ]
     },
     "metadata": {},
     "output_type": "display_data"
    },
    {
     "data": {
      "application/vnd.jupyter.widget-view+json": {
       "model_id": "b5d33a72ca994a69b4e00638af0c8fe5",
       "version_major": 2,
       "version_minor": 0
      },
      "text/plain": [
       "Validation: |          | 0/? [00:00<?, ?it/s]"
      ]
     },
     "metadata": {},
     "output_type": "display_data"
    },
    {
     "data": {
      "application/vnd.jupyter.widget-view+json": {
       "model_id": "9c7567bad8ca49a7a6665310ef54ba86",
       "version_major": 2,
       "version_minor": 0
      },
      "text/plain": [
       "Validation: |          | 0/? [00:00<?, ?it/s]"
      ]
     },
     "metadata": {},
     "output_type": "display_data"
    },
    {
     "data": {
      "application/vnd.jupyter.widget-view+json": {
       "model_id": "1e88bbadce564a77ad82c2c1ecdba06b",
       "version_major": 2,
       "version_minor": 0
      },
      "text/plain": [
       "Validation: |          | 0/? [00:00<?, ?it/s]"
      ]
     },
     "metadata": {},
     "output_type": "display_data"
    },
    {
     "data": {
      "application/vnd.jupyter.widget-view+json": {
       "model_id": "92939f8945a7446d85d79c0d13516143",
       "version_major": 2,
       "version_minor": 0
      },
      "text/plain": [
       "Validation: |          | 0/? [00:00<?, ?it/s]"
      ]
     },
     "metadata": {},
     "output_type": "display_data"
    },
    {
     "data": {
      "application/vnd.jupyter.widget-view+json": {
       "model_id": "60b8422e1110444c883e57c3d3428dd0",
       "version_major": 2,
       "version_minor": 0
      },
      "text/plain": [
       "Validation: |          | 0/? [00:00<?, ?it/s]"
      ]
     },
     "metadata": {},
     "output_type": "display_data"
    },
    {
     "data": {
      "application/vnd.jupyter.widget-view+json": {
       "model_id": "1cfc1c2b7ad6433dbc97ecb3331f9e7a",
       "version_major": 2,
       "version_minor": 0
      },
      "text/plain": [
       "Validation: |          | 0/? [00:00<?, ?it/s]"
      ]
     },
     "metadata": {},
     "output_type": "display_data"
    },
    {
     "data": {
      "application/vnd.jupyter.widget-view+json": {
       "model_id": "dc60661dfc5b4ba89d8895a802c9a75b",
       "version_major": 2,
       "version_minor": 0
      },
      "text/plain": [
       "Validation: |          | 0/? [00:00<?, ?it/s]"
      ]
     },
     "metadata": {},
     "output_type": "display_data"
    },
    {
     "data": {
      "application/vnd.jupyter.widget-view+json": {
       "model_id": "9fd036b2261441cf96807ca46c836449",
       "version_major": 2,
       "version_minor": 0
      },
      "text/plain": [
       "Validation: |          | 0/? [00:00<?, ?it/s]"
      ]
     },
     "metadata": {},
     "output_type": "display_data"
    },
    {
     "data": {
      "application/vnd.jupyter.widget-view+json": {
       "model_id": "63c69591290343828bd0ce7bbd124248",
       "version_major": 2,
       "version_minor": 0
      },
      "text/plain": [
       "Validation: |          | 0/? [00:00<?, ?it/s]"
      ]
     },
     "metadata": {},
     "output_type": "display_data"
    },
    {
     "data": {
      "application/vnd.jupyter.widget-view+json": {
       "model_id": "ad99fc3b086c454c94f0ed3feb9975f9",
       "version_major": 2,
       "version_minor": 0
      },
      "text/plain": [
       "Validation: |          | 0/? [00:00<?, ?it/s]"
      ]
     },
     "metadata": {},
     "output_type": "display_data"
    },
    {
     "data": {
      "application/vnd.jupyter.widget-view+json": {
       "model_id": "5fc6b1a7fda14e41a095c779d12a5fd8",
       "version_major": 2,
       "version_minor": 0
      },
      "text/plain": [
       "Validation: |          | 0/? [00:00<?, ?it/s]"
      ]
     },
     "metadata": {},
     "output_type": "display_data"
    },
    {
     "data": {
      "application/vnd.jupyter.widget-view+json": {
       "model_id": "92dc5b317c1a4f1c90c8ed226ce47d7b",
       "version_major": 2,
       "version_minor": 0
      },
      "text/plain": [
       "Validation: |          | 0/? [00:00<?, ?it/s]"
      ]
     },
     "metadata": {},
     "output_type": "display_data"
    },
    {
     "data": {
      "application/vnd.jupyter.widget-view+json": {
       "model_id": "1f41b1969dcc495ea7027ac9a8ca26e4",
       "version_major": 2,
       "version_minor": 0
      },
      "text/plain": [
       "Validation: |          | 0/? [00:00<?, ?it/s]"
      ]
     },
     "metadata": {},
     "output_type": "display_data"
    },
    {
     "data": {
      "application/vnd.jupyter.widget-view+json": {
       "model_id": "7704b66f50da4bdab7feace6bba94eaa",
       "version_major": 2,
       "version_minor": 0
      },
      "text/plain": [
       "Validation: |          | 0/? [00:00<?, ?it/s]"
      ]
     },
     "metadata": {},
     "output_type": "display_data"
    },
    {
     "data": {
      "application/vnd.jupyter.widget-view+json": {
       "model_id": "96864e003baa425db855a0e9fb7aa10a",
       "version_major": 2,
       "version_minor": 0
      },
      "text/plain": [
       "Validation: |          | 0/? [00:00<?, ?it/s]"
      ]
     },
     "metadata": {},
     "output_type": "display_data"
    },
    {
     "data": {
      "application/vnd.jupyter.widget-view+json": {
       "model_id": "1bd3c79989a5452980e408e094036f44",
       "version_major": 2,
       "version_minor": 0
      },
      "text/plain": [
       "Validation: |          | 0/? [00:00<?, ?it/s]"
      ]
     },
     "metadata": {},
     "output_type": "display_data"
    },
    {
     "name": "stderr",
     "output_type": "stream",
     "text": [
      "Using default `ModelCheckpoint`. Consider installing `litmodels` package to enable `LitModelCheckpoint` for automatic upload to the Lightning model registry.\n",
      "GPU available: True (mps), used: False\n",
      "TPU available: False, using: 0 TPU cores\n",
      "HPU available: False, using: 0 HPUs\n",
      "\n",
      "  | Name              | Type           | Params | Mode \n",
      "-------------------------------------------------------------\n",
      "0 | accuracy_computer | BinaryAccuracy | 0      | train\n",
      "1 | elbo_f            | ELBOModule     | 8      | train\n",
      "2 | model             | SoloModel      | 4      | train\n",
      "3 | guide             | AutoNormal     | 4      | train\n",
      "4 | predictive        | Predictive     | 8      | train\n",
      "-------------------------------------------------------------\n",
      "8         Trainable params\n",
      "0         Non-trainable params\n",
      "8         Total params\n",
      "0.000     Total estimated model params size (MB)\n",
      "7         Modules in train mode\n",
      "0         Modules in eval mode\n"
     ]
    },
    {
     "name": "stdout",
     "output_type": "stream",
     "text": [
      "Training model 2\n",
      "\n"
     ]
    },
    {
     "data": {
      "application/vnd.jupyter.widget-view+json": {
       "model_id": "adcbfdbe718b410f94b4d9b41a361a63",
       "version_major": 2,
       "version_minor": 0
      },
      "text/plain": [
       "Sanity Checking: |          | 0/? [00:00<?, ?it/s]"
      ]
     },
     "metadata": {},
     "output_type": "display_data"
    },
    {
     "data": {
      "application/vnd.jupyter.widget-view+json": {
       "model_id": "4dc2f82af99a4e498ef9a44a20dff2ad",
       "version_major": 2,
       "version_minor": 0
      },
      "text/plain": [
       "Training: |          | 0/? [00:00<?, ?it/s]"
      ]
     },
     "metadata": {},
     "output_type": "display_data"
    },
    {
     "data": {
      "application/vnd.jupyter.widget-view+json": {
       "model_id": "8d63c4c89b0140319c6d5f3866b22574",
       "version_major": 2,
       "version_minor": 0
      },
      "text/plain": [
       "Validation: |          | 0/? [00:00<?, ?it/s]"
      ]
     },
     "metadata": {},
     "output_type": "display_data"
    },
    {
     "data": {
      "application/vnd.jupyter.widget-view+json": {
       "model_id": "f7cb523bef7045cf8e130e11bde87663",
       "version_major": 2,
       "version_minor": 0
      },
      "text/plain": [
       "Validation: |          | 0/? [00:00<?, ?it/s]"
      ]
     },
     "metadata": {},
     "output_type": "display_data"
    },
    {
     "data": {
      "application/vnd.jupyter.widget-view+json": {
       "model_id": "da99435a5fbd45ebb5b5ee4531a6706c",
       "version_major": 2,
       "version_minor": 0
      },
      "text/plain": [
       "Validation: |          | 0/? [00:00<?, ?it/s]"
      ]
     },
     "metadata": {},
     "output_type": "display_data"
    },
    {
     "data": {
      "application/vnd.jupyter.widget-view+json": {
       "model_id": "92fd62d7ac8d4ee8866fc78968bd2aa4",
       "version_major": 2,
       "version_minor": 0
      },
      "text/plain": [
       "Validation: |          | 0/? [00:00<?, ?it/s]"
      ]
     },
     "metadata": {},
     "output_type": "display_data"
    },
    {
     "data": {
      "application/vnd.jupyter.widget-view+json": {
       "model_id": "9ea8de967fbc45c0a0572a840420b920",
       "version_major": 2,
       "version_minor": 0
      },
      "text/plain": [
       "Validation: |          | 0/? [00:00<?, ?it/s]"
      ]
     },
     "metadata": {},
     "output_type": "display_data"
    },
    {
     "data": {
      "application/vnd.jupyter.widget-view+json": {
       "model_id": "ec1fe217ce5342428b65a97fa435d28f",
       "version_major": 2,
       "version_minor": 0
      },
      "text/plain": [
       "Validation: |          | 0/? [00:00<?, ?it/s]"
      ]
     },
     "metadata": {},
     "output_type": "display_data"
    },
    {
     "data": {
      "application/vnd.jupyter.widget-view+json": {
       "model_id": "e2ab0813a371440cab46393640a46808",
       "version_major": 2,
       "version_minor": 0
      },
      "text/plain": [
       "Validation: |          | 0/? [00:00<?, ?it/s]"
      ]
     },
     "metadata": {},
     "output_type": "display_data"
    },
    {
     "data": {
      "application/vnd.jupyter.widget-view+json": {
       "model_id": "b94c1498ed8a4c948c60e32388eb67c7",
       "version_major": 2,
       "version_minor": 0
      },
      "text/plain": [
       "Validation: |          | 0/? [00:00<?, ?it/s]"
      ]
     },
     "metadata": {},
     "output_type": "display_data"
    },
    {
     "data": {
      "application/vnd.jupyter.widget-view+json": {
       "model_id": "6c4d25a35e374812be2de1a80557f063",
       "version_major": 2,
       "version_minor": 0
      },
      "text/plain": [
       "Validation: |          | 0/? [00:00<?, ?it/s]"
      ]
     },
     "metadata": {},
     "output_type": "display_data"
    },
    {
     "data": {
      "application/vnd.jupyter.widget-view+json": {
       "model_id": "5e1e4796885947468ff1afa0585f531b",
       "version_major": 2,
       "version_minor": 0
      },
      "text/plain": [
       "Validation: |          | 0/? [00:00<?, ?it/s]"
      ]
     },
     "metadata": {},
     "output_type": "display_data"
    },
    {
     "data": {
      "application/vnd.jupyter.widget-view+json": {
       "model_id": "801e0760e0e045da8429e73b0e9572e0",
       "version_major": 2,
       "version_minor": 0
      },
      "text/plain": [
       "Validation: |          | 0/? [00:00<?, ?it/s]"
      ]
     },
     "metadata": {},
     "output_type": "display_data"
    },
    {
     "data": {
      "application/vnd.jupyter.widget-view+json": {
       "model_id": "027b2442983c4527b36d62119c9c0e1f",
       "version_major": 2,
       "version_minor": 0
      },
      "text/plain": [
       "Validation: |          | 0/? [00:00<?, ?it/s]"
      ]
     },
     "metadata": {},
     "output_type": "display_data"
    },
    {
     "data": {
      "application/vnd.jupyter.widget-view+json": {
       "model_id": "32c593f0d6984b4b809a76c7d123bc1e",
       "version_major": 2,
       "version_minor": 0
      },
      "text/plain": [
       "Validation: |          | 0/? [00:00<?, ?it/s]"
      ]
     },
     "metadata": {},
     "output_type": "display_data"
    },
    {
     "data": {
      "application/vnd.jupyter.widget-view+json": {
       "model_id": "4c58894a3c664af48baf8ea4488560ca",
       "version_major": 2,
       "version_minor": 0
      },
      "text/plain": [
       "Validation: |          | 0/? [00:00<?, ?it/s]"
      ]
     },
     "metadata": {},
     "output_type": "display_data"
    },
    {
     "data": {
      "application/vnd.jupyter.widget-view+json": {
       "model_id": "f719ad6da35e47978740cd596c611867",
       "version_major": 2,
       "version_minor": 0
      },
      "text/plain": [
       "Validation: |          | 0/? [00:00<?, ?it/s]"
      ]
     },
     "metadata": {},
     "output_type": "display_data"
    },
    {
     "data": {
      "application/vnd.jupyter.widget-view+json": {
       "model_id": "29ed55437633413ba4ecd274d96083aa",
       "version_major": 2,
       "version_minor": 0
      },
      "text/plain": [
       "Validation: |          | 0/? [00:00<?, ?it/s]"
      ]
     },
     "metadata": {},
     "output_type": "display_data"
    },
    {
     "data": {
      "application/vnd.jupyter.widget-view+json": {
       "model_id": "cf1d207744894b3c90adf62bc6f9dded",
       "version_major": 2,
       "version_minor": 0
      },
      "text/plain": [
       "Validation: |          | 0/? [00:00<?, ?it/s]"
      ]
     },
     "metadata": {},
     "output_type": "display_data"
    },
    {
     "data": {
      "application/vnd.jupyter.widget-view+json": {
       "model_id": "9c11b508c257442180fd39a855856790",
       "version_major": 2,
       "version_minor": 0
      },
      "text/plain": [
       "Validation: |          | 0/? [00:00<?, ?it/s]"
      ]
     },
     "metadata": {},
     "output_type": "display_data"
    },
    {
     "data": {
      "application/vnd.jupyter.widget-view+json": {
       "model_id": "2bfe4cb584384f269958775bb8675d46",
       "version_major": 2,
       "version_minor": 0
      },
      "text/plain": [
       "Validation: |          | 0/? [00:00<?, ?it/s]"
      ]
     },
     "metadata": {},
     "output_type": "display_data"
    },
    {
     "data": {
      "application/vnd.jupyter.widget-view+json": {
       "model_id": "d4e62ad741104ae0a78a7a372beae0ee",
       "version_major": 2,
       "version_minor": 0
      },
      "text/plain": [
       "Validation: |          | 0/? [00:00<?, ?it/s]"
      ]
     },
     "metadata": {},
     "output_type": "display_data"
    },
    {
     "data": {
      "application/vnd.jupyter.widget-view+json": {
       "model_id": "645c6667de7543e6a9380a35aa0a7333",
       "version_major": 2,
       "version_minor": 0
      },
      "text/plain": [
       "Validation: |          | 0/? [00:00<?, ?it/s]"
      ]
     },
     "metadata": {},
     "output_type": "display_data"
    },
    {
     "data": {
      "application/vnd.jupyter.widget-view+json": {
       "model_id": "90603b4edeb9407586a26c1d5294baef",
       "version_major": 2,
       "version_minor": 0
      },
      "text/plain": [
       "Validation: |          | 0/? [00:00<?, ?it/s]"
      ]
     },
     "metadata": {},
     "output_type": "display_data"
    },
    {
     "data": {
      "application/vnd.jupyter.widget-view+json": {
       "model_id": "f0f1253aafcf4c3389e1543a0a353a4f",
       "version_major": 2,
       "version_minor": 0
      },
      "text/plain": [
       "Validation: |          | 0/? [00:00<?, ?it/s]"
      ]
     },
     "metadata": {},
     "output_type": "display_data"
    },
    {
     "data": {
      "application/vnd.jupyter.widget-view+json": {
       "model_id": "57505cf688194e07a5a425d72f5b7443",
       "version_major": 2,
       "version_minor": 0
      },
      "text/plain": [
       "Validation: |          | 0/? [00:00<?, ?it/s]"
      ]
     },
     "metadata": {},
     "output_type": "display_data"
    },
    {
     "data": {
      "application/vnd.jupyter.widget-view+json": {
       "model_id": "5f666ba7bb154a9bbaa2373317cda879",
       "version_major": 2,
       "version_minor": 0
      },
      "text/plain": [
       "Validation: |          | 0/? [00:00<?, ?it/s]"
      ]
     },
     "metadata": {},
     "output_type": "display_data"
    },
    {
     "data": {
      "application/vnd.jupyter.widget-view+json": {
       "model_id": "1a1fcf36cfd04c178cee480bc3daecf5",
       "version_major": 2,
       "version_minor": 0
      },
      "text/plain": [
       "Validation: |          | 0/? [00:00<?, ?it/s]"
      ]
     },
     "metadata": {},
     "output_type": "display_data"
    },
    {
     "data": {
      "application/vnd.jupyter.widget-view+json": {
       "model_id": "bb083021cda64c879ed75338b23c3ca4",
       "version_major": 2,
       "version_minor": 0
      },
      "text/plain": [
       "Validation: |          | 0/? [00:00<?, ?it/s]"
      ]
     },
     "metadata": {},
     "output_type": "display_data"
    },
    {
     "data": {
      "application/vnd.jupyter.widget-view+json": {
       "model_id": "815178988a354512862e417a2b04445d",
       "version_major": 2,
       "version_minor": 0
      },
      "text/plain": [
       "Validation: |          | 0/? [00:00<?, ?it/s]"
      ]
     },
     "metadata": {},
     "output_type": "display_data"
    },
    {
     "data": {
      "application/vnd.jupyter.widget-view+json": {
       "model_id": "60d98eb0ca9142d680529284423d37fe",
       "version_major": 2,
       "version_minor": 0
      },
      "text/plain": [
       "Validation: |          | 0/? [00:00<?, ?it/s]"
      ]
     },
     "metadata": {},
     "output_type": "display_data"
    },
    {
     "data": {
      "application/vnd.jupyter.widget-view+json": {
       "model_id": "9f1f48a3da8e4e1ab24c4b8013f7ef7d",
       "version_major": 2,
       "version_minor": 0
      },
      "text/plain": [
       "Validation: |          | 0/? [00:00<?, ?it/s]"
      ]
     },
     "metadata": {},
     "output_type": "display_data"
    },
    {
     "data": {
      "application/vnd.jupyter.widget-view+json": {
       "model_id": "9809acc49e5c4391ab5eab807e7f1df6",
       "version_major": 2,
       "version_minor": 0
      },
      "text/plain": [
       "Validation: |          | 0/? [00:00<?, ?it/s]"
      ]
     },
     "metadata": {},
     "output_type": "display_data"
    },
    {
     "data": {
      "application/vnd.jupyter.widget-view+json": {
       "model_id": "28e6d8316c29453c905ac883f0d7630e",
       "version_major": 2,
       "version_minor": 0
      },
      "text/plain": [
       "Validation: |          | 0/? [00:00<?, ?it/s]"
      ]
     },
     "metadata": {},
     "output_type": "display_data"
    },
    {
     "data": {
      "application/vnd.jupyter.widget-view+json": {
       "model_id": "5e902fb4f0494ed895491ccd2ab37da0",
       "version_major": 2,
       "version_minor": 0
      },
      "text/plain": [
       "Validation: |          | 0/? [00:00<?, ?it/s]"
      ]
     },
     "metadata": {},
     "output_type": "display_data"
    }
   ],
   "source": [
    "for i in range(NUM_MODELS):\n",
    "    print(f\"Training model {i}\\n\")\n",
    "\n",
    "    model = SoloModel(config.dim, config.size)\n",
    "    guide = AutoNormal(model)\n",
    "\n",
    "    # num elbo particles is equivallent to variational multitask\n",
    "    num_elbo_particles = config.mt_elbo.classifier_num_particles * config.mt_elbo.latent_num_particles\n",
    "    \n",
    "    elbo_f = Trace_ELBO(num_elbo_particles)(model, guide)\n",
    "\n",
    "    # All relevant parameters need to be initialized before ``configure_optimizer`` is called.\n",
    "    # Since we used AutoNormal guide our parameters have not be initialized yet.\n",
    "    # Therefore we initialize the model and guide by running one mini-batch through the loss.\n",
    "    mini_batch = next(iter(DataLoader(train_datasets[0], batch_size=1)))\n",
    "    elbo_f(*mini_batch)\n",
    "\n",
    "    # this choice of num_predictive_particles is rather balancing\n",
    "    num_predictive_particles = num_elbo_particles\n",
    "    predictive = pyro.infer.Predictive(model, guide=guide, num_samples=num_predictive_particles)\n",
    "\n",
    "    lit_model = LitSoloModel(elbo_f, predictive, config.size)\n",
    " \n",
    "    train_dataloader = DataLoader(train_datasets[i], batch_size=config.batch_size, shuffle=True)\n",
    "    test_dataloader = DataLoader(test_datasets[i], batch_size=config.batch_size)\n",
    "\n",
    "    logger = TensorBoardLogger(\"mt_logs/solo\", name=f\"solo_{i}\")\n",
    "\n",
    "    callbacks = [\n",
    "        EarlyStopping(monitor=\"Train/ELBO\", min_delta=1e-3, patience=10, mode=\"min\")\n",
    "    ]\n",
    "\n",
    "    trainer = L.Trainer(logger=logger, callbacks=callbacks, **dict(config.trainer))\n",
    "    trainer.fit(lit_model, train_dataloader, test_dataloader)"
   ]
  },
  {
   "cell_type": "markdown",
   "metadata": {},
   "source": [
    "Metrics are saved in the tensorboard"
   ]
  },
  {
   "cell_type": "code",
   "execution_count": 27,
   "metadata": {},
   "outputs": [
    {
     "data": {
      "text/plain": [
       "Reusing TensorBoard on port 6007 (pid 35928), started 0:00:27 ago. (Use '!kill 35928' to kill it.)"
      ]
     },
     "metadata": {},
     "output_type": "display_data"
    },
    {
     "data": {
      "text/html": [
       "\n",
       "      <iframe id=\"tensorboard-frame-58ab6c0dffcfca30\" width=\"100%\" height=\"800\" frameborder=\"0\">\n",
       "      </iframe>\n",
       "      <script>\n",
       "        (function() {\n",
       "          const frame = document.getElementById(\"tensorboard-frame-58ab6c0dffcfca30\");\n",
       "          const url = new URL(\"http://localhost\");\n",
       "          const port = 6007;\n",
       "          if (port) {\n",
       "            url.port = port;\n",
       "          }\n",
       "          frame.src = url;\n",
       "        })();\n",
       "      </script>\n",
       "    "
      ],
      "text/plain": [
       "<IPython.core.display.HTML object>"
      ]
     },
     "metadata": {},
     "output_type": "display_data"
    }
   ],
   "source": [
    "%tensorboard --logdir mt_logs/solo"
   ]
  },
  {
   "cell_type": "markdown",
   "metadata": {},
   "source": [
    "## Variational multitask models"
   ]
  },
  {
   "cell_type": "markdown",
   "metadata": {},
   "source": [
    "First, register KL computation for $\\delta$-distribution. Here we don't have state variables and won't compute its KL at all."
   ]
  },
  {
   "cell_type": "code",
   "execution_count": 13,
   "metadata": {},
   "outputs": [],
   "source": [
    "@distr.kl.register_kl(Delta, Delta)\n",
    "def kl_delta_delta(d1: Delta, d2: Delta):\n",
    "    return torch.zeros(d1.batch_shape)\n",
    "    # this is how it should be\n",
    "    # return torch.zeros(d1.batch_shape) if torch.allclose(d1.v, d2.v) else torch.full(torch.inf, d1.batch_shape)"
   ]
  },
  {
   "cell_type": "markdown",
   "metadata": {},
   "source": [
    "Define batched distributions for tasks. Here we assume that *latents* come with (batch_size, num_latent_particles, ...) shape, *classifiers* come with (num_classifier_samples, ...) shape"
   ]
  },
  {
   "cell_type": "code",
   "execution_count": 14,
   "metadata": {},
   "outputs": [],
   "source": [
    "# same for all tasks\n",
    "def target_distr(Z: torch.Tensor, W: torch.Tensor) -> distr.Distribution:\n",
    "    return distr.Bernoulli(logits=torch.tensordot(Z, W, dims=[[-1], [-1]]))\n",
    "\n",
    "# same for all tasks\n",
    "def predictive_distr(Z: torch.Tensor, W: torch.Tensor) -> distr.Distribution:\n",
    "    return distr.Bernoulli(logits=torch.tensordot(Z, W, dims=[[-1], [-1]]).flatten(1, 2))"
   ]
  },
  {
   "cell_type": "code",
   "execution_count": 15,
   "metadata": {},
   "outputs": [],
   "source": [
    "task_distrs = [target_distr for _ in range(NUM_MODELS)]\n",
    "task_num_samples = list(train_datasets | select(len))"
   ]
  },
  {
   "cell_type": "code",
   "execution_count": 16,
   "metadata": {},
   "outputs": [],
   "source": [
    "# we don't have latents here, but we need it formaly as distribution\n",
    "def latent_distr(X: torch.Tensor) -> distr.Distribution:\n",
    "    return Delta(X, event_dim=1)"
   ]
  },
  {
   "cell_type": "code",
   "execution_count": 17,
   "metadata": {},
   "outputs": [],
   "source": [
    "class NormalLogits(distr.Normal):\n",
    "    \"\"\"Normal distribution with scale parametrized via logits\n",
    "    \"\"\"\n",
    "    def __init__(self, loc, logit, validate_args=None):\n",
    "        self.logit = logit\n",
    "        super().__init__(loc, torch.exp(logit), validate_args)\n",
    "\n",
    "    def __getattribute__(self, name):\n",
    "        if name == \"scale\":\n",
    "            return self.logit.exp()\n",
    "        else:\n",
    "            return super().__getattribute__(name)\n",
    "\n",
    "\n",
    "# parametric variational distr for classifiers\n",
    "classifier_distrs_params = {}\n",
    "classifier_distrs = []\n",
    "for i in range(NUM_MODELS):\n",
    "    # set inital values for distribution's parameters\n",
    "    loc, scale_logit = nn.Parameter(torch.zeros((config.dim, ))), nn.Parameter(torch.zeros((config.dim, )))\n",
    "    classifier_distrs_params.update({\n",
    "        f\"distr_{i}\": [loc, scale_logit]\n",
    "    })\n",
    "    classifier_distrs.append(\n",
    "        distr.Independent(\n",
    "            NormalLogits(loc, scale_logit),\n",
    "            reinterpreted_batch_ndims=1\n",
    "        )\n",
    "    )\n",
    "# parametric variational distr for latents\n",
    "latent_distrs = [latent_distr for _ in range(NUM_MODELS)]"
   ]
  },
  {
   "cell_type": "code",
   "execution_count": 18,
   "metadata": {},
   "outputs": [],
   "source": [
    "# temperature must decrease over steps\n",
    "temp_scheduler = lambda step: 1. / torch.sqrt(torch.tensor(step + 1))"
   ]
  },
  {
   "cell_type": "code",
   "execution_count": 19,
   "metadata": {},
   "outputs": [],
   "source": [
    "# create variational multitask elbo module\n",
    "mt_elbo = MultiTaskElbo(\n",
    "    task_distrs,\n",
    "    task_num_samples,\n",
    "    classifier_distrs,\n",
    "    latent_distrs,\n",
    "    temp_scheduler=temp_scheduler,\n",
    "    **dict(config.mt_elbo)\n",
    ")"
   ]
  },
  {
   "cell_type": "markdown",
   "metadata": {},
   "source": [
    "We are going to use [`lightning`](https://lightning.ai/docs/pytorch/stable/) to perform training and logging"
   ]
  },
  {
   "cell_type": "code",
   "execution_count": 20,
   "metadata": {},
   "outputs": [],
   "source": [
    "class LitMtModel(L.LightningModule):\n",
    "    def __init__(\n",
    "        self,\n",
    "        mt_elbo: MultiTaskElbo\n",
    "    ):\n",
    "        super().__init__()\n",
    "\n",
    "        num_tasks = mt_elbo.num_tasks\n",
    "        self.accuracy_computers = [Accuracy('binary') for _ in range(num_tasks)]\n",
    "        self.mt_elbo = mt_elbo\n",
    "\n",
    "        self.distr_params = nn.ParameterList()\n",
    "        for param_list in classifier_distrs_params.values():\n",
    "            self.distr_params.extend(\n",
    "                param_list\n",
    "            )\n",
    "        \n",
    "\n",
    "    def training_step(self, batch: tuple[tuple[torch.Tensor]], batch_idx: int):\n",
    "        mt_loss_dict = self.mt_elbo(*list(zip(*batch)), step=self.global_step)\n",
    "        self.log_dict(mt_loss_dict, prog_bar=True)\n",
    "\n",
    "        # DEBUG\n",
    "        return mt_loss_dict[\"elbo\"]\n",
    "    \n",
    "    def on_train_batch_end(self, outputs, batch, batch_idx):\n",
    "        with torch.no_grad():\n",
    "            for distr_name, distr_params in classifier_distrs_params.items():\n",
    "                params_grad_norm = sum(distr_params | select(lambda param: param.grad.norm()))\n",
    "                self.log(f\"{distr_name}_grad\", params_grad_norm)\n",
    "\n",
    "    def on_train_epoch_end(self):\n",
    "        # log mixing\n",
    "\n",
    "        fig, ax = plt.subplots()\n",
    "        cax = ax.matshow(self.mt_elbo.latent_mixings_params.detach().numpy())\n",
    "        fig.colorbar(cax)\n",
    "        self.logger.experiment.add_figure(\"Latent_mixing\", fig, self.global_step)\n",
    "\n",
    "        fig, ax = plt.subplots()\n",
    "        cax = ax.matshow(self.mt_elbo.classifier_mixings_params.detach().numpy())\n",
    "        fig.colorbar(cax)\n",
    "        self.logger.experiment.add_figure(\"Classifier_mixing\", fig, self.global_step)\n",
    "\n",
    "    def validation_step(self, batch: tuple[tuple[torch.Tensor]], batch_idx: int):\n",
    "        for i, (X, y) in enumerate(batch):\n",
    "            NUM_PREDICTIVE_SAMPLES = 10\n",
    "            cur_predictive = build_predictive(\n",
    "                predictive_distr,\n",
    "                classifier_distrs[i],\n",
    "                latent_distrs[i],\n",
    "                X,\n",
    "                config.mt_elbo.classifier_num_particles,\n",
    "                config.mt_elbo.latent_num_particles\n",
    "            )\n",
    "            y_pred = (cur_predictive.sample((NUM_PREDICTIVE_SAMPLES, )).mean(dim=0) > 0.5).float()\n",
    "            self.accuracy_computers[i].update(y_pred, y)\n",
    "\n",
    "    def on_validation_epoch_end(self):\n",
    "        for i, accuracy_computer in enumerate(self.accuracy_computers):\n",
    "            self.log(f\"Test/Accuracy_{i}\", accuracy_computer.compute())\n",
    "            accuracy_computer.reset()\n",
    "\n",
    "    def configure_optimizers(self):\n",
    "        return optim.Adam(self.parameters(), lr=1e-3)"
   ]
  },
  {
   "cell_type": "code",
   "execution_count": 21,
   "metadata": {},
   "outputs": [],
   "source": [
    "lit_mt_model = LitMtModel(mt_elbo)"
   ]
  },
  {
   "cell_type": "code",
   "execution_count": 22,
   "metadata": {},
   "outputs": [],
   "source": [
    "# stack task datasets\n",
    "unified_train_dataset = StackDataset(*train_datasets)\n",
    "unified_test_dataset = StackDataset(*test_datasets)\n",
    "\n",
    "mt_train_dataloader = DataLoader(unified_train_dataset, config.batch_size, shuffle=True)\n",
    "mt_test_dataloader = DataLoader(unified_test_dataset, config.batch_size, shuffle=False)"
   ]
  },
  {
   "cell_type": "code",
   "execution_count": 23,
   "metadata": {},
   "outputs": [],
   "source": [
    "logger = TensorBoardLogger(\"mt_logs\", name=\"multitask\")\n",
    "\n",
    "callbacks = [\n",
    "    EarlyStopping(monitor=\"elbo\", min_delta=1e-3, patience=10, mode=\"min\")\n",
    "]"
   ]
  },
  {
   "cell_type": "code",
   "execution_count": 24,
   "metadata": {},
   "outputs": [
    {
     "name": "stderr",
     "output_type": "stream",
     "text": [
      "Using default `ModelCheckpoint`. Consider installing `litmodels` package to enable `LitModelCheckpoint` for automatic upload to the Lightning model registry.\n",
      "GPU available: True (mps), used: False\n",
      "TPU available: False, using: 0 TPU cores\n",
      "HPU available: False, using: 0 HPUs\n",
      "/Users/sem-k32/10 sem/bmm-multitask-learning/.venv/lib/python3.12/site-packages/lightning/pytorch/trainer/setup.py:177: PossibleUserWarning:\n",
      "\n",
      "GPU available but not used. You can set it by doing `Trainer(accelerator='gpu')`.\n",
      "\n",
      "\n",
      "  | Name         | Type          | Params | Mode \n",
      "-------------------------------------------------------\n",
      "0 | mt_elbo      | MultiTaskElbo | 9      | train\n",
      "1 | distr_params | ParameterList | 12     | train\n",
      "-------------------------------------------------------\n",
      "21        Trainable params\n",
      "0         Non-trainable params\n",
      "21        Total params\n",
      "0.000     Total estimated model params size (MB)\n",
      "2         Modules in train mode\n",
      "0         Modules in eval mode\n"
     ]
    },
    {
     "data": {
      "application/vnd.jupyter.widget-view+json": {
       "model_id": "59c64e8eea5a4567a941010196a8c546",
       "version_major": 2,
       "version_minor": 0
      },
      "text/plain": [
       "Sanity Checking: |          | 0/? [00:00<?, ?it/s]"
      ]
     },
     "metadata": {},
     "output_type": "display_data"
    },
    {
     "name": "stderr",
     "output_type": "stream",
     "text": [
      "/Users/sem-k32/10 sem/bmm-multitask-learning/.venv/lib/python3.12/site-packages/lightning/pytorch/trainer/connectors/data_connector.py:425: PossibleUserWarning:\n",
      "\n",
      "The 'val_dataloader' does not have many workers which may be a bottleneck. Consider increasing the value of the `num_workers` argument` to `num_workers=9` in the `DataLoader` to improve performance.\n",
      "\n",
      "/Users/sem-k32/10 sem/bmm-multitask-learning/.venv/lib/python3.12/site-packages/lightning/pytorch/trainer/connectors/data_connector.py:425: PossibleUserWarning:\n",
      "\n",
      "The 'train_dataloader' does not have many workers which may be a bottleneck. Consider increasing the value of the `num_workers` argument` to `num_workers=9` in the `DataLoader` to improve performance.\n",
      "\n"
     ]
    },
    {
     "data": {
      "application/vnd.jupyter.widget-view+json": {
       "model_id": "70a64093fd6c4573aae77da6c6e2ca90",
       "version_major": 2,
       "version_minor": 0
      },
      "text/plain": [
       "Training: |          | 0/? [00:00<?, ?it/s]"
      ]
     },
     "metadata": {},
     "output_type": "display_data"
    },
    {
     "data": {
      "application/vnd.jupyter.widget-view+json": {
       "model_id": "adfc48aa632445f19459330d41c3b1e2",
       "version_major": 2,
       "version_minor": 0
      },
      "text/plain": [
       "Validation: |          | 0/? [00:00<?, ?it/s]"
      ]
     },
     "metadata": {},
     "output_type": "display_data"
    },
    {
     "data": {
      "application/vnd.jupyter.widget-view+json": {
       "model_id": "b63929b3ab9646b688af28b799645a5e",
       "version_major": 2,
       "version_minor": 0
      },
      "text/plain": [
       "Validation: |          | 0/? [00:00<?, ?it/s]"
      ]
     },
     "metadata": {},
     "output_type": "display_data"
    },
    {
     "data": {
      "application/vnd.jupyter.widget-view+json": {
       "model_id": "fe1a039d7e864df2b61ef25777aed2c5",
       "version_major": 2,
       "version_minor": 0
      },
      "text/plain": [
       "Validation: |          | 0/? [00:00<?, ?it/s]"
      ]
     },
     "metadata": {},
     "output_type": "display_data"
    },
    {
     "data": {
      "application/vnd.jupyter.widget-view+json": {
       "model_id": "b8a164d0055b4fb3b059851c02cfe368",
       "version_major": 2,
       "version_minor": 0
      },
      "text/plain": [
       "Validation: |          | 0/? [00:00<?, ?it/s]"
      ]
     },
     "metadata": {},
     "output_type": "display_data"
    },
    {
     "data": {
      "application/vnd.jupyter.widget-view+json": {
       "model_id": "5a9d383103be4ed9a491bdb78e3a5d05",
       "version_major": 2,
       "version_minor": 0
      },
      "text/plain": [
       "Validation: |          | 0/? [00:00<?, ?it/s]"
      ]
     },
     "metadata": {},
     "output_type": "display_data"
    },
    {
     "data": {
      "application/vnd.jupyter.widget-view+json": {
       "model_id": "4e5aef703a1a40d087cfb34d3f55ae20",
       "version_major": 2,
       "version_minor": 0
      },
      "text/plain": [
       "Validation: |          | 0/? [00:00<?, ?it/s]"
      ]
     },
     "metadata": {},
     "output_type": "display_data"
    },
    {
     "data": {
      "application/vnd.jupyter.widget-view+json": {
       "model_id": "6aac3728584b41ef9cb7b3c2892440e9",
       "version_major": 2,
       "version_minor": 0
      },
      "text/plain": [
       "Validation: |          | 0/? [00:00<?, ?it/s]"
      ]
     },
     "metadata": {},
     "output_type": "display_data"
    },
    {
     "data": {
      "application/vnd.jupyter.widget-view+json": {
       "model_id": "323d11d6ae6c4b66986df3f030442983",
       "version_major": 2,
       "version_minor": 0
      },
      "text/plain": [
       "Validation: |          | 0/? [00:00<?, ?it/s]"
      ]
     },
     "metadata": {},
     "output_type": "display_data"
    },
    {
     "data": {
      "application/vnd.jupyter.widget-view+json": {
       "model_id": "7d821d8deb444da08eb3e9fa52951648",
       "version_major": 2,
       "version_minor": 0
      },
      "text/plain": [
       "Validation: |          | 0/? [00:00<?, ?it/s]"
      ]
     },
     "metadata": {},
     "output_type": "display_data"
    },
    {
     "data": {
      "application/vnd.jupyter.widget-view+json": {
       "model_id": "c96bb16f36f3435dacec0c04adf5182d",
       "version_major": 2,
       "version_minor": 0
      },
      "text/plain": [
       "Validation: |          | 0/? [00:00<?, ?it/s]"
      ]
     },
     "metadata": {},
     "output_type": "display_data"
    },
    {
     "data": {
      "application/vnd.jupyter.widget-view+json": {
       "model_id": "a4fc718f8fbe49a9a3dc94d06307845a",
       "version_major": 2,
       "version_minor": 0
      },
      "text/plain": [
       "Validation: |          | 0/? [00:00<?, ?it/s]"
      ]
     },
     "metadata": {},
     "output_type": "display_data"
    },
    {
     "data": {
      "application/vnd.jupyter.widget-view+json": {
       "model_id": "cca2b37a56574fb1936f23565d0eacf6",
       "version_major": 2,
       "version_minor": 0
      },
      "text/plain": [
       "Validation: |          | 0/? [00:00<?, ?it/s]"
      ]
     },
     "metadata": {},
     "output_type": "display_data"
    },
    {
     "data": {
      "application/vnd.jupyter.widget-view+json": {
       "model_id": "feb7bf03dc694e4a954a93c55dc63124",
       "version_major": 2,
       "version_minor": 0
      },
      "text/plain": [
       "Validation: |          | 0/? [00:00<?, ?it/s]"
      ]
     },
     "metadata": {},
     "output_type": "display_data"
    },
    {
     "data": {
      "application/vnd.jupyter.widget-view+json": {
       "model_id": "faed27be09564630a7ef94d8116576e0",
       "version_major": 2,
       "version_minor": 0
      },
      "text/plain": [
       "Validation: |          | 0/? [00:00<?, ?it/s]"
      ]
     },
     "metadata": {},
     "output_type": "display_data"
    },
    {
     "data": {
      "application/vnd.jupyter.widget-view+json": {
       "model_id": "97ca49ee5e4e46bfbc86583eb297ea5e",
       "version_major": 2,
       "version_minor": 0
      },
      "text/plain": [
       "Validation: |          | 0/? [00:00<?, ?it/s]"
      ]
     },
     "metadata": {},
     "output_type": "display_data"
    },
    {
     "data": {
      "application/vnd.jupyter.widget-view+json": {
       "model_id": "d65dd7e40a2f443a9a86875c4ae08d83",
       "version_major": 2,
       "version_minor": 0
      },
      "text/plain": [
       "Validation: |          | 0/? [00:00<?, ?it/s]"
      ]
     },
     "metadata": {},
     "output_type": "display_data"
    },
    {
     "data": {
      "application/vnd.jupyter.widget-view+json": {
       "model_id": "bfa4b2d660b04eab8e80625b18a52eae",
       "version_major": 2,
       "version_minor": 0
      },
      "text/plain": [
       "Validation: |          | 0/? [00:00<?, ?it/s]"
      ]
     },
     "metadata": {},
     "output_type": "display_data"
    },
    {
     "data": {
      "application/vnd.jupyter.widget-view+json": {
       "model_id": "91f97b40a5884aa39b37a82321f672bf",
       "version_major": 2,
       "version_minor": 0
      },
      "text/plain": [
       "Validation: |          | 0/? [00:00<?, ?it/s]"
      ]
     },
     "metadata": {},
     "output_type": "display_data"
    },
    {
     "data": {
      "application/vnd.jupyter.widget-view+json": {
       "model_id": "4904aefc4565473fb0443f20cbed4dbf",
       "version_major": 2,
       "version_minor": 0
      },
      "text/plain": [
       "Validation: |          | 0/? [00:00<?, ?it/s]"
      ]
     },
     "metadata": {},
     "output_type": "display_data"
    },
    {
     "data": {
      "application/vnd.jupyter.widget-view+json": {
       "model_id": "9da72241153c431aa7e9fcb32867a32a",
       "version_major": 2,
       "version_minor": 0
      },
      "text/plain": [
       "Validation: |          | 0/? [00:00<?, ?it/s]"
      ]
     },
     "metadata": {},
     "output_type": "display_data"
    },
    {
     "data": {
      "application/vnd.jupyter.widget-view+json": {
       "model_id": "ce27ae40c2044ca88e6c249e1de3c6f8",
       "version_major": 2,
       "version_minor": 0
      },
      "text/plain": [
       "Validation: |          | 0/? [00:00<?, ?it/s]"
      ]
     },
     "metadata": {},
     "output_type": "display_data"
    },
    {
     "data": {
      "application/vnd.jupyter.widget-view+json": {
       "model_id": "70fb340334ba4d36af070a412e49d41e",
       "version_major": 2,
       "version_minor": 0
      },
      "text/plain": [
       "Validation: |          | 0/? [00:00<?, ?it/s]"
      ]
     },
     "metadata": {},
     "output_type": "display_data"
    },
    {
     "data": {
      "application/vnd.jupyter.widget-view+json": {
       "model_id": "07fbf159c7fc43a19c3603372e775824",
       "version_major": 2,
       "version_minor": 0
      },
      "text/plain": [
       "Validation: |          | 0/? [00:00<?, ?it/s]"
      ]
     },
     "metadata": {},
     "output_type": "display_data"
    },
    {
     "data": {
      "application/vnd.jupyter.widget-view+json": {
       "model_id": "5a6ae186040746958deb45db086dff32",
       "version_major": 2,
       "version_minor": 0
      },
      "text/plain": [
       "Validation: |          | 0/? [00:00<?, ?it/s]"
      ]
     },
     "metadata": {},
     "output_type": "display_data"
    },
    {
     "data": {
      "application/vnd.jupyter.widget-view+json": {
       "model_id": "156555e531244117a282736b1a76c95e",
       "version_major": 2,
       "version_minor": 0
      },
      "text/plain": [
       "Validation: |          | 0/? [00:00<?, ?it/s]"
      ]
     },
     "metadata": {},
     "output_type": "display_data"
    },
    {
     "data": {
      "application/vnd.jupyter.widget-view+json": {
       "model_id": "40e9863b147b40b7811c678b9c06a441",
       "version_major": 2,
       "version_minor": 0
      },
      "text/plain": [
       "Validation: |          | 0/? [00:00<?, ?it/s]"
      ]
     },
     "metadata": {},
     "output_type": "display_data"
    },
    {
     "data": {
      "application/vnd.jupyter.widget-view+json": {
       "model_id": "d36a00c80fba4d5d8fec9e69ba2a552d",
       "version_major": 2,
       "version_minor": 0
      },
      "text/plain": [
       "Validation: |          | 0/? [00:00<?, ?it/s]"
      ]
     },
     "metadata": {},
     "output_type": "display_data"
    },
    {
     "data": {
      "application/vnd.jupyter.widget-view+json": {
       "model_id": "a175b1a9512e4dccb47f429b74b2070b",
       "version_major": 2,
       "version_minor": 0
      },
      "text/plain": [
       "Validation: |          | 0/? [00:00<?, ?it/s]"
      ]
     },
     "metadata": {},
     "output_type": "display_data"
    },
    {
     "data": {
      "application/vnd.jupyter.widget-view+json": {
       "model_id": "60928b7c9ed84ef2b9a769a4198cbe6c",
       "version_major": 2,
       "version_minor": 0
      },
      "text/plain": [
       "Validation: |          | 0/? [00:00<?, ?it/s]"
      ]
     },
     "metadata": {},
     "output_type": "display_data"
    },
    {
     "data": {
      "application/vnd.jupyter.widget-view+json": {
       "model_id": "7129ab53dc6042869a051be185473392",
       "version_major": 2,
       "version_minor": 0
      },
      "text/plain": [
       "Validation: |          | 0/? [00:00<?, ?it/s]"
      ]
     },
     "metadata": {},
     "output_type": "display_data"
    },
    {
     "data": {
      "application/vnd.jupyter.widget-view+json": {
       "model_id": "eec091fad806499fbe57286e6180faea",
       "version_major": 2,
       "version_minor": 0
      },
      "text/plain": [
       "Validation: |          | 0/? [00:00<?, ?it/s]"
      ]
     },
     "metadata": {},
     "output_type": "display_data"
    },
    {
     "data": {
      "application/vnd.jupyter.widget-view+json": {
       "model_id": "7d8d65aeb2354a5aa39f2247883ece7c",
       "version_major": 2,
       "version_minor": 0
      },
      "text/plain": [
       "Validation: |          | 0/? [00:00<?, ?it/s]"
      ]
     },
     "metadata": {},
     "output_type": "display_data"
    },
    {
     "data": {
      "application/vnd.jupyter.widget-view+json": {
       "model_id": "97677f7549ed4e75b130f5707d3cefc9",
       "version_major": 2,
       "version_minor": 0
      },
      "text/plain": [
       "Validation: |          | 0/? [00:00<?, ?it/s]"
      ]
     },
     "metadata": {},
     "output_type": "display_data"
    },
    {
     "data": {
      "application/vnd.jupyter.widget-view+json": {
       "model_id": "060a6ab9a3e74e30926d74c8721a5978",
       "version_major": 2,
       "version_minor": 0
      },
      "text/plain": [
       "Validation: |          | 0/? [00:00<?, ?it/s]"
      ]
     },
     "metadata": {},
     "output_type": "display_data"
    },
    {
     "data": {
      "application/vnd.jupyter.widget-view+json": {
       "model_id": "40ca0539bf854476a516a3efbe132101",
       "version_major": 2,
       "version_minor": 0
      },
      "text/plain": [
       "Validation: |          | 0/? [00:00<?, ?it/s]"
      ]
     },
     "metadata": {},
     "output_type": "display_data"
    },
    {
     "data": {
      "application/vnd.jupyter.widget-view+json": {
       "model_id": "c432062c11d64869983111c6e2619562",
       "version_major": 2,
       "version_minor": 0
      },
      "text/plain": [
       "Validation: |          | 0/? [00:00<?, ?it/s]"
      ]
     },
     "metadata": {},
     "output_type": "display_data"
    },
    {
     "data": {
      "application/vnd.jupyter.widget-view+json": {
       "model_id": "2a63c42b51fc4aeca57956a1369cb426",
       "version_major": 2,
       "version_minor": 0
      },
      "text/plain": [
       "Validation: |          | 0/? [00:00<?, ?it/s]"
      ]
     },
     "metadata": {},
     "output_type": "display_data"
    },
    {
     "data": {
      "application/vnd.jupyter.widget-view+json": {
       "model_id": "3025d59cf6144ea78e6dea355d9bbd3f",
       "version_major": 2,
       "version_minor": 0
      },
      "text/plain": [
       "Validation: |          | 0/? [00:00<?, ?it/s]"
      ]
     },
     "metadata": {},
     "output_type": "display_data"
    },
    {
     "data": {
      "application/vnd.jupyter.widget-view+json": {
       "model_id": "18d818bd866a4ad7a9411682a2a4d894",
       "version_major": 2,
       "version_minor": 0
      },
      "text/plain": [
       "Validation: |          | 0/? [00:00<?, ?it/s]"
      ]
     },
     "metadata": {},
     "output_type": "display_data"
    },
    {
     "data": {
      "application/vnd.jupyter.widget-view+json": {
       "model_id": "d391294ac4f240de9099dd1e717d5295",
       "version_major": 2,
       "version_minor": 0
      },
      "text/plain": [
       "Validation: |          | 0/? [00:00<?, ?it/s]"
      ]
     },
     "metadata": {},
     "output_type": "display_data"
    },
    {
     "name": "stderr",
     "output_type": "stream",
     "text": [
      "`Trainer.fit` stopped: `max_epochs=40` reached.\n"
     ]
    }
   ],
   "source": [
    "trainer = L.Trainer(logger=logger, callbacks=callbacks, **dict(config.trainer))\n",
    "trainer.fit(lit_mt_model, mt_train_dataloader, mt_test_dataloader)"
   ]
  },
  {
   "cell_type": "markdown",
   "metadata": {},
   "source": [
    "Metrics are saved in the tensorboard"
   ]
  },
  {
   "cell_type": "code",
   "execution_count": 26,
   "metadata": {},
   "outputs": [
    {
     "data": {
      "text/plain": [
       "Reusing TensorBoard on port 6008 (pid 35966), started 0:00:03 ago. (Use '!kill 35966' to kill it.)"
      ]
     },
     "metadata": {},
     "output_type": "display_data"
    },
    {
     "data": {
      "text/html": [
       "\n",
       "      <iframe id=\"tensorboard-frame-d2e3bc89132a6fc3\" width=\"100%\" height=\"800\" frameborder=\"0\">\n",
       "      </iframe>\n",
       "      <script>\n",
       "        (function() {\n",
       "          const frame = document.getElementById(\"tensorboard-frame-d2e3bc89132a6fc3\");\n",
       "          const url = new URL(\"http://localhost\");\n",
       "          const port = 6008;\n",
       "          if (port) {\n",
       "            url.port = port;\n",
       "          }\n",
       "          frame.src = url;\n",
       "        })();\n",
       "      </script>\n",
       "    "
      ],
      "text/plain": [
       "<IPython.core.display.HTML object>"
      ]
     },
     "metadata": {},
     "output_type": "display_data"
    }
   ],
   "source": [
    "%tensorboard --logdir mt_logs/multitask"
   ]
  },
  {
   "cell_type": "markdown",
   "metadata": {},
   "source": [
    "As we can see, the training is successful. From the vizualized classifier mixing paramters it is clear that the algorithm has found connection between task 1 and 2."
   ]
  },
  {
   "cell_type": "markdown",
   "metadata": {},
   "source": [
    "## Solo and multitask comparasion"
   ]
  },
  {
   "cell_type": "markdown",
   "metadata": {},
   "source": [
    "Final accuracy metrics are equal within the error margin for solo and multitask models. Because the tasks are simple and synthetic, we have not seen the performance difference. But for more serious tasks with possible probabilistic connections the variational multitask may give significant boost."
   ]
  }
 ],
 "metadata": {
  "kernelspec": {
   "display_name": ".venv",
   "language": "python",
   "name": "python3"
  },
  "language_info": {
   "codemirror_mode": {
    "name": "ipython",
    "version": 3
   },
   "file_extension": ".py",
   "mimetype": "text/x-python",
   "name": "python",
   "nbconvert_exporter": "python",
   "pygments_lexer": "ipython3",
   "version": "3.12.10"
  }
 },
 "nbformat": 4,
 "nbformat_minor": 2
}
